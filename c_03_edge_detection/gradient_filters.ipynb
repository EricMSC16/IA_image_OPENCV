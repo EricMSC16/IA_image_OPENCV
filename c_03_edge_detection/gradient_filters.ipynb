{
 "cells": [
  {
   "cell_type": "markdown",
   "metadata": {},
   "source": [
    "# Gradient filters\n",
    "[![Open In Colab](https://colab.research.google.com/assets/colab-badge.svg)](https://colab.research.google.com/github/YoniChechik/AI_is_Math/blob/master/c_03_edge_detection/gradient_filters.ipynb)\n",
    "\n"
   ]
  },
  {
   "cell_type": "code",
   "execution_count": 1,
   "metadata": {
    "execution": {
     "iopub.execute_input": "2021-09-11T12:05:59.985050Z",
     "iopub.status.busy": "2021-09-11T12:05:59.985050Z",
     "iopub.status.idle": "2021-09-11T12:06:00.000678Z",
     "shell.execute_reply": "2021-09-11T12:06:00.000678Z"
    }
   },
   "outputs": [],
   "source": [
    "# to run in google colab\n",
    "import sys\n",
    "if 'google.colab' in sys.modules:\n",
    "    import subprocess\n",
    "    subprocess.call('apt-get install subversion'.split())\n",
    "    subprocess.call('svn export https://github.com/YoniChechik/AI_is_Math/trunk/c_03_edge_detection/Bikesgray.jpg'.split())\n",
    "\n",
    "\n"
   ]
  },
  {
   "cell_type": "code",
   "execution_count": 2,
   "metadata": {
    "execution": {
     "iopub.execute_input": "2021-09-11T12:06:00.000678Z",
     "iopub.status.busy": "2021-09-11T12:06:00.000678Z",
     "iopub.status.idle": "2021-09-11T12:06:00.455555Z",
     "shell.execute_reply": "2021-09-11T12:06:00.455555Z"
    }
   },
   "outputs": [],
   "source": [
    "import numpy as np\n",
    "import cv2\n",
    "from matplotlib import pyplot as plt\n",
    "\n",
    "figsize = (10,10)\n",
    "\n"
   ]
  },
  {
   "cell_type": "markdown",
   "metadata": {},
   "source": [
    "## Original image\n"
   ]
  },
  {
   "cell_type": "code",
   "execution_count": 3,
   "metadata": {
    "execution": {
     "iopub.execute_input": "2021-09-11T12:06:00.455555Z",
     "iopub.status.busy": "2021-09-11T12:06:00.455555Z",
     "iopub.status.idle": "2021-09-11T12:06:00.654384Z",
     "shell.execute_reply": "2021-09-11T12:06:00.654384Z"
    }
   },
   "outputs": [
    {
     "data": {
      "text/plain": [
       "Text(0.5, 1.0, 'Original image')"
      ]
     },
     "execution_count": 3,
     "metadata": {},
     "output_type": "execute_result"
    }
   ],
   "source": [
    "img = cv2.imread(\"Bikesgray.jpg\")\n",
    "img = cv2.cvtColor(img, cv2.COLOR_BGR2GRAY)\n",
    "plt.figure(figsize=figsize)\n",
    "plt.imshow(img, cmap='gray', vmin=0, vmax=255)\n",
    "plt.title('Original image')\n",
    "\n"
   ]
  },
  {
   "cell_type": "markdown",
   "metadata": {},
   "source": [
    "## X absolute grad filter\n"
   ]
  },
  {
   "cell_type": "code",
   "execution_count": 4,
   "metadata": {
    "execution": {
     "iopub.execute_input": "2021-09-11T12:06:00.659413Z",
     "iopub.status.busy": "2021-09-11T12:06:00.659413Z",
     "iopub.status.idle": "2021-09-11T12:06:01.109571Z",
     "shell.execute_reply": "2021-09-11T12:06:01.109571Z"
    }
   },
   "outputs": [
    {
     "name": "stdout",
     "output_type": "stream",
     "text": [
      "kernel shape is (1, 3)\n"
     ]
    }
   ],
   "source": [
    "img = img.astype(float)  # 'uint8' doesn't work with minus sign - for filtering\n",
    "\n",
    "# 1. cv2.filter2D is working with corelation rether than convolution\n",
    "#    no need to flip the kernel\n",
    "# 2. Notice that kernel is 2D array - if 1d than we will get a column vector convolution\n",
    "kernel = np.array([[-1, 0, +1]])\n",
    "dst = cv2.filter2D(img, -1, kernel)\n",
    "\n",
    "plt.figure(figsize=figsize)\n",
    "plt.imshow(np.abs(dst), cmap='gray')\n",
    "plt.colorbar()\n",
    "plt.title('$f\\'_x$: image filtered with '+str(kernel))\n",
    "\n",
    "print(\"kernel shape is \"+str(kernel.shape))\n",
    "\n"
   ]
  },
  {
   "cell_type": "markdown",
   "metadata": {},
   "source": [
    "## Y grad filter (no abs)\n"
   ]
  },
  {
   "cell_type": "code",
   "execution_count": 5,
   "metadata": {
    "execution": {
     "iopub.execute_input": "2021-09-11T12:06:01.113571Z",
     "iopub.status.busy": "2021-09-11T12:06:01.113571Z",
     "iopub.status.idle": "2021-09-11T12:06:01.253572Z",
     "shell.execute_reply": "2021-09-11T12:06:01.254573Z"
    }
   },
   "outputs": [
    {
     "data": {
      "text/plain": [
       "Text(0.5, 1.0, \"$f'_y$: image filtered with\\n [[-1]\\n [ 0]\\n [ 1]]\")"
      ]
     },
     "execution_count": 5,
     "metadata": {},
     "output_type": "execute_result"
    }
   ],
   "source": [
    "kernel = np.array([[-1, 0, +1]]).T\n",
    "dst = cv2.filter2D(img, -1, kernel)\n",
    "\n",
    "plt.figure(figsize=figsize)\n",
    "plt.imshow(dst, cmap='gray')\n",
    "plt.colorbar()\n",
    "plt.title('$f\\'_y$: image filtered with\\n '+str(kernel))\n",
    "\n",
    "\n"
   ]
  },
  {
   "cell_type": "markdown",
   "metadata": {},
   "source": [
    "## Comparison of x gradient filters\n"
   ]
  },
  {
   "cell_type": "code",
   "execution_count": 6,
   "metadata": {
    "execution": {
     "iopub.execute_input": "2021-09-11T12:06:01.272650Z",
     "iopub.status.busy": "2021-09-11T12:06:01.272650Z",
     "iopub.status.idle": "2021-09-11T12:06:01.846319Z",
     "shell.execute_reply": "2021-09-11T12:06:01.845282Z"
    }
   },
   "outputs": [
    {
     "data": {
      "text/plain": [
       "Text(0.5, 1.0, '|symmetric-prewitt|')"
      ]
     },
     "execution_count": 6,
     "metadata": {},
     "output_type": "execute_result"
    }
   ],
   "source": [
    "plt.rcParams['figure.figsize'] = [20, 20]\n",
    "\n",
    "plt.subplot(4, 2, 1)\n",
    "plt.imshow(img, cmap='gray', vmin=0, vmax=255)\n",
    "plt.title('original image')\n",
    "\n",
    "#######################################\n",
    "kernel = 1/2*np.array([[-1, 0, +1]])\n",
    "dst_sym = cv2.filter2D(img, -1, kernel)\n",
    "\n",
    "plt.subplot(4, 2, 2)\n",
    "plt.imshow(dst_sym, cmap='gray')\n",
    "plt.title('$f\\'_x$: image filtered with symmetric derivative')\n",
    "\n",
    "#######################################\n",
    "kernel = 1/6*np.array([\n",
    "    [-1, 0, +1],\n",
    "    [-1, 0, +1],\n",
    "    [-1, 0, +1]])\n",
    "dst_prewitt = cv2.filter2D(img, -1, kernel)\n",
    "\n",
    "plt.subplot(4, 2, 3)\n",
    "plt.imshow(dst_prewitt, cmap='gray')\n",
    "plt.title('$f\\'_x$: image filtered with Prewitt')\n",
    "\n",
    "#######################################\n",
    "# cv2.Sobel() also exist\n",
    "kernel = 1/8*np.array([\n",
    "    [-1, 0, +1],\n",
    "    [-2, 0, +2],\n",
    "    [-1, 0, +1]])\n",
    "dst_sobel = cv2.filter2D(img, -1, kernel)\n",
    "\n",
    "plt.subplot(4, 2, 4)\n",
    "plt.imshow(dst_sobel, cmap='gray')\n",
    "plt.title('$f\\'_x$: image filtered with Sobel')\n",
    "\n",
    "#######################################\n",
    "dst_cv2_sobel = cv2.Sobel(img, -1, 1, 0)  #cv2.Sobel(img,ddepth,x_size,y_size)\n",
    "\n",
    "plt.subplot(4, 2, 5)\n",
    "plt.imshow(dst_cv2_sobel, cmap='gray')\n",
    "plt.colorbar()\n",
    "plt.title('cv2.Sobel X')\n",
    "\n",
    "#######################################\n",
    "plt.subplot(4, 2, 6)\n",
    "plt.imshow(np.abs(dst_sobel-dst_sym))\n",
    "plt.colorbar()\n",
    "plt.title('|sobel-symmetric|')\n",
    "\n",
    "#######################################\n",
    "plt.subplot(4, 2, 7)\n",
    "plt.imshow(np.abs(dst_sobel-dst_prewitt))\n",
    "plt.colorbar()\n",
    "plt.title('|sobel-prewitt|')\n",
    "\n",
    "#######################################\n",
    "plt.subplot(4, 2, 8)\n",
    "plt.imshow(np.abs(dst_sym-dst_prewitt)) \n",
    "plt.colorbar()\n",
    "plt.title('|symmetric-prewitt|')\n"
   ]
  },
  {
   "cell_type": "markdown",
   "metadata": {},
   "source": [
    "## Filtering common errors\n",
    "### kernel dimension error\n",
    "Note that you need to use a 2D array for a horizontal kernel!\n"
   ]
  },
  {
   "cell_type": "code",
   "execution_count": 7,
   "metadata": {
    "execution": {
     "iopub.execute_input": "2021-09-11T12:06:01.850281Z",
     "iopub.status.busy": "2021-09-11T12:06:01.849282Z",
     "iopub.status.idle": "2021-09-11T12:06:01.987821Z",
     "shell.execute_reply": "2021-09-11T12:06:01.987821Z"
    }
   },
   "outputs": [
    {
     "name": "stdout",
     "output_type": "stream",
     "text": [
      "kernel shape is (3,)\n"
     ]
    }
   ],
   "source": [
    "\n",
    "kernel = np.array([-1, 0, +1])\n",
    "dst = cv2.filter2D(img, -1, kernel)\n",
    "\n",
    "plt.figure(figsize=figsize)\n",
    "plt.imshow(np.abs(dst), cmap='gray')\n",
    "plt.colorbar()\n",
    "plt.title('wrong kernel dim: '+str(kernel))\n",
    "\n",
    "print(\"kernel shape is \"+str(kernel.shape))\n",
    "\n"
   ]
  },
  {
   "cell_type": "markdown",
   "metadata": {},
   "source": [
    "### uint8 errors\n",
    "Wrong filtering when keeping uint8 instead of float, because uint8 doesn't have negative numbers...\n"
   ]
  },
  {
   "cell_type": "code",
   "execution_count": 8,
   "metadata": {
    "execution": {
     "iopub.execute_input": "2021-09-11T12:06:02.019819Z",
     "iopub.status.busy": "2021-09-11T12:06:01.992820Z",
     "iopub.status.idle": "2021-09-11T12:06:02.179948Z",
     "shell.execute_reply": "2021-09-11T12:06:02.179948Z"
    }
   },
   "outputs": [],
   "source": [
    "uint8_img = np.zeros((500, 500), dtype=np.uint8)\n",
    "uint8_img[200:300, 200:300] = 1\n",
    "\n",
    "kernel = np.array([[-1, 0, +1]])\n",
    "dst = cv2.filter2D(uint8_img, -1, kernel)\n",
    "\n",
    "fig, axs = plt.subplots(1, 2, figsize=(20,20))\n",
    "axs[0].imshow(uint8_img, cmap='gray')\n",
    "axs[0].title.set_text('original image')\n",
    "axs[1].imshow(dst, cmap='gray')\n",
    "axs[1].title.set_text('uint8 WRONG filtering')\n",
    "\n"
   ]
  }
 ],
 "metadata": {
  "language_info": {
   "codemirror_mode": {
    "name": "ipython",
    "version": 3
   },
   "file_extension": ".py",
   "mimetype": "text/x-python",
   "name": "python",
   "nbconvert_exporter": "python",
   "pygments_lexer": "ipython3",
   "version": "3.8.11"
  }
 },
 "nbformat": 4,
 "nbformat_minor": 2
}
