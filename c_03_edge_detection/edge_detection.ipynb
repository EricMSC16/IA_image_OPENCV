{
 "cells": [
  {
   "cell_type": "markdown",
   "metadata": {},
   "source": [
    "# Edge detection\n",
    "[![Open In Colab](https://colab.research.google.com/assets/colab-badge.svg)](https://colab.research.google.com/github/YoniChechik/AI_is_Math/blob/master/c_03_edge_detection/edge_detection.ipynb)\n",
    "\n"
   ]
  },
  {
   "cell_type": "code",
   "execution_count": 1,
   "metadata": {
    "execution": {
     "iopub.execute_input": "2021-09-11T12:05:49.288521Z",
     "iopub.status.busy": "2021-09-11T12:05:49.287483Z",
     "iopub.status.idle": "2021-09-11T12:05:49.629770Z",
     "shell.execute_reply": "2021-09-11T12:05:49.628736Z"
    }
   },
   "outputs": [],
   "source": [
    "# to run in google colab\n",
    "import sys\n",
    "\n",
    "if \"google.colab\" in sys.modules:\n",
    "    import subprocess\n",
    "\n",
    "    subprocess.call(\"apt-get install subversion\".split())\n",
    "    subprocess.call(\n",
    "        \"svn export https://github.com/YoniChechik/AI_is_Math/trunk/c_03_edge_detection/Bikesgray.jpg\".split()\n",
    "    )\n",
    "\n",
    "# save plotly as html frames\n",
    "import plotly.io as pio\n",
    "\n",
    "if (pio.renderers.default != \"vscode\") & (pio.renderers.default != \"colab\"):\n",
    "    pio.renderers.default = \"iframe_connected\"\n"
   ]
  },
  {
   "cell_type": "code",
   "execution_count": 2,
   "metadata": {
    "execution": {
     "iopub.execute_input": "2021-09-11T12:05:49.632734Z",
     "iopub.status.busy": "2021-09-11T12:05:49.632734Z",
     "iopub.status.idle": "2021-09-11T12:05:50.429372Z",
     "shell.execute_reply": "2021-09-11T12:05:50.429372Z"
    }
   },
   "outputs": [],
   "source": [
    "import numpy as np\n",
    "import cv2\n",
    "from matplotlib import pyplot as plt\n",
    "import plotly.express as px\n",
    "\n",
    "figsize = (10, 10)\n",
    "\n"
   ]
  },
  {
   "cell_type": "markdown",
   "metadata": {},
   "source": [
    "## Original image\n"
   ]
  },
  {
   "cell_type": "code",
   "execution_count": 3,
   "metadata": {
    "execution": {
     "iopub.execute_input": "2021-09-11T12:05:50.433373Z",
     "iopub.status.busy": "2021-09-11T12:05:50.432371Z",
     "iopub.status.idle": "2021-09-11T12:05:50.575646Z",
     "shell.execute_reply": "2021-09-11T12:05:50.575646Z"
    }
   },
   "outputs": [
    {
     "data": {
      "text/plain": [
       "Text(0.5, 1.0, 'Original image')"
      ]
     },
     "execution_count": 3,
     "metadata": {},
     "output_type": "execute_result"
    }
   ],
   "source": [
    "img = cv2.imread(\"Bikesgray.jpg\")\n",
    "img = cv2.cvtColor(img, cv2.COLOR_BGR2GRAY)\n",
    "plt.figure(figsize=figsize)\n",
    "plt.imshow(img, cmap=\"gray\", vmin=0, vmax=255)\n",
    "plt.title(\"Original image\")\n",
    "\n",
    "\n"
   ]
  },
  {
   "cell_type": "markdown",
   "metadata": {},
   "source": [
    "## Magnitude and phase images\n",
    "\n"
   ]
  },
  {
   "cell_type": "code",
   "execution_count": 4,
   "metadata": {
    "execution": {
     "iopub.execute_input": "2021-09-11T12:05:50.575646Z",
     "iopub.status.busy": "2021-09-11T12:05:50.575646Z",
     "iopub.status.idle": "2021-09-11T12:05:51.424297Z",
     "shell.execute_reply": "2021-09-11T12:05:51.423265Z"
    }
   },
   "outputs": [
    {
     "data": {
      "text/html": [
       "<iframe\n",
       "    scrolling=\"no\"\n",
       "    width=\"100%\"\n",
       "    height=\"545px\"\n",
       "    src=\"iframe_figures/figure_4.html\"\n",
       "    frameborder=\"0\"\n",
       "    allowfullscreen\n",
       "></iframe>\n"
      ]
     },
     "metadata": {},
     "output_type": "display_data"
    }
   ],
   "source": [
    "img = img.astype(float)\n",
    "\n",
    "kernel = 1 / 8 * np.array([[-1, 0, +1], [-2, 0, +2], [-1, 0, +1]])\n",
    "sobel_x = cv2.filter2D(img, -1, kernel)\n",
    "\n",
    "kernel = kernel.T\n",
    "sobel_y = cv2.filter2D(img, -1, kernel)\n",
    "\n",
    "mag_img = np.sqrt(sobel_x ** 2 + sobel_y ** 2)\n",
    "\n",
    "phase_img = cv2.phase(sobel_x, -sobel_y, angleInDegrees=True)\n",
    "\n",
    "phase_img_masked = -100 * np.ones(phase_img.shape)\n",
    "TH_PRC = 0.15\n",
    "th = mag_img.max() * TH_PRC\n",
    "phase_img_masked = phase_img_masked * (mag_img <= th) + phase_img * (mag_img > th)\n",
    "\n",
    "\n",
    "px.imshow(mag_img, title=\"Gradient magnitude\")\n"
   ]
  },
  {
   "cell_type": "code",
   "execution_count": 5,
   "metadata": {
    "execution": {
     "iopub.execute_input": "2021-09-11T12:05:51.426327Z",
     "iopub.status.busy": "2021-09-11T12:05:51.426327Z",
     "iopub.status.idle": "2021-09-11T12:05:51.582583Z",
     "shell.execute_reply": "2021-09-11T12:05:51.582583Z"
    }
   },
   "outputs": [
    {
     "data": {
      "text/html": [
       "<iframe\n",
       "    scrolling=\"no\"\n",
       "    width=\"100%\"\n",
       "    height=\"545px\"\n",
       "    src=\"iframe_figures/figure_5.html\"\n",
       "    frameborder=\"0\"\n",
       "    allowfullscreen\n",
       "></iframe>\n"
      ]
     },
     "metadata": {},
     "output_type": "display_data"
    }
   ],
   "source": [
    "px.imshow(phase_img_masked, title=\"Gradient phase thresholeded\")\n",
    "\n"
   ]
  },
  {
   "cell_type": "markdown",
   "metadata": {},
   "source": [
    "## Edge thinning\n",
    "### LoG filter\n",
    "One way to implement edge thinning is to use LoG and then zero crossing finder.\n",
    "Below is an example of abs LoG. Look at the handlebar to see the zero crossings.\n"
   ]
  },
  {
   "cell_type": "code",
   "execution_count": 6,
   "metadata": {
    "execution": {
     "iopub.execute_input": "2021-09-11T12:05:51.582583Z",
     "iopub.status.busy": "2021-09-11T12:05:51.582583Z",
     "iopub.status.idle": "2021-09-11T12:05:51.723206Z",
     "shell.execute_reply": "2021-09-11T12:05:51.723206Z"
    }
   },
   "outputs": [
    {
     "data": {
      "text/html": [
       "<iframe\n",
       "    scrolling=\"no\"\n",
       "    width=\"100%\"\n",
       "    height=\"545px\"\n",
       "    src=\"iframe_figures/figure_6.html\"\n",
       "    frameborder=\"0\"\n",
       "    allowfullscreen\n",
       "></iframe>\n"
      ]
     },
     "metadata": {},
     "output_type": "display_data"
    }
   ],
   "source": [
    "kernel = np.array([[-1, -1, -1], [-1, 8, -1], [-1, -1, -1]])\n",
    "dst_LoG = cv2.filter2D(img, -1, kernel)\n",
    "\n",
    "px.imshow(np.abs(dst_LoG), title=\"abs LoG\")\n",
    "\n"
   ]
  },
  {
   "cell_type": "markdown",
   "metadata": {},
   "source": [
    "## NMS\n",
    "Non maximum suppression (NMS) is another way for edge thinning.\n",
    "### NMS preliminary step: Quantizing the phase image\n",
    "\n"
   ]
  },
  {
   "cell_type": "code",
   "execution_count": 7,
   "metadata": {
    "execution": {
     "iopub.execute_input": "2021-09-11T12:05:51.723206Z",
     "iopub.status.busy": "2021-09-11T12:05:51.723206Z",
     "iopub.status.idle": "2021-09-11T12:05:52.842470Z",
     "shell.execute_reply": "2021-09-11T12:05:52.842470Z"
    }
   },
   "outputs": [
    {
     "data": {
      "text/html": [
       "<iframe\n",
       "    scrolling=\"no\"\n",
       "    width=\"100%\"\n",
       "    height=\"545px\"\n",
       "    src=\"iframe_figures/figure_7.html\"\n",
       "    frameborder=\"0\"\n",
       "    allowfullscreen\n",
       "></iframe>\n"
      ]
     },
     "metadata": {},
     "output_type": "display_data"
    }
   ],
   "source": [
    "phase_img_q = phase_img.copy()\n",
    "for i in range(mag_img.shape[0]):\n",
    "    for j in range(mag_img.shape[1]):\n",
    "        phase_img_q[i, j] = np.mod(phase_img_q[i, j] + 22.5, 180)\n",
    "        phase_img_q[i, j] = (phase_img_q[i, j]) // 45  # integer devider\n",
    "\n",
    "phase_img_q_masked = -1 * np.ones(phase_img.shape)\n",
    "TH_PRC = 0.1\n",
    "th = mag_img.max() * TH_PRC\n",
    "phase_img_q_masked = phase_img_q_masked * (mag_img <= th) + phase_img_q * (mag_img > th)\n",
    "\n",
    "px.imshow(phase_img_q_masked, title=\"Gradient phase- quantized and thresholded\")\n",
    "\n",
    "\n"
   ]
  },
  {
   "cell_type": "markdown",
   "metadata": {},
   "source": [
    "### NMS main step\n",
    "\n"
   ]
  },
  {
   "cell_type": "code",
   "execution_count": 8,
   "metadata": {
    "execution": {
     "iopub.execute_input": "2021-09-11T12:05:52.842470Z",
     "iopub.status.busy": "2021-09-11T12:05:52.842470Z",
     "iopub.status.idle": "2021-09-11T12:05:53.674833Z",
     "shell.execute_reply": "2021-09-11T12:05:53.674833Z"
    }
   },
   "outputs": [
    {
     "data": {
      "text/html": [
       "<iframe\n",
       "    scrolling=\"no\"\n",
       "    width=\"100%\"\n",
       "    height=\"545px\"\n",
       "    src=\"iframe_figures/figure_8.html\"\n",
       "    frameborder=\"0\"\n",
       "    allowfullscreen\n",
       "></iframe>\n"
      ]
     },
     "metadata": {},
     "output_type": "display_data"
    }
   ],
   "source": [
    "nms = mag_img.copy()\n",
    "\n",
    "for i in range(1, mag_img.shape[0] - 1):\n",
    "    for j in range(1, mag_img.shape[1] - 1):\n",
    "        if phase_img_q[i, j] == 0 and (mag_img[i, j + 1] > mag_img[i, j] or mag_img[i, j - 1] > mag_img[i, j]):\n",
    "            nms[i, j] = -50\n",
    "        if phase_img_q[i, j] == 1 and (mag_img[i + 1, j - 1] > mag_img[i, j] or mag_img[i - 1, j + 1] > mag_img[i, j]):\n",
    "            nms[i, j] = -50\n",
    "        if phase_img_q[i, j] == 2 and (mag_img[i - 1, j] > mag_img[i, j] or mag_img[i + 1, j] > mag_img[i, j]):\n",
    "            nms[i, j] = -50\n",
    "        if phase_img_q[i, j] == 3 and (mag_img[i - 1, j - 1] > mag_img[i, j] or mag_img[i + 1, j + 1] > mag_img[i, j]):\n",
    "            nms[i, j] = -50\n",
    "\n",
    "px.imshow(nms, title=\"NMS\")\n",
    "\n"
   ]
  },
  {
   "cell_type": "markdown",
   "metadata": {},
   "source": [
    "## double TH\n",
    "\n"
   ]
  },
  {
   "cell_type": "code",
   "execution_count": 9,
   "metadata": {
    "execution": {
     "iopub.execute_input": "2021-09-11T12:05:53.674833Z",
     "iopub.status.busy": "2021-09-11T12:05:53.674833Z",
     "iopub.status.idle": "2021-09-11T12:05:53.784504Z",
     "shell.execute_reply": "2021-09-11T12:05:53.784504Z"
    }
   },
   "outputs": [
    {
     "data": {
      "text/html": [
       "<iframe\n",
       "    scrolling=\"no\"\n",
       "    width=\"100%\"\n",
       "    height=\"545px\"\n",
       "    src=\"iframe_figures/figure_9.html\"\n",
       "    frameborder=\"0\"\n",
       "    allowfullscreen\n",
       "></iframe>\n"
      ]
     },
     "metadata": {},
     "output_type": "display_data"
    }
   ],
   "source": [
    "nms_th = np.zeros(nms.shape)\n",
    "TH_l = 3\n",
    "TH_h = 13\n",
    "nms_th[nms >= TH_h] = 2\n",
    "nms_th[np.bitwise_and(TH_l <= nms, nms < TH_h)] = 1\n",
    "\n",
    "px.imshow(nms_th, title=\"double TH\")\n",
    "\n"
   ]
  },
  {
   "cell_type": "markdown",
   "metadata": {},
   "source": [
    "## Iterative hysteresis\n",
    "We will do the iterative process with connected components (CC):\n",
    "1. Take a mask of combined weak and strong edges and run CC algorithm on it.\n",
    "2. For each such CC group- test if there is intersection with ONLY strong edges mask.\n",
    "3. If intersection exist, then weak edges in CC group is actually strong edges, so unite the masks.\n",
    "\n"
   ]
  },
  {
   "cell_type": "code",
   "execution_count": 10,
   "metadata": {
    "execution": {
     "iopub.execute_input": "2021-09-11T12:05:53.784504Z",
     "iopub.status.busy": "2021-09-11T12:05:53.784504Z",
     "iopub.status.idle": "2021-09-11T12:05:56.484393Z",
     "shell.execute_reply": "2021-09-11T12:05:56.484393Z"
    }
   },
   "outputs": [
    {
     "data": {
      "text/html": [
       "<iframe\n",
       "    scrolling=\"no\"\n",
       "    width=\"100%\"\n",
       "    height=\"545px\"\n",
       "    src=\"iframe_figures/figure_10.html\"\n",
       "    frameborder=\"0\"\n",
       "    allowfullscreen\n",
       "></iframe>\n"
      ]
     },
     "metadata": {},
     "output_type": "display_data"
    }
   ],
   "source": [
    "\n",
    "nms_weak_and_strong = np.zeros(nms_th.shape, dtype=bool)\n",
    "nms_strong = np.zeros(nms_th.shape, dtype=bool)\n",
    "\n",
    "nms_weak_and_strong[nms_th > 0] = 1\n",
    "nms_strong[nms_th == 2] = 1\n",
    "\n",
    "num_w_s_CCs, w_s_CC_mask = cv2.connectedComponents(nms_weak_and_strong.astype(np.uint8))\n",
    "\n",
    "# for each CC group of weak and strong edge mask\n",
    "for w_s_CC_i in range(1, num_w_s_CCs):\n",
    "\n",
    "    # get MASK of weak_and_strong edge from index w_s_CC_i\n",
    "    w_s_CC_mask_i = np.zeros(nms_th.shape, dtype=bool)\n",
    "    w_s_CC_mask_i[w_s_CC_mask == w_s_CC_i] = 1\n",
    "\n",
    "    # if w_s_CC_mask_i has intersection with strong edges mask, add to strong edge mask\n",
    "    if np.any(np.bitwise_and(w_s_CC_mask_i, nms_strong)):\n",
    "        nms_strong = np.bitwise_or(w_s_CC_mask_i, nms_strong)\n",
    "\n",
    "px.imshow(nms_strong, title=\"Canny final result\")\n",
    "\n"
   ]
  },
  {
   "cell_type": "markdown",
   "metadata": {},
   "source": [
    "## cv2 Canny\n",
    "let's see the results from the default canny of cv2\n"
   ]
  },
  {
   "cell_type": "code",
   "execution_count": 11,
   "metadata": {
    "execution": {
     "iopub.execute_input": "2021-09-11T12:05:56.484393Z",
     "iopub.status.busy": "2021-09-11T12:05:56.484393Z",
     "iopub.status.idle": "2021-09-11T12:05:56.578146Z",
     "shell.execute_reply": "2021-09-11T12:05:56.578146Z"
    }
   },
   "outputs": [
    {
     "data": {
      "text/html": [
       "<iframe\n",
       "    scrolling=\"no\"\n",
       "    width=\"100%\"\n",
       "    height=\"545px\"\n",
       "    src=\"iframe_figures/figure_11.html\"\n",
       "    frameborder=\"0\"\n",
       "    allowfullscreen\n",
       "></iframe>\n"
      ]
     },
     "metadata": {},
     "output_type": "display_data"
    }
   ],
   "source": [
    "res = cv2.Canny(img.astype(np.uint8), 105, 120)\n",
    "px.imshow(res, title=\"cv2.Canny final result\")\n"
   ]
  }
 ],
 "metadata": {
  "language_info": {
   "codemirror_mode": {
    "name": "ipython",
    "version": 3
   },
   "file_extension": ".py",
   "mimetype": "text/x-python",
   "name": "python",
   "nbconvert_exporter": "python",
   "pygments_lexer": "ipython3",
   "version": "3.8.11"
  }
 },
 "nbformat": 4,
 "nbformat_minor": 2
}
