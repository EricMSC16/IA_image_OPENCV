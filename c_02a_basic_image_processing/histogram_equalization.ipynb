{
 "cells": [
  {
   "cell_type": "markdown",
   "metadata": {},
   "source": [
    "# Histogram equalization\n",
    "[![Open In Colab](https://colab.research.google.com/assets/colab-badge.svg)](https://colab.research.google.com/github/YoniChechik/AI_is_Math/blob/master/c_02a_basic_image_processing/histogram_equalization.ipynb)\n",
    "\n"
   ]
  },
  {
   "cell_type": "code",
   "execution_count": 1,
   "metadata": {
    "execution": {
     "iopub.execute_input": "2021-10-15T10:44:40.361908Z",
     "iopub.status.busy": "2021-10-15T10:44:40.361908Z",
     "iopub.status.idle": "2021-10-15T10:44:40.371960Z",
     "shell.execute_reply": "2021-10-15T10:44:40.371960Z"
    }
   },
   "outputs": [],
   "source": [
    "# to run in google colab\n",
    "import sys\n",
    "if 'google.colab' in sys.modules:\n",
    "    import subprocess\n",
    "    subprocess.call('apt-get install subversion'.split())\n",
    "    subprocess.call('svn export https://github.com/YoniChechik/AI_is_Math/trunk/c_02a_basic_image_processing/Unequalized_Hawkes_Bay_NZ.jpg'.split())\n",
    "\n"
   ]
  },
  {
   "cell_type": "code",
   "execution_count": 2,
   "metadata": {
    "execution": {
     "iopub.execute_input": "2021-10-15T10:44:40.371960Z",
     "iopub.status.busy": "2021-10-15T10:44:40.371960Z",
     "iopub.status.idle": "2021-10-15T10:44:40.806407Z",
     "shell.execute_reply": "2021-10-15T10:44:40.806407Z"
    }
   },
   "outputs": [],
   "source": [
    "import numpy as np\n",
    "import matplotlib.pyplot as plt\n",
    "import cv2\n",
    "\n",
    "figsize = (10,10)\n"
   ]
  },
  {
   "cell_type": "markdown",
   "metadata": {},
   "source": [
    "First, read the image as grayscale\n",
    "\n"
   ]
  },
  {
   "cell_type": "code",
   "execution_count": 3,
   "metadata": {
    "execution": {
     "iopub.execute_input": "2021-10-15T10:44:40.811638Z",
     "iopub.status.busy": "2021-10-15T10:44:40.811638Z",
     "iopub.status.idle": "2021-10-15T10:44:40.961846Z",
     "shell.execute_reply": "2021-10-15T10:44:40.961846Z"
    }
   },
   "outputs": [
    {
     "data": {
      "text/plain": [
       "Text(0.5, 1.0, 'Original image')"
      ]
     },
     "execution_count": 3,
     "metadata": {},
     "output_type": "execute_result"
    }
   ],
   "source": [
    "# read as grayscale\n",
    "I = cv2.imread(\"Unequalized_Hawkes_Bay_NZ.jpg\",0)\n",
    "\n",
    "plt.figure(figsize=figsize)\n",
    "plt.imshow(I, cmap='gray', vmin=0, vmax=255)\n",
    "plt.title(\"Original image\")\n"
   ]
  },
  {
   "cell_type": "markdown",
   "metadata": {},
   "source": [
    "Let's start by calculating and showing the original histogram\n"
   ]
  },
  {
   "cell_type": "code",
   "execution_count": 4,
   "metadata": {
    "execution": {
     "iopub.execute_input": "2021-10-15T10:44:40.966395Z",
     "iopub.status.busy": "2021-10-15T10:44:40.966395Z",
     "iopub.status.idle": "2021-10-15T10:44:40.981523Z",
     "shell.execute_reply": "2021-10-15T10:44:40.981523Z"
    }
   },
   "outputs": [],
   "source": [
    "bins_edges_min_max = [0,256]\n",
    "num_bins=256\n",
    "bin_count,bins_edges = np.histogram(I,num_bins,bins_edges_min_max)\n",
    "bins_start = bins_edges[:-1]\n"
   ]
  },
  {
   "cell_type": "code",
   "execution_count": 5,
   "metadata": {
    "execution": {
     "iopub.execute_input": "2021-10-15T10:44:40.991442Z",
     "iopub.status.busy": "2021-10-15T10:44:40.991442Z",
     "iopub.status.idle": "2021-10-15T10:44:41.233597Z",
     "shell.execute_reply": "2021-10-15T10:44:41.233597Z"
    }
   },
   "outputs": [
    {
     "data": {
      "text/plain": [
       "Text(0.5, 1.0, 'Original histogram')"
      ]
     },
     "execution_count": 5,
     "metadata": {},
     "output_type": "execute_result"
    }
   ],
   "source": [
    "def draw_hist(x_axis,input):\n",
    "    fig,ax = plt.subplots(figsize=figsize)\n",
    "    # why not using plt.hist? because we want to plot also some derivations of this hist, so this is easier\n",
    "    plt.bar(x_axis, input, width=input.shape[0]/(x_axis[-1]-x_axis[0]+1))\n",
    "    return fig,ax\n",
    "\n",
    "draw_hist(bins_start,bin_count)\n",
    "plt.title(\"Original histogram\")\n",
    "\n"
   ]
  },
  {
   "cell_type": "markdown",
   "metadata": {},
   "source": [
    "Normalize the histogram to gat a discrete PDF\n"
   ]
  },
  {
   "cell_type": "code",
   "execution_count": 6,
   "metadata": {
    "execution": {
     "iopub.execute_input": "2021-10-15T10:44:41.261342Z",
     "iopub.status.busy": "2021-10-15T10:44:41.251331Z",
     "iopub.status.idle": "2021-10-15T10:44:41.501529Z",
     "shell.execute_reply": "2021-10-15T10:44:41.501529Z"
    }
   },
   "outputs": [
    {
     "data": {
      "text/plain": [
       "Text(0.5, 1.0, 'Original PDF')"
      ]
     },
     "execution_count": 6,
     "metadata": {},
     "output_type": "execute_result"
    }
   ],
   "source": [
    "pdf = bin_count/np.sum(bin_count)\n",
    "\n",
    "draw_hist(bins_start,pdf)\n",
    "plt.title(\"Original PDF\")\n",
    "\n"
   ]
  },
  {
   "cell_type": "markdown",
   "metadata": {},
   "source": [
    "Get the CDF by calculating the cumulative sum of the pdf data\n"
   ]
  },
  {
   "cell_type": "code",
   "execution_count": 7,
   "metadata": {
    "execution": {
     "iopub.execute_input": "2021-10-15T10:44:41.521509Z",
     "iopub.status.busy": "2021-10-15T10:44:41.521509Z",
     "iopub.status.idle": "2021-10-15T10:44:41.562785Z",
     "shell.execute_reply": "2021-10-15T10:44:41.562785Z"
    }
   },
   "outputs": [
    {
     "data": {
      "text/plain": [
       "Text(0.5, 1.0, 'Original CDF')"
      ]
     },
     "execution_count": 7,
     "metadata": {},
     "output_type": "execute_result"
    }
   ],
   "source": [
    "cdf = np.cumsum(pdf)\n",
    "\n",
    "plt.figure(figsize=figsize)\n",
    "plt.plot(cdf)\n",
    "plt.title(\"Original CDF\")\n",
    "\n"
   ]
  },
  {
   "cell_type": "code",
   "execution_count": 8,
   "metadata": {
    "execution": {
     "iopub.execute_input": "2021-10-15T10:44:41.571422Z",
     "iopub.status.busy": "2021-10-15T10:44:41.571422Z",
     "iopub.status.idle": "2021-10-15T10:44:41.821633Z",
     "shell.execute_reply": "2021-10-15T10:44:41.821633Z"
    }
   },
   "outputs": [
    {
     "data": {
      "text/plain": [
       "Text(0.5, 1.0, 'Original PDF+ const*CDF to show the connection between the two')"
      ]
     },
     "execution_count": 8,
     "metadata": {},
     "output_type": "execute_result"
    }
   ],
   "source": [
    "fig,ax = draw_hist(bins_start,pdf)\n",
    "ax.plot(cdf*np.max(pdf),'r')\n",
    "plt.title(\"Original PDF+ const*CDF to show the connection between the two\")\n",
    "\n"
   ]
  },
  {
   "cell_type": "markdown",
   "metadata": {},
   "source": [
    "The final step is to un-normalize the CDF to become the equalization function\n"
   ]
  },
  {
   "cell_type": "code",
   "execution_count": 9,
   "metadata": {
    "execution": {
     "iopub.execute_input": "2021-10-15T10:44:41.826689Z",
     "iopub.status.busy": "2021-10-15T10:44:41.826689Z",
     "iopub.status.idle": "2021-10-15T10:44:41.841567Z",
     "shell.execute_reply": "2021-10-15T10:44:41.841567Z"
    }
   },
   "outputs": [
    {
     "data": {
      "text/plain": [
       "array([  0,   0,   0,   0,   0,   0,   0,   0,   0,   0,   0,   0,   0,\n",
       "         0,   0,   0,   0,   0,   0,   0,   0,   0,   0,   0,   0,   0,\n",
       "         0,   0,   0,   0,   0,   0,   0,   0,   0,   0,   0,   0,   0,\n",
       "         0,   0,   0,   0,   0,   0,   0,   0,   0,   0,   0,   0,   0,\n",
       "         0,   0,   0,   0,   0,   0,   0,   0,   0,   0,   0,   0,   0,\n",
       "         0,   0,   0,   0,   0,   0,   0,   0,   0,   0,   0,   0,   0,\n",
       "         0,   0,   0,   0,   0,   0,   0,   0,   0,   0,   0,   0,   0,\n",
       "         0,   0,   0,   0,   0,   0,   0,   0,   0,   0,   0,   0,   0,\n",
       "         0,   0,   0,   0,   0,   0,   0,   0,   0,   0,   0,   0,   0,\n",
       "         0,   0,   0,   0,   0,   1,   1,   2,   3,   4,   6,   8,  10,\n",
       "        13,  17,  22,  28,  35,  43,  52,  63,  73,  82,  91, 100, 108,\n",
       "       115, 122, 130, 137, 144, 150, 157, 163, 170, 177, 183, 189, 194,\n",
       "       199, 203, 207, 210, 214, 217, 220, 223, 225, 227, 229, 231, 233,\n",
       "       235, 236, 237, 238, 240, 241, 241, 242, 243, 243, 244, 244, 245,\n",
       "       245, 246, 246, 247, 247, 248, 249, 249, 250, 250, 251, 251, 252,\n",
       "       252, 253, 254, 255, 255, 255, 255, 255, 255, 255, 255, 255, 255,\n",
       "       255, 255, 255, 255, 255, 255, 255, 255, 255, 255, 255, 255, 255,\n",
       "       255, 255, 255, 255, 255, 255, 255, 255, 255, 255, 255, 255, 255,\n",
       "       255, 255, 255, 255, 255, 255, 255, 255, 255, 255, 255, 255, 255,\n",
       "       255, 255, 255, 255, 255, 255, 255, 255, 255])"
      ]
     },
     "execution_count": 9,
     "metadata": {},
     "output_type": "execute_result"
    }
   ],
   "source": [
    "f_eq = np.round(cdf*255).astype(int)\n",
    "\n",
    "f_eq\n"
   ]
  },
  {
   "cell_type": "markdown",
   "metadata": {},
   "source": [
    "Use the equalization function to get the equalized image\n"
   ]
  },
  {
   "cell_type": "code",
   "execution_count": 10,
   "metadata": {
    "execution": {
     "iopub.execute_input": "2021-10-15T10:44:41.846575Z",
     "iopub.status.busy": "2021-10-15T10:44:41.846575Z",
     "iopub.status.idle": "2021-10-15T10:44:41.961487Z",
     "shell.execute_reply": "2021-10-15T10:44:41.961487Z"
    }
   },
   "outputs": [
    {
     "data": {
      "text/plain": [
       "Text(0.5, 1.0, 'equalized image')"
      ]
     },
     "execution_count": 10,
     "metadata": {},
     "output_type": "execute_result"
    }
   ],
   "source": [
    "I_eq = f_eq[I]\n",
    "\n",
    "plt.figure(figsize=figsize)\n",
    "plt.imshow(I_eq, cmap='gray', vmin=0, vmax=255)\n",
    "plt.title(\"equalized image\")\n"
   ]
  },
  {
   "cell_type": "markdown",
   "metadata": {},
   "source": [
    "Plot the equalized histogram, PDF and CDF\n"
   ]
  },
  {
   "cell_type": "code",
   "execution_count": 11,
   "metadata": {
    "execution": {
     "iopub.execute_input": "2021-10-15T10:44:41.966498Z",
     "iopub.status.busy": "2021-10-15T10:44:41.966498Z",
     "iopub.status.idle": "2021-10-15T10:44:42.248880Z",
     "shell.execute_reply": "2021-10-15T10:44:42.248880Z"
    }
   },
   "outputs": [
    {
     "data": {
      "text/plain": [
       "Text(0.5, 1.0, 'equalized histogram')"
      ]
     },
     "execution_count": 11,
     "metadata": {},
     "output_type": "execute_result"
    }
   ],
   "source": [
    "bin_count,bins_edges = np.histogram(I_eq,num_bins,bins_edges_min_max)\n",
    "bins_start = bins_edges[:-1]\n",
    "\n",
    "draw_hist(bins_start,bin_count)\n",
    "plt.title(\"equalized histogram\")\n"
   ]
  },
  {
   "cell_type": "code",
   "execution_count": 12,
   "metadata": {
    "execution": {
     "iopub.execute_input": "2021-10-15T10:44:42.266401Z",
     "iopub.status.busy": "2021-10-15T10:44:42.261356Z",
     "iopub.status.idle": "2021-10-15T10:44:42.511297Z",
     "shell.execute_reply": "2021-10-15T10:44:42.511297Z"
    }
   },
   "outputs": [
    {
     "data": {
      "text/plain": [
       "Text(0.5, 1.0, 'equalized PDF and const*CDF')"
      ]
     },
     "execution_count": 12,
     "metadata": {},
     "output_type": "execute_result"
    }
   ],
   "source": [
    "pdf = bin_count/np.sum(bin_count)\n",
    "cdf = np.cumsum(pdf)\n",
    "\n",
    "fig,ax = draw_hist(bins_start,pdf)\n",
    "ax.plot(cdf*np.max(pdf),'r')\n",
    "plt.title(\"equalized PDF and const*CDF\")\n"
   ]
  },
  {
   "cell_type": "markdown",
   "metadata": {},
   "source": [
    "## cv2 histogram equalization function\n"
   ]
  },
  {
   "cell_type": "code",
   "execution_count": 13,
   "metadata": {
    "execution": {
     "iopub.execute_input": "2021-10-15T10:44:42.516344Z",
     "iopub.status.busy": "2021-10-15T10:44:42.516344Z",
     "iopub.status.idle": "2021-10-15T10:44:42.644229Z",
     "shell.execute_reply": "2021-10-15T10:44:42.644229Z"
    }
   },
   "outputs": [
    {
     "data": {
      "text/plain": [
       "Text(0.5, 1.0, 'cv2.equalizeHist() result')"
      ]
     },
     "execution_count": 13,
     "metadata": {},
     "output_type": "execute_result"
    }
   ],
   "source": [
    "I_eq_cv2 = cv2.equalizeHist(I)\n",
    "\n",
    "plt.figure(figsize=figsize)\n",
    "plt.imshow(I_eq_cv2, cmap='gray', vmin=0, vmax=255)\n",
    "plt.title(\"cv2.equalizeHist() result\")\n",
    "\n"
   ]
  },
  {
   "cell_type": "code",
   "execution_count": null,
   "metadata": {},
   "outputs": [],
   "source": []
  }
 ],
 "metadata": {
  "language_info": {
   "codemirror_mode": {
    "name": "ipython",
    "version": 3
   },
   "file_extension": ".py",
   "mimetype": "text/x-python",
   "name": "python",
   "nbconvert_exporter": "python",
   "pygments_lexer": "ipython3",
   "version": "3.8.11"
  }
 },
 "nbformat": 4,
 "nbformat_minor": 2
}
