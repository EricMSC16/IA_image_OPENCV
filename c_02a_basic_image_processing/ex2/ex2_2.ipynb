{
  "cells": [
    {
      "cell_type": "markdown",
      "metadata": {},
      "source": [
        "# EX2_2\n",
        "Find different words in newspaper article\n",
        "We'll do this using morphology operators and connected components.\n"
      ]
    },
    {
      "cell_type": "code",
      "metadata": {},
      "source": [
        "# to run in google colab\n",
        "import sys\n",
        "\n",
        "if \"google.colab\" in sys.modules:\n",
        "\n",
        "    def download_from_web(url):\n",
        "        import requests\n",
        "\n",
        "        response = requests.get(url)\n",
        "        if response.status_code == 200:\n",
        "            with open(url.split(\"/\")[-1], \"wb\") as file:\n",
        "                file.write(response.content)\n",
        "        else:\n",
        "            raise Exception(\n",
        "                f\"Failed to download the image. Status code: {response.status_code}\"\n",
        "            )\n",
        "\n",
        "    download_from_web(\n",
        "        \"https://github.com/YoniChechik/AI_is_Math/raw/master/c_02a_basic_image_processing/ex2/news.jpg\"\n",
        "    )\n"
      ],
      "outputs": [],
      "execution_count": null
    },
    {
      "cell_type": "code",
      "metadata": {},
      "source": [
        "import cv2\n",
        "import matplotlib.pyplot as plt\n",
        "import numpy as np\n",
        "\n",
        "figsize = (10, 10)\n",
        "\n"
      ],
      "outputs": [],
      "execution_count": null
    },
    {
      "cell_type": "code",
      "metadata": {},
      "source": [
        "im = cv2.imread(\"news.jpg\")\n",
        "im_gray = cv2.cvtColor(im, cv2.COLOR_BGR2GRAY)\n",
        "\n",
        "plt.figure(figsize=figsize)\n",
        "plt.imshow(im_gray, cmap=\"gray\", vmin=0, vmax=255)\n",
        "plt.show()\n",
        "\n"
      ],
      "outputs": [],
      "execution_count": null
    },
    {
      "cell_type": "code",
      "metadata": {},
      "source": [
        "# TODO: let's start with turning the image to a binary one\n",
        "\n",
        "plt.figure(figsize=(20, 20))\n",
        "plt.imshow(im_th)\n",
        "plt.show()\n",
        "\n"
      ],
      "outputs": [],
      "execution_count": null
    },
    {
      "cell_type": "code",
      "metadata": {},
      "source": [
        "# TODO: next, merge all pixels of the same word together to make one connected component using a morphologic operator\n",
        "\n",
        "plt.figure(figsize=(20, 20))\n",
        "plt.imshow(dilated_im)\n",
        "plt.show()\n",
        "\n"
      ],
      "outputs": [],
      "execution_count": null
    },
    {
      "cell_type": "code",
      "metadata": {},
      "source": [
        "\n",
        "\n",
        "def find_words(dilated_im, im):\n",
        "    res = im.copy()\n",
        "\n",
        "    # TODO: draw rectengles around each word:\n",
        "    # 1. find all connected components\n",
        "    # 2. build a mask of only one connected component each time, and find it extremeties\n",
        "    # TODO: did it came out perfect? Why? Why not?\n",
        "    return res\n",
        "\n",
        "\n",
        "def plot_rec(mask, res_im):\n",
        "    # plot a rectengle around each word in res image using mask image of the word\n",
        "    xy = np.nonzero(mask)\n",
        "    y = xy[0]\n",
        "    x = xy[1]\n",
        "    left = x.min()\n",
        "    right = x.max()\n",
        "    up = y.min()\n",
        "    down = y.max()\n",
        "\n",
        "    res_im = cv2.rectangle(res_im, (left, up), (right, down), (0, 20, 200), 2)\n",
        "    return res_im\n",
        "\n",
        "\n"
      ],
      "outputs": [],
      "execution_count": null
    },
    {
      "cell_type": "code",
      "metadata": {},
      "source": [
        "plt.figure(figsize=(20, 20))\n",
        "plt.imshow(find_words(dilated_im, im))\n",
        "plt.show()\n",
        "\n",
        "\n"
      ],
      "outputs": [],
      "execution_count": null
    },
    {
      "cell_type": "code",
      "metadata": {},
      "source": [
        "# TODO: now we want to mark only the big title words, and do this ONLY using morphological operators\n",
        "\n",
        "\n",
        "plt.figure(figsize=(20, 20))\n",
        "plt.imshow(find_words(binary_only_title_cc_img, im))\n",
        "plt.show()\n"
      ],
      "outputs": [],
      "execution_count": null
    }
  ],
  "metadata": {
    "language_info": {
      "codemirror_mode": {
        "name": "ipython",
        "version": 3
      },
      "file_extension": ".py",
      "mimetype": "text/x-python",
      "name": "python",
      "nbconvert_exporter": "python",
      "pygments_lexer": "ipython3",
      "version": "3"
    }
  },
  "nbformat": 4,
  "nbformat_minor": 2
}