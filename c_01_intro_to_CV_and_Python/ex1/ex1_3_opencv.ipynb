{
  "cells": [
    {
      "cell_type": "markdown",
      "metadata": {},
      "source": [
        "# EX 1.3- Opencv: forest pyramid\n"
      ]
    },
    {
      "cell_type": "code",
      "metadata": {},
      "source": [
        "# to run in google colab\n",
        "import sys\n",
        "\n",
        "if \"google.colab\" in sys.modules:\n",
        "\n",
        "    def download_from_web(url):\n",
        "        import requests\n",
        "\n",
        "        response = requests.get(url)\n",
        "        if response.status_code == 200:\n",
        "            with open(url.split(\"/\")[-1], \"wb\") as file:\n",
        "                file.write(response.content)\n",
        "        else:\n",
        "            raise Exception(\n",
        "                f\"Failed to download the image. Status code: {response.status_code}\"\n",
        "            )\n",
        "\n",
        "    download_from_web(\n",
        "        \"https://github.com/YoniChechik/AI_is_Math/raw/master/c_01_intro_to_CV_and_Python/ex1/forest.jpg\"\n",
        "    )\n",
        "    download_from_web(\n",
        "        \"https://github.com/YoniChechik/AI_is_Math/raw/master/c_01_intro_to_CV_and_Python/ex1/pyramids.png\"\n",
        "    )\n",
        "\n",
        "\n"
      ],
      "outputs": [],
      "execution_count": null
    },
    {
      "cell_type": "code",
      "metadata": {},
      "source": [
        "import cv2\n",
        "import matplotlib.pyplot as plt\n",
        "import numpy as np  # noqa: F401\n",
        "\n"
      ],
      "outputs": [],
      "execution_count": null
    },
    {
      "cell_type": "code",
      "metadata": {},
      "source": [
        "forest_img = cv2.imread(\"forest.jpg\")\n",
        "pyramid_img = cv2.imread(\"pyramids.png\")\n",
        "pyramid_img = cv2.cvtColor(pyramid_img, cv2.COLOR_BGR2GRAY)\n",
        "forest_img = cv2.cvtColor(forest_img, cv2.COLOR_BGR2GRAY)\n",
        "\n"
      ],
      "outputs": [],
      "execution_count": null
    },
    {
      "cell_type": "code",
      "metadata": {},
      "source": [
        "# TODO: your goal is to build the pyramids in the forest!\n",
        "#  Hints to think about:\n",
        "#  - are the images the same size?\n",
        "#  - How to mask/overlay the pixels from pyramids image to forest image (use numpy masks that we've seen in the numpy notebook!!!)\n",
        "#  - A result example is added to this zip file\n",
        "#\n",
        "#  TODO: this section can be done in 3-5 lines of nice looking code, try not to write more then 10 lines here.\n",
        "res_im = []\n",
        "\n"
      ],
      "outputs": [],
      "execution_count": null
    },
    {
      "cell_type": "code",
      "metadata": {},
      "source": [
        "plt.figure()\n",
        "plt.imshow(res_im, cmap=\"gray\", vmin=0, vmax=255)\n",
        "plt.show()\n"
      ],
      "outputs": [],
      "execution_count": null
    },
    {
      "cell_type": "code",
      "metadata": {},
      "source": [],
      "outputs": [],
      "execution_count": null
    }
  ],
  "metadata": {
    "language_info": {
      "codemirror_mode": {
        "name": "ipython",
        "version": 3
      },
      "file_extension": ".py",
      "mimetype": "text/x-python",
      "name": "python",
      "nbconvert_exporter": "python",
      "pygments_lexer": "ipython3",
      "version": "3"
    }
  },
  "nbformat": 4,
  "nbformat_minor": 2
}