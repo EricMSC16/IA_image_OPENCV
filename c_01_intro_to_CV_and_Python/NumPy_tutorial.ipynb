{
 "cells": [
  {
   "cell_type": "markdown",
   "metadata": {},
   "source": [
    "#Python Workshop: NumPy\n",
    "[![Open In Colab](https://colab.research.google.com/assets/colab-badge.svg)](https://colab.research.google.com/github/YoniChechik/AI_is_Math/blob/master/c_01_intro_to_CV_and_Python/NumPy_tutorial.ipynb)\n",
    "\n",
    "<hr>\n",
    "\n",
    "Based on:\n",
    "\n",
    "This [git](https://github.com/zhiyzuo/python-tutorial) of Zhiya Zuo\n",
    "\n",
    "<hr>\n",
    "\n",
    "NumPy is the fundamental package for scientific computing with Python. It contains among other things:\n",
    "\n",
    "- Powerful N-dimensional array object.\n",
    "- Useful linear algebra, Fourier transform, and random number capabilities.\n",
    "- And much more\n",
    "\n",
    "<img src=\"https://upload.wikimedia.org/wikipedia/commons/1/1a/NumPy_logo.svg\" alt=\"numpy logo\" width=\"200\"/>\n",
    "\n",
    "## NumPy installation\n",
    "\n",
    "in the cmd run:\n",
    "\n",
    "```bash\n",
    "pip install numpy\n",
    "```\n",
    "## Arrays\n",
    "\n"
   ]
  },
  {
   "cell_type": "code",
   "execution_count": 1,
   "metadata": {
    "execution": {
     "iopub.execute_input": "2021-10-20T06:31:15.939230Z",
     "iopub.status.busy": "2021-10-20T06:31:15.938191Z",
     "iopub.status.idle": "2021-10-20T06:31:16.105798Z",
     "shell.execute_reply": "2021-10-20T06:31:16.105798Z"
    }
   },
   "outputs": [],
   "source": [
    "# After you install numpy, load it\n",
    "import numpy as np  # you can use np instead of numpy to call the functions in numpy package\n",
    "\n",
    "\n"
   ]
  },
  {
   "cell_type": "code",
   "execution_count": 2,
   "metadata": {
    "execution": {
     "iopub.execute_input": "2021-10-20T06:31:16.110797Z",
     "iopub.status.busy": "2021-10-20T06:31:16.109841Z",
     "iopub.status.idle": "2021-10-20T06:31:16.121241Z",
     "shell.execute_reply": "2021-10-20T06:31:16.121241Z"
    }
   },
   "outputs": [
    {
     "name": "stdout",
     "output_type": "stream",
     "text": [
      "<class 'numpy.ndarray'>\n"
     ]
    }
   ],
   "source": [
    "x = np.array([1, 2, 3])  # create a numpy array object\n",
    "print(type(x))\n",
    "\n"
   ]
  },
  {
   "cell_type": "markdown",
   "metadata": {},
   "source": [
    "We can call `shape` function designed for `numpy.ndarray` class to check the dimension\n",
    "\n"
   ]
  },
  {
   "cell_type": "code",
   "execution_count": 3,
   "metadata": {
    "execution": {
     "iopub.execute_input": "2021-10-20T06:31:16.130200Z",
     "iopub.status.busy": "2021-10-20T06:31:16.129199Z",
     "iopub.status.idle": "2021-10-20T06:31:16.136344Z",
     "shell.execute_reply": "2021-10-20T06:31:16.137345Z"
    }
   },
   "outputs": [
    {
     "data": {
      "text/plain": [
       "(3,)"
      ]
     },
     "execution_count": 3,
     "metadata": {},
     "output_type": "execute_result"
    }
   ],
   "source": [
    "x.shape  # can be compared to 'len()' function that is used with list size\n",
    "\n"
   ]
  },
  {
   "cell_type": "markdown",
   "metadata": {},
   "source": [
    "Unlike `list`, we have to use one single data type for all elements in an array\n",
    "\n"
   ]
  },
  {
   "cell_type": "code",
   "execution_count": 4,
   "metadata": {
    "execution": {
     "iopub.execute_input": "2021-10-20T06:31:16.141373Z",
     "iopub.status.busy": "2021-10-20T06:31:16.140344Z",
     "iopub.status.idle": "2021-10-20T06:31:16.152346Z",
     "shell.execute_reply": "2021-10-20T06:31:16.152346Z"
    }
   },
   "outputs": [
    {
     "data": {
      "text/plain": [
       "array(['1', 'yes'], dtype='<U11')"
      ]
     },
     "execution_count": 4,
     "metadata": {},
     "output_type": "execute_result"
    }
   ],
   "source": [
    "y = np.array([1, \"yes\"])  # automatic type conversion from int to str\n",
    "y\n",
    "\n"
   ]
  },
  {
   "cell_type": "markdown",
   "metadata": {},
   "source": [
    "### Multidimensional arrays\n",
    "\n"
   ]
  },
  {
   "cell_type": "code",
   "execution_count": 5,
   "metadata": {
    "execution": {
     "iopub.execute_input": "2021-10-20T06:31:16.157349Z",
     "iopub.status.busy": "2021-10-20T06:31:16.156344Z",
     "iopub.status.idle": "2021-10-20T06:31:16.167721Z",
     "shell.execute_reply": "2021-10-20T06:31:16.167721Z"
    }
   },
   "outputs": [
    {
     "data": {
      "text/plain": [
       "(1, 4)"
      ]
     },
     "execution_count": 5,
     "metadata": {},
     "output_type": "execute_result"
    }
   ],
   "source": [
    "arr = np.array([[1, 2, 3, 8]])\n",
    "arr.shape\n",
    "\n"
   ]
  },
  {
   "cell_type": "code",
   "execution_count": 6,
   "metadata": {
    "execution": {
     "iopub.execute_input": "2021-10-20T06:31:16.172357Z",
     "iopub.status.busy": "2021-10-20T06:31:16.171347Z",
     "iopub.status.idle": "2021-10-20T06:31:16.185062Z",
     "shell.execute_reply": "2021-10-20T06:31:16.185062Z"
    }
   },
   "outputs": [
    {
     "data": {
      "text/plain": [
       "array([[1, 2, 3, 8]])"
      ]
     },
     "execution_count": 6,
     "metadata": {},
     "output_type": "execute_result"
    }
   ],
   "source": [
    "arr\n",
    "\n"
   ]
  },
  {
   "cell_type": "code",
   "execution_count": 7,
   "metadata": {
    "execution": {
     "iopub.execute_input": "2021-10-20T06:31:16.190065Z",
     "iopub.status.busy": "2021-10-20T06:31:16.190065Z",
     "iopub.status.idle": "2021-10-20T06:31:16.199067Z",
     "shell.execute_reply": "2021-10-20T06:31:16.199067Z"
    }
   },
   "outputs": [
    {
     "data": {
      "text/plain": [
       "(3, 4)"
      ]
     },
     "execution_count": 7,
     "metadata": {},
     "output_type": "execute_result"
    }
   ],
   "source": [
    "arr = np.array([[1, 2, 3, 8], [3, 2, 3, 2], [4, 5, 0, 8]])\n",
    "arr.shape\n",
    "\n"
   ]
  },
  {
   "cell_type": "code",
   "execution_count": 8,
   "metadata": {
    "execution": {
     "iopub.execute_input": "2021-10-20T06:31:16.204099Z",
     "iopub.status.busy": "2021-10-20T06:31:16.204099Z",
     "iopub.status.idle": "2021-10-20T06:31:16.216367Z",
     "shell.execute_reply": "2021-10-20T06:31:16.215348Z"
    }
   },
   "outputs": [
    {
     "data": {
      "text/plain": [
       "array([[1, 2, 3, 8],\n",
       "       [3, 2, 3, 2],\n",
       "       [4, 5, 0, 8]])"
      ]
     },
     "execution_count": 8,
     "metadata": {},
     "output_type": "execute_result"
    }
   ],
   "source": [
    "arr\n",
    "\n"
   ]
  },
  {
   "cell_type": "markdown",
   "metadata": {},
   "source": [
    "### Special arrays\n",
    "There are many special array initialization methods to call:\n",
    "\n"
   ]
  },
  {
   "cell_type": "code",
   "execution_count": 9,
   "metadata": {
    "execution": {
     "iopub.execute_input": "2021-10-20T06:31:16.220340Z",
     "iopub.status.busy": "2021-10-20T06:31:16.220340Z",
     "iopub.status.idle": "2021-10-20T06:31:16.230404Z",
     "shell.execute_reply": "2021-10-20T06:31:16.230404Z"
    }
   },
   "outputs": [
    {
     "data": {
      "text/plain": [
       "array([[0, 0, 0, 0, 0],\n",
       "       [0, 0, 0, 0, 0],\n",
       "       [0, 0, 0, 0, 0]])"
      ]
     },
     "execution_count": 9,
     "metadata": {},
     "output_type": "execute_result"
    }
   ],
   "source": [
    "np.zeros([3, 5], dtype=int)  # dtype can define the type of the array\n",
    "\n",
    "\n"
   ]
  },
  {
   "cell_type": "code",
   "execution_count": 10,
   "metadata": {
    "execution": {
     "iopub.execute_input": "2021-10-20T06:31:16.234368Z",
     "iopub.status.busy": "2021-10-20T06:31:16.234368Z",
     "iopub.status.idle": "2021-10-20T06:31:16.246642Z",
     "shell.execute_reply": "2021-10-20T06:31:16.245641Z"
    }
   },
   "outputs": [
    {
     "data": {
      "text/plain": [
       "array([[1., 1., 1., 1., 1.],\n",
       "       [1., 1., 1., 1., 1.],\n",
       "       [1., 1., 1., 1., 1.]])"
      ]
     },
     "execution_count": 10,
     "metadata": {},
     "output_type": "execute_result"
    }
   ],
   "source": [
    "np.ones([3, 5])\n",
    "\n",
    "\n"
   ]
  },
  {
   "cell_type": "code",
   "execution_count": 11,
   "metadata": {
    "execution": {
     "iopub.execute_input": "2021-10-20T06:31:16.250645Z",
     "iopub.status.busy": "2021-10-20T06:31:16.249638Z",
     "iopub.status.idle": "2021-10-20T06:31:16.261219Z",
     "shell.execute_reply": "2021-10-20T06:31:16.261219Z"
    }
   },
   "outputs": [
    {
     "data": {
      "text/plain": [
       "array([[1., 0., 0.],\n",
       "       [0., 1., 0.],\n",
       "       [0., 0., 1.]])"
      ]
     },
     "execution_count": 11,
     "metadata": {},
     "output_type": "execute_result"
    }
   ],
   "source": [
    "np.eye(3)\n",
    "\n"
   ]
  },
  {
   "cell_type": "markdown",
   "metadata": {},
   "source": [
    "## Operations\n",
    "The rules are very similar to R/Matlab: they are generally element wise\n",
    "\n"
   ]
  },
  {
   "cell_type": "code",
   "execution_count": 12,
   "metadata": {
    "execution": {
     "iopub.execute_input": "2021-10-20T06:31:16.266217Z",
     "iopub.status.busy": "2021-10-20T06:31:16.265217Z",
     "iopub.status.idle": "2021-10-20T06:31:16.277566Z",
     "shell.execute_reply": "2021-10-20T06:31:16.276565Z"
    }
   },
   "outputs": [
    {
     "data": {
      "text/plain": [
       "array([[1, 2, 3, 8],\n",
       "       [3, 2, 3, 2],\n",
       "       [4, 5, 0, 8]])"
      ]
     },
     "execution_count": 12,
     "metadata": {},
     "output_type": "execute_result"
    }
   ],
   "source": [
    "arr\n",
    "\n"
   ]
  },
  {
   "cell_type": "code",
   "execution_count": 13,
   "metadata": {
    "execution": {
     "iopub.execute_input": "2021-10-20T06:31:16.281563Z",
     "iopub.status.busy": "2021-10-20T06:31:16.281563Z",
     "iopub.status.idle": "2021-10-20T06:31:16.292795Z",
     "shell.execute_reply": "2021-10-20T06:31:16.292795Z"
    }
   },
   "outputs": [
    {
     "data": {
      "text/plain": [
       "array([[-4, -3, -2,  3],\n",
       "       [-2, -3, -2, -3],\n",
       "       [-1,  0, -5,  3]])"
      ]
     },
     "execution_count": 13,
     "metadata": {},
     "output_type": "execute_result"
    }
   ],
   "source": [
    "arr - 5\n",
    "\n"
   ]
  },
  {
   "cell_type": "code",
   "execution_count": 14,
   "metadata": {
    "execution": {
     "iopub.execute_input": "2021-10-20T06:31:16.297836Z",
     "iopub.status.busy": "2021-10-20T06:31:16.296803Z",
     "iopub.status.idle": "2021-10-20T06:31:16.309798Z",
     "shell.execute_reply": "2021-10-20T06:31:16.308796Z"
    }
   },
   "outputs": [
    {
     "data": {
      "text/plain": [
       "array([[ 6, 12, 18, 48],\n",
       "       [18, 12, 18, 12],\n",
       "       [24, 30,  0, 48]])"
      ]
     },
     "execution_count": 14,
     "metadata": {},
     "output_type": "execute_result"
    }
   ],
   "source": [
    "arr * 6  # element-vise multiplication\n",
    "\n"
   ]
  },
  {
   "cell_type": "code",
   "execution_count": 15,
   "metadata": {
    "execution": {
     "iopub.execute_input": "2021-10-20T06:31:16.314796Z",
     "iopub.status.busy": "2021-10-20T06:31:16.313839Z",
     "iopub.status.idle": "2021-10-20T06:31:16.324837Z",
     "shell.execute_reply": "2021-10-20T06:31:16.323837Z"
    }
   },
   "outputs": [
    {
     "data": {
      "text/plain": [
       "array([[ 1,  4,  9, 64],\n",
       "       [ 9,  4,  9,  4],\n",
       "       [16, 25,  0, 64]])"
      ]
     },
     "execution_count": 15,
     "metadata": {},
     "output_type": "execute_result"
    }
   ],
   "source": [
    "arr * arr  # element-vise multiplication of two matrices\n",
    "\n"
   ]
  },
  {
   "cell_type": "code",
   "execution_count": 16,
   "metadata": {
    "execution": {
     "iopub.execute_input": "2021-10-20T06:31:16.328876Z",
     "iopub.status.busy": "2021-10-20T06:31:16.327874Z",
     "iopub.status.idle": "2021-10-20T06:31:16.339453Z",
     "shell.execute_reply": "2021-10-20T06:31:16.338453Z"
    }
   },
   "outputs": [
    {
     "data": {
      "text/plain": [
       "array([[2.71828183e+00, 7.38905610e+00, 2.00855369e+01, 2.98095799e+03],\n",
       "       [2.00855369e+01, 7.38905610e+00, 2.00855369e+01, 7.38905610e+00],\n",
       "       [5.45981500e+01, 1.48413159e+02, 1.00000000e+00, 2.98095799e+03]])"
      ]
     },
     "execution_count": 16,
     "metadata": {},
     "output_type": "execute_result"
    }
   ],
   "source": [
    "np.exp(arr)\n",
    "\n"
   ]
  },
  {
   "cell_type": "markdown",
   "metadata": {},
   "source": [
    "More examples:\n",
    "\n"
   ]
  },
  {
   "cell_type": "code",
   "execution_count": 17,
   "metadata": {
    "execution": {
     "iopub.execute_input": "2021-10-20T06:31:16.343452Z",
     "iopub.status.busy": "2021-10-20T06:31:16.343452Z",
     "iopub.status.idle": "2021-10-20T06:31:16.354453Z",
     "shell.execute_reply": "2021-10-20T06:31:16.354453Z"
    }
   },
   "outputs": [
    {
     "data": {
      "text/plain": [
       "array([[1],\n",
       "       [3],\n",
       "       [2],\n",
       "       [0]])"
      ]
     },
     "execution_count": 17,
     "metadata": {},
     "output_type": "execute_result"
    }
   ],
   "source": [
    "arr_2 = np.array([[1], [3], [2], [0]])\n",
    "arr_2\n",
    "\n"
   ]
  },
  {
   "cell_type": "code",
   "execution_count": 18,
   "metadata": {
    "execution": {
     "iopub.execute_input": "2021-10-20T06:31:16.359455Z",
     "iopub.status.busy": "2021-10-20T06:31:16.358452Z",
     "iopub.status.idle": "2021-10-20T06:31:16.370564Z",
     "shell.execute_reply": "2021-10-20T06:31:16.371605Z"
    }
   },
   "outputs": [
    {
     "data": {
      "text/plain": [
       "array([[1, 3, 2, 0]])"
      ]
     },
     "execution_count": 18,
     "metadata": {},
     "output_type": "execute_result"
    }
   ],
   "source": [
    "arr_2_T = arr_2.T  # transpose\n",
    "arr_2_T\n",
    "\n",
    "\n"
   ]
  },
  {
   "cell_type": "code",
   "execution_count": 19,
   "metadata": {
    "execution": {
     "iopub.execute_input": "2021-10-20T06:31:16.374560Z",
     "iopub.status.busy": "2021-10-20T06:31:16.374560Z",
     "iopub.status.idle": "2021-10-20T06:31:16.387557Z",
     "shell.execute_reply": "2021-10-20T06:31:16.386536Z"
    }
   },
   "outputs": [
    {
     "data": {
      "text/plain": [
       "array([[13],\n",
       "       [15],\n",
       "       [19]])"
      ]
     },
     "execution_count": 19,
     "metadata": {},
     "output_type": "execute_result"
    }
   ],
   "source": [
    "arr @ arr_2  # matrix multiplication\n",
    "\n"
   ]
  },
  {
   "cell_type": "code",
   "execution_count": 20,
   "metadata": {
    "execution": {
     "iopub.execute_input": "2021-10-20T06:31:16.391534Z",
     "iopub.status.busy": "2021-10-20T06:31:16.390534Z",
     "iopub.status.idle": "2021-10-20T06:31:16.402856Z",
     "shell.execute_reply": "2021-10-20T06:31:16.401856Z"
    }
   },
   "outputs": [
    {
     "data": {
      "text/plain": [
       "array([[1, 2, 3, 8],\n",
       "       [3, 2, 3, 2],\n",
       "       [4, 5, 0, 8]])"
      ]
     },
     "execution_count": 20,
     "metadata": {},
     "output_type": "execute_result"
    }
   ],
   "source": [
    "arr\n",
    "\n"
   ]
  },
  {
   "cell_type": "code",
   "execution_count": 21,
   "metadata": {
    "execution": {
     "iopub.execute_input": "2021-10-20T06:31:16.406893Z",
     "iopub.status.busy": "2021-10-20T06:31:16.405890Z",
     "iopub.status.idle": "2021-10-20T06:31:16.418205Z",
     "shell.execute_reply": "2021-10-20T06:31:16.418205Z"
    }
   },
   "outputs": [
    {
     "data": {
      "text/plain": [
       "8"
      ]
     },
     "execution_count": 21,
     "metadata": {},
     "output_type": "execute_result"
    }
   ],
   "source": [
    "arr.max()\n",
    "\n"
   ]
  },
  {
   "cell_type": "code",
   "execution_count": 22,
   "metadata": {
    "execution": {
     "iopub.execute_input": "2021-10-20T06:31:16.422168Z",
     "iopub.status.busy": "2021-10-20T06:31:16.421174Z",
     "iopub.status.idle": "2021-10-20T06:31:16.432881Z",
     "shell.execute_reply": "2021-10-20T06:31:16.433917Z"
    }
   },
   "outputs": [
    {
     "data": {
      "text/plain": [
       "array([ 1,  3,  6, 14, 17, 19, 22, 24, 28, 33, 33, 41], dtype=int32)"
      ]
     },
     "execution_count": 22,
     "metadata": {},
     "output_type": "execute_result"
    }
   ],
   "source": [
    "arr.cumsum()\n",
    "\n"
   ]
  },
  {
   "cell_type": "markdown",
   "metadata": {},
   "source": [
    "**Note:** element-by-element operations is done row-by-row, unlike in Matlab (column-by-column)\n",
    "There are many class methods to calculate some statistics of the array itself along some axis:\n",
    "- `axis=1` means row-wise\n",
    "- `axis=0` means column-wise\n",
    "\n"
   ]
  },
  {
   "cell_type": "code",
   "execution_count": 23,
   "metadata": {
    "execution": {
     "iopub.execute_input": "2021-10-20T06:31:16.437881Z",
     "iopub.status.busy": "2021-10-20T06:31:16.436882Z",
     "iopub.status.idle": "2021-10-20T06:31:16.449360Z",
     "shell.execute_reply": "2021-10-20T06:31:16.449360Z"
    }
   },
   "outputs": [
    {
     "data": {
      "text/plain": [
       "array([[ 1,  3,  6, 14],\n",
       "       [ 3,  5,  8, 10],\n",
       "       [ 4,  9,  9, 17]], dtype=int32)"
      ]
     },
     "execution_count": 23,
     "metadata": {},
     "output_type": "execute_result"
    }
   ],
   "source": [
    "arr.cumsum(axis=1)\n",
    "\n"
   ]
  },
  {
   "cell_type": "markdown",
   "metadata": {},
   "source": [
    "### Note about 1d arrays\n",
    "1d array is **not a column vector** & **not entirely a row vector** and hence should be treated carefully when used with vector/matrix manipulation\n",
    "\n"
   ]
  },
  {
   "cell_type": "code",
   "execution_count": 24,
   "metadata": {
    "execution": {
     "iopub.execute_input": "2021-10-20T06:31:16.453322Z",
     "iopub.status.busy": "2021-10-20T06:31:16.453322Z",
     "iopub.status.idle": "2021-10-20T06:31:16.464573Z",
     "shell.execute_reply": "2021-10-20T06:31:16.464573Z"
    }
   },
   "outputs": [
    {
     "data": {
      "text/plain": [
       "(array([1, 2, 3]), (3,))"
      ]
     },
     "execution_count": 24,
     "metadata": {},
     "output_type": "execute_result"
    }
   ],
   "source": [
    "a = np.array([1, 2, 3])\n",
    "a, a.shape\n",
    "\n"
   ]
  },
  {
   "cell_type": "code",
   "execution_count": 25,
   "metadata": {
    "execution": {
     "iopub.execute_input": "2021-10-20T06:31:16.468574Z",
     "iopub.status.busy": "2021-10-20T06:31:16.467571Z",
     "iopub.status.idle": "2021-10-20T06:31:16.480005Z",
     "shell.execute_reply": "2021-10-20T06:31:16.481001Z"
    }
   },
   "outputs": [
    {
     "data": {
      "text/plain": [
       "(array([[1, 2, 3]]), (1, 3))"
      ]
     },
     "execution_count": 25,
     "metadata": {},
     "output_type": "execute_result"
    }
   ],
   "source": [
    "c = np.array([[1, 2, 3]])\n",
    "c, c.shape  # notice the shape diff\n",
    "\n"
   ]
  },
  {
   "cell_type": "code",
   "execution_count": 26,
   "metadata": {
    "execution": {
     "iopub.execute_input": "2021-10-20T06:31:16.484004Z",
     "iopub.status.busy": "2021-10-20T06:31:16.484004Z",
     "iopub.status.idle": "2021-10-20T06:31:16.495078Z",
     "shell.execute_reply": "2021-10-20T06:31:16.496091Z"
    }
   },
   "outputs": [
    {
     "data": {
      "text/plain": [
       "array([[1, 2],\n",
       "       [3, 4],\n",
       "       [5, 6]])"
      ]
     },
     "execution_count": 26,
     "metadata": {},
     "output_type": "execute_result"
    }
   ],
   "source": [
    "# can be multiply like a row vector\n",
    "b = np.array([[1, 2], [3, 4], [5, 6]])\n",
    "b\n",
    "\n"
   ]
  },
  {
   "cell_type": "code",
   "execution_count": 27,
   "metadata": {
    "execution": {
     "iopub.execute_input": "2021-10-20T06:31:16.499090Z",
     "iopub.status.busy": "2021-10-20T06:31:16.499090Z",
     "iopub.status.idle": "2021-10-20T06:31:16.511470Z",
     "shell.execute_reply": "2021-10-20T06:31:16.510469Z"
    }
   },
   "outputs": [
    {
     "data": {
      "text/plain": [
       "array([22, 28])"
      ]
     },
     "execution_count": 27,
     "metadata": {},
     "output_type": "execute_result"
    }
   ],
   "source": [
    "a @ b\n",
    "\n"
   ]
  },
  {
   "cell_type": "code",
   "execution_count": 28,
   "metadata": {
    "execution": {
     "iopub.execute_input": "2021-10-20T06:31:16.514508Z",
     "iopub.status.busy": "2021-10-20T06:31:16.514508Z",
     "iopub.status.idle": "2021-10-20T06:31:16.526445Z",
     "shell.execute_reply": "2021-10-20T06:31:16.526445Z"
    }
   },
   "outputs": [
    {
     "data": {
      "text/plain": [
       "(array([1, 2, 3]), (3,))"
      ]
     },
     "execution_count": 28,
     "metadata": {},
     "output_type": "execute_result"
    }
   ],
   "source": [
    "# can't be transformed!\n",
    "a.T, a.T.shape\n",
    "\n"
   ]
  },
  {
   "cell_type": "markdown",
   "metadata": {},
   "source": [
    "A trick to transform 1d array into 2d row vector:\n",
    "\n"
   ]
  },
  {
   "cell_type": "code",
   "execution_count": 29,
   "metadata": {
    "execution": {
     "iopub.execute_input": "2021-10-20T06:31:16.530406Z",
     "iopub.status.busy": "2021-10-20T06:31:16.529407Z",
     "iopub.status.idle": "2021-10-20T06:31:16.541407Z",
     "shell.execute_reply": "2021-10-20T06:31:16.541407Z"
    }
   },
   "outputs": [
    {
     "name": "stdout",
     "output_type": "stream",
     "text": [
      "[[1 2 3]]\n",
      "[[1]\n",
      " [2]\n",
      " [3]]\n"
     ]
    }
   ],
   "source": [
    "a_2d = a.reshape((1, -1))  # '-1' means to put all the rest of the elements in such a way that the reshape could fit\n",
    "print(a_2d)\n",
    "print(a_2d.T)\n",
    "\n"
   ]
  },
  {
   "cell_type": "markdown",
   "metadata": {},
   "source": [
    "## Indexing and slicing\n",
    "The most important part is how to index and slice a `np.array`. It is actually very similar to `list`, except that we now may have more index elements because there are more than one dimension for most of the datasets in real life\n",
    "### 1 dimensional case\n",
    "\n"
   ]
  },
  {
   "cell_type": "code",
   "execution_count": 30,
   "metadata": {
    "execution": {
     "iopub.execute_input": "2021-10-20T06:31:16.546007Z",
     "iopub.status.busy": "2021-10-20T06:31:16.544997Z",
     "iopub.status.idle": "2021-10-20T06:31:16.557385Z",
     "shell.execute_reply": "2021-10-20T06:31:16.557385Z"
    }
   },
   "outputs": [
    {
     "data": {
      "text/plain": [
       "array([  1,   2,   8, 100])"
      ]
     },
     "execution_count": 30,
     "metadata": {},
     "output_type": "execute_result"
    }
   ],
   "source": [
    "a1 = np.array([1, 2, 8, 100])\n",
    "a1\n",
    "\n"
   ]
  },
  {
   "cell_type": "code",
   "execution_count": 31,
   "metadata": {
    "execution": {
     "iopub.execute_input": "2021-10-20T06:31:16.561419Z",
     "iopub.status.busy": "2021-10-20T06:31:16.560421Z",
     "iopub.status.idle": "2021-10-20T06:31:16.572738Z",
     "shell.execute_reply": "2021-10-20T06:31:16.572738Z"
    }
   },
   "outputs": [
    {
     "data": {
      "text/plain": [
       "1"
      ]
     },
     "execution_count": 31,
     "metadata": {},
     "output_type": "execute_result"
    }
   ],
   "source": [
    "a1[0]\n",
    "\n"
   ]
  },
  {
   "cell_type": "code",
   "execution_count": 32,
   "metadata": {
    "execution": {
     "iopub.execute_input": "2021-10-20T06:31:16.576745Z",
     "iopub.status.busy": "2021-10-20T06:31:16.575743Z",
     "iopub.status.idle": "2021-10-20T06:31:16.588466Z",
     "shell.execute_reply": "2021-10-20T06:31:16.588466Z"
    }
   },
   "outputs": [
    {
     "data": {
      "text/plain": [
       "8"
      ]
     },
     "execution_count": 32,
     "metadata": {},
     "output_type": "execute_result"
    }
   ],
   "source": [
    "a1[-2]\n",
    "\n"
   ]
  },
  {
   "cell_type": "code",
   "execution_count": 33,
   "metadata": {
    "execution": {
     "iopub.execute_input": "2021-10-20T06:31:16.592428Z",
     "iopub.status.busy": "2021-10-20T06:31:16.592428Z",
     "iopub.status.idle": "2021-10-20T06:31:16.604958Z",
     "shell.execute_reply": "2021-10-20T06:31:16.604958Z"
    }
   },
   "outputs": [
    {
     "data": {
      "text/plain": [
       "array([  1,   2, 100])"
      ]
     },
     "execution_count": 33,
     "metadata": {},
     "output_type": "execute_result"
    }
   ],
   "source": [
    "a1[[0, 1, 3]]\n",
    "\n"
   ]
  },
  {
   "cell_type": "code",
   "execution_count": 34,
   "metadata": {
    "execution": {
     "iopub.execute_input": "2021-10-20T06:31:16.608922Z",
     "iopub.status.busy": "2021-10-20T06:31:16.607922Z",
     "iopub.status.idle": "2021-10-20T06:31:16.619921Z",
     "shell.execute_reply": "2021-10-20T06:31:16.620925Z"
    }
   },
   "outputs": [
    {
     "data": {
      "text/plain": [
       "array([  2,   8, 100])"
      ]
     },
     "execution_count": 34,
     "metadata": {},
     "output_type": "execute_result"
    }
   ],
   "source": [
    "a1[1:4]\n",
    "\n"
   ]
  },
  {
   "cell_type": "markdown",
   "metadata": {},
   "source": [
    "We can also use boolean values to index\n",
    "- `True` means we want this element\n",
    "\n"
   ]
  },
  {
   "cell_type": "code",
   "execution_count": 35,
   "metadata": {
    "execution": {
     "iopub.execute_input": "2021-10-20T06:31:16.624252Z",
     "iopub.status.busy": "2021-10-20T06:31:16.623243Z",
     "iopub.status.idle": "2021-10-20T06:31:16.636322Z",
     "shell.execute_reply": "2021-10-20T06:31:16.636322Z"
    }
   },
   "outputs": [
    {
     "data": {
      "text/plain": [
       "array([False, False,  True,  True])"
      ]
     },
     "execution_count": 35,
     "metadata": {},
     "output_type": "execute_result"
    }
   ],
   "source": [
    "a1 > 3\n",
    "\n"
   ]
  },
  {
   "cell_type": "markdown",
   "metadata": {},
   "source": [
    "### Masking\n",
    "replacing values of array with another values according to a boolean mask\n"
   ]
  },
  {
   "cell_type": "code",
   "execution_count": 36,
   "metadata": {
    "execution": {
     "iopub.execute_input": "2021-10-20T06:31:16.640285Z",
     "iopub.status.busy": "2021-10-20T06:31:16.640285Z",
     "iopub.status.idle": "2021-10-20T06:31:16.651915Z",
     "shell.execute_reply": "2021-10-20T06:31:16.651915Z"
    }
   },
   "outputs": [
    {
     "data": {
      "text/plain": [
       "array([  8, 100])"
      ]
     },
     "execution_count": 36,
     "metadata": {},
     "output_type": "execute_result"
    }
   ],
   "source": [
    "# this is the mask\n",
    "a1[a1 > 3]\n",
    "\n"
   ]
  },
  {
   "cell_type": "code",
   "execution_count": 37,
   "metadata": {
    "execution": {
     "iopub.execute_input": "2021-10-20T06:31:16.655914Z",
     "iopub.status.busy": "2021-10-20T06:31:16.655914Z",
     "iopub.status.idle": "2021-10-20T06:31:16.668007Z",
     "shell.execute_reply": "2021-10-20T06:31:16.669038Z"
    }
   },
   "outputs": [
    {
     "data": {
      "text/plain": [
       "array([  1,   2, 100, 100])"
      ]
     },
     "execution_count": 37,
     "metadata": {},
     "output_type": "execute_result"
    }
   ],
   "source": [
    "# this is a use of the above mask\n",
    "a1[a1 > 3] = 100\n",
    "a1\n"
   ]
  },
  {
   "cell_type": "markdown",
   "metadata": {},
   "source": [
    "### 2 dimensional case\n",
    "\n"
   ]
  },
  {
   "cell_type": "code",
   "execution_count": 38,
   "metadata": {
    "execution": {
     "iopub.execute_input": "2021-10-20T06:31:16.672004Z",
     "iopub.status.busy": "2021-10-20T06:31:16.672004Z",
     "iopub.status.idle": "2021-10-20T06:31:16.683337Z",
     "shell.execute_reply": "2021-10-20T06:31:16.683337Z"
    }
   },
   "outputs": [
    {
     "data": {
      "text/plain": [
       "array([[1, 2, 3, 8],\n",
       "       [3, 2, 3, 2],\n",
       "       [4, 5, 0, 8]])"
      ]
     },
     "execution_count": 38,
     "metadata": {},
     "output_type": "execute_result"
    }
   ],
   "source": [
    "arr\n",
    "\n"
   ]
  },
  {
   "cell_type": "markdown",
   "metadata": {},
   "source": [
    "Using only one number to index will lead to a subset of the original multidimensional array: also an array\n",
    "\n"
   ]
  },
  {
   "cell_type": "code",
   "execution_count": 39,
   "metadata": {
    "execution": {
     "iopub.execute_input": "2021-10-20T06:31:16.687593Z",
     "iopub.status.busy": "2021-10-20T06:31:16.686583Z",
     "iopub.status.idle": "2021-10-20T06:31:16.698499Z",
     "shell.execute_reply": "2021-10-20T06:31:16.699535Z"
    }
   },
   "outputs": [
    {
     "data": {
      "text/plain": [
       "array([1, 2, 3, 8])"
      ]
     },
     "execution_count": 39,
     "metadata": {},
     "output_type": "execute_result"
    }
   ],
   "source": [
    "arr[0]\n",
    "\n",
    "\n"
   ]
  },
  {
   "cell_type": "code",
   "execution_count": 40,
   "metadata": {
    "execution": {
     "iopub.execute_input": "2021-10-20T06:31:16.702535Z",
     "iopub.status.busy": "2021-10-20T06:31:16.702535Z",
     "iopub.status.idle": "2021-10-20T06:31:16.714189Z",
     "shell.execute_reply": "2021-10-20T06:31:16.714189Z"
    }
   },
   "outputs": [
    {
     "data": {
      "text/plain": [
       "numpy.ndarray"
      ]
     },
     "execution_count": 40,
     "metadata": {},
     "output_type": "execute_result"
    }
   ],
   "source": [
    "type(arr[0])\n",
    "\n"
   ]
  },
  {
   "cell_type": "markdown",
   "metadata": {},
   "source": [
    "Since we have 2 dimensions now, there are 2 indices we can use for indexing the 2 dimensions respectively\n",
    "\n"
   ]
  },
  {
   "cell_type": "code",
   "execution_count": 41,
   "metadata": {
    "execution": {
     "iopub.execute_input": "2021-10-20T06:31:16.718151Z",
     "iopub.status.busy": "2021-10-20T06:31:16.717149Z",
     "iopub.status.idle": "2021-10-20T06:31:16.729587Z",
     "shell.execute_reply": "2021-10-20T06:31:16.729587Z"
    }
   },
   "outputs": [
    {
     "data": {
      "text/plain": [
       "1"
      ]
     },
     "execution_count": 41,
     "metadata": {},
     "output_type": "execute_result"
    }
   ],
   "source": [
    "arr[0, 0]\n",
    "\n"
   ]
  },
  {
   "cell_type": "markdown",
   "metadata": {},
   "source": [
    "We can use `:` to indicate everything along that axis\n",
    "\n"
   ]
  },
  {
   "cell_type": "code",
   "execution_count": 42,
   "metadata": {
    "execution": {
     "iopub.execute_input": "2021-10-20T06:31:16.733641Z",
     "iopub.status.busy": "2021-10-20T06:31:16.733641Z",
     "iopub.status.idle": "2021-10-20T06:31:16.745887Z",
     "shell.execute_reply": "2021-10-20T06:31:16.744888Z"
    }
   },
   "outputs": [
    {
     "data": {
      "text/plain": [
       "array([3, 2, 3, 2])"
      ]
     },
     "execution_count": 42,
     "metadata": {},
     "output_type": "execute_result"
    }
   ],
   "source": [
    "arr[1]\n",
    "\n",
    "\n"
   ]
  },
  {
   "cell_type": "code",
   "execution_count": 43,
   "metadata": {
    "execution": {
     "iopub.execute_input": "2021-10-20T06:31:16.748925Z",
     "iopub.status.busy": "2021-10-20T06:31:16.748925Z",
     "iopub.status.idle": "2021-10-20T06:31:16.760669Z",
     "shell.execute_reply": "2021-10-20T06:31:16.760669Z"
    }
   },
   "outputs": [
    {
     "data": {
      "text/plain": [
       "array([3, 2, 3, 2])"
      ]
     },
     "execution_count": 43,
     "metadata": {},
     "output_type": "execute_result"
    }
   ],
   "source": [
    "arr[1, :]\n",
    "\n",
    "\n"
   ]
  },
  {
   "cell_type": "code",
   "execution_count": 44,
   "metadata": {
    "execution": {
     "iopub.execute_input": "2021-10-20T06:31:16.764598Z",
     "iopub.status.busy": "2021-10-20T06:31:16.763640Z",
     "iopub.status.idle": "2021-10-20T06:31:16.775936Z",
     "shell.execute_reply": "2021-10-20T06:31:16.775936Z"
    }
   },
   "outputs": [
    {
     "data": {
      "text/plain": [
       "array([2, 2, 5])"
      ]
     },
     "execution_count": 44,
     "metadata": {},
     "output_type": "execute_result"
    }
   ],
   "source": [
    "arr[:, 1]  # watch out! we've got a 1d array again instead of column vector as maybe expected\n",
    "\n"
   ]
  },
  {
   "cell_type": "code",
   "execution_count": 45,
   "metadata": {
    "execution": {
     "iopub.execute_input": "2021-10-20T06:31:16.779357Z",
     "iopub.status.busy": "2021-10-20T06:31:16.778309Z",
     "iopub.status.idle": "2021-10-20T06:31:16.791353Z",
     "shell.execute_reply": "2021-10-20T06:31:16.791353Z"
    }
   },
   "outputs": [],
   "source": [
    "# 2D masking\n",
    "arr[arr > 3] = 55\n",
    "\n"
   ]
  },
  {
   "cell_type": "markdown",
   "metadata": {},
   "source": [
    "### 3 dimensional case\n",
    "As a final example, we look at a 3d array:\n",
    "\n"
   ]
  },
  {
   "cell_type": "code",
   "execution_count": 46,
   "metadata": {
    "execution": {
     "iopub.execute_input": "2021-10-20T06:31:16.795350Z",
     "iopub.status.busy": "2021-10-20T06:31:16.795350Z",
     "iopub.status.idle": "2021-10-20T06:31:16.807683Z",
     "shell.execute_reply": "2021-10-20T06:31:16.807683Z"
    }
   },
   "outputs": [
    {
     "data": {
      "text/plain": [
       "array([47, 83, 38, 53, 76, 24, 15, 49, 23, 26, 30, 43, 30, 26, 58, 92, 69,\n",
       "       80, 73, 47, 50, 76, 37, 34])"
      ]
     },
     "execution_count": 46,
     "metadata": {},
     "output_type": "execute_result"
    }
   ],
   "source": [
    "np.random.seed(1234)\n",
    "arr_3 = np.random.randint(low=0, high=100, size=24)\n",
    "arr_3\n",
    "\n"
   ]
  },
  {
   "cell_type": "markdown",
   "metadata": {},
   "source": [
    "We can use `reshape` to manipulate the shape of an array\n",
    "\n"
   ]
  },
  {
   "cell_type": "code",
   "execution_count": 47,
   "metadata": {
    "execution": {
     "iopub.execute_input": "2021-10-20T06:31:16.811646Z",
     "iopub.status.busy": "2021-10-20T06:31:16.811646Z",
     "iopub.status.idle": "2021-10-20T06:31:16.823556Z",
     "shell.execute_reply": "2021-10-20T06:31:16.824556Z"
    }
   },
   "outputs": [
    {
     "data": {
      "text/plain": [
       "array([[[47, 83],\n",
       "        [38, 53],\n",
       "        [76, 24],\n",
       "        [15, 49]],\n",
       "\n",
       "       [[23, 26],\n",
       "        [30, 43],\n",
       "        [30, 26],\n",
       "        [58, 92]],\n",
       "\n",
       "       [[69, 80],\n",
       "        [73, 47],\n",
       "        [50, 76],\n",
       "        [37, 34]]])"
      ]
     },
     "execution_count": 47,
     "metadata": {},
     "output_type": "execute_result"
    }
   ],
   "source": [
    "arr_3 = arr_3.reshape(3, 4, 2)\n",
    "arr_3\n",
    "\n"
   ]
  },
  {
   "cell_type": "markdown",
   "metadata": {},
   "source": [
    "**Note**: Are the printed array not what you though it would be? Did they mixed the shape? No!\n",
    "see [this for answers](https://stackoverflow.com/a/22982371/4879610)\n",
    "\n"
   ]
  },
  {
   "cell_type": "code",
   "execution_count": 48,
   "metadata": {
    "execution": {
     "iopub.execute_input": "2021-10-20T06:31:16.829554Z",
     "iopub.status.busy": "2021-10-20T06:31:16.828554Z",
     "iopub.status.idle": "2021-10-20T06:31:16.839555Z",
     "shell.execute_reply": "2021-10-20T06:31:16.840554Z"
    }
   },
   "outputs": [
    {
     "data": {
      "text/plain": [
       "array([[47, 83],\n",
       "       [38, 53],\n",
       "       [76, 24],\n",
       "       [15, 49]])"
      ]
     },
     "execution_count": 48,
     "metadata": {},
     "output_type": "execute_result"
    }
   ],
   "source": [
    "arr_3[0]\n",
    "\n"
   ]
  },
  {
   "cell_type": "code",
   "execution_count": 49,
   "metadata": {
    "execution": {
     "iopub.execute_input": "2021-10-20T06:31:16.843555Z",
     "iopub.status.busy": "2021-10-20T06:31:16.843555Z",
     "iopub.status.idle": "2021-10-20T06:31:16.854555Z",
     "shell.execute_reply": "2021-10-20T06:31:16.854555Z"
    }
   },
   "outputs": [
    {
     "data": {
      "text/plain": [
       "array([49, 92, 34])"
      ]
     },
     "execution_count": 49,
     "metadata": {},
     "output_type": "execute_result"
    }
   ],
   "source": [
    "arr_3[:, 3, 1]\n",
    "\n"
   ]
  },
  {
   "cell_type": "code",
   "execution_count": 50,
   "metadata": {
    "execution": {
     "iopub.execute_input": "2021-10-20T06:31:16.859557Z",
     "iopub.status.busy": "2021-10-20T06:31:16.858554Z",
     "iopub.status.idle": "2021-10-20T06:31:16.869752Z",
     "shell.execute_reply": "2021-10-20T06:31:16.869752Z"
    }
   },
   "outputs": [
    {
     "data": {
      "text/plain": [
       "34"
      ]
     },
     "execution_count": 50,
     "metadata": {},
     "output_type": "execute_result"
    }
   ],
   "source": [
    "arr_3[2, 3, 1]\n"
   ]
  }
 ],
 "metadata": {
  "language_info": {
   "codemirror_mode": {
    "name": "ipython",
    "version": 3
   },
   "file_extension": ".py",
   "mimetype": "text/x-python",
   "name": "python",
   "nbconvert_exporter": "python",
   "pygments_lexer": "ipython3",
   "version": "3.8.11"
  }
 },
 "nbformat": 4,
 "nbformat_minor": 2
}
