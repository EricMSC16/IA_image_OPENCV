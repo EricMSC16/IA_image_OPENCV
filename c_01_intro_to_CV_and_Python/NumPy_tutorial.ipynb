{
 "cells": [
  {
   "cell_type": "markdown",
   "metadata": {},
   "source": [
    "#Python Workshop: NumPy\n",
    "[![Open In Colab](https://colab.research.google.com/assets/colab-badge.svg)](https://colab.research.google.com/github/YoniChechik/AI_is_Math/blob/master/c_01_intro_to_CV_and_Python/NumPy_tutorial.ipynb)\n",
    "\n",
    "<hr>\n",
    "\n",
    "Based on:\n",
    "\n",
    "This [git](https://github.com/zhiyzuo/python-tutorial) of Zhiya Zuo\n",
    "\n",
    "<hr>\n",
    "\n",
    "NumPy is the fundamental package for scientific computing with Python. It contains among other things:\n",
    "\n",
    "- Powerful N-dimensional array object.\n",
    "- Useful linear algebra, Fourier transform, and random number capabilities.\n",
    "- And much more\n",
    "\n",
    "<img src=\"https://upload.wikimedia.org/wikipedia/commons/1/1a/NumPy_logo.svg\" alt=\"numpy logo\" width=\"200\"/>\n",
    "\n",
    "## NumPy installation\n",
    "\n",
    "in the cmd run:\n",
    "\n",
    "```bash\n",
    "pip install numpy\n",
    "```\n",
    "## Arrays\n",
    "\n"
   ]
  },
  {
   "cell_type": "code",
   "execution_count": 1,
   "metadata": {
    "execution": {
     "iopub.execute_input": "2024-02-01T11:37:21.596624Z",
     "iopub.status.busy": "2024-02-01T11:37:21.596392Z",
     "iopub.status.idle": "2024-02-01T11:37:21.635303Z",
     "shell.execute_reply": "2024-02-01T11:37:21.634744Z"
    }
   },
   "outputs": [],
   "source": [
    "# After you install numpy, load it\n",
    "import numpy as np  # you can use np instead of numpy to call the functions in numpy package\n",
    "\n",
    "\n"
   ]
  },
  {
   "cell_type": "code",
   "execution_count": 2,
   "metadata": {
    "execution": {
     "iopub.execute_input": "2024-02-01T11:37:21.637064Z",
     "iopub.status.busy": "2024-02-01T11:37:21.636929Z",
     "iopub.status.idle": "2024-02-01T11:37:21.639320Z",
     "shell.execute_reply": "2024-02-01T11:37:21.638990Z"
    }
   },
   "outputs": [
    {
     "name": "stdout",
     "output_type": "stream",
     "text": [
      "<class 'numpy.ndarray'>\n"
     ]
    }
   ],
   "source": [
    "x = np.array([1, 2, 3])  # create a numpy array object\n",
    "print(type(x))\n",
    "\n"
   ]
  },
  {
   "cell_type": "markdown",
   "metadata": {},
   "source": [
    "We can call `shape` function designed for `numpy.ndarray` class to check the dimension\n",
    "\n"
   ]
  },
  {
   "cell_type": "code",
   "execution_count": 3,
   "metadata": {
    "execution": {
     "iopub.execute_input": "2024-02-01T11:37:21.653465Z",
     "iopub.status.busy": "2024-02-01T11:37:21.653381Z",
     "iopub.status.idle": "2024-02-01T11:37:21.656353Z",
     "shell.execute_reply": "2024-02-01T11:37:21.656150Z"
    }
   },
   "outputs": [
    {
     "data": {
      "text/plain": [
       "(3,)"
      ]
     },
     "execution_count": 3,
     "metadata": {},
     "output_type": "execute_result"
    }
   ],
   "source": [
    "x.shape  # can be compared to 'len()' function that is used with list size\n",
    "\n"
   ]
  },
  {
   "cell_type": "markdown",
   "metadata": {},
   "source": [
    "Unlike `list`, we have to use one single data type for all elements in an array\n",
    "\n"
   ]
  },
  {
   "cell_type": "code",
   "execution_count": 4,
   "metadata": {
    "execution": {
     "iopub.execute_input": "2024-02-01T11:37:21.657610Z",
     "iopub.status.busy": "2024-02-01T11:37:21.657535Z",
     "iopub.status.idle": "2024-02-01T11:37:21.659622Z",
     "shell.execute_reply": "2024-02-01T11:37:21.659421Z"
    }
   },
   "outputs": [
    {
     "data": {
      "text/plain": [
       "array(['1', 'yes'], dtype='<U21')"
      ]
     },
     "execution_count": 4,
     "metadata": {},
     "output_type": "execute_result"
    }
   ],
   "source": [
    "y = np.array([1, \"yes\"])  # automatic type conversion from int to str\n",
    "y\n",
    "\n"
   ]
  },
  {
   "cell_type": "markdown",
   "metadata": {},
   "source": [
    "### Multidimensional arrays\n",
    "\n"
   ]
  },
  {
   "cell_type": "code",
   "execution_count": 5,
   "metadata": {
    "execution": {
     "iopub.execute_input": "2024-02-01T11:37:21.661096Z",
     "iopub.status.busy": "2024-02-01T11:37:21.661001Z",
     "iopub.status.idle": "2024-02-01T11:37:21.663126Z",
     "shell.execute_reply": "2024-02-01T11:37:21.662893Z"
    }
   },
   "outputs": [
    {
     "data": {
      "text/plain": [
       "(1, 4)"
      ]
     },
     "execution_count": 5,
     "metadata": {},
     "output_type": "execute_result"
    }
   ],
   "source": [
    "arr = np.array([[1, 2, 3, 8]])\n",
    "arr.shape\n",
    "\n"
   ]
  },
  {
   "cell_type": "code",
   "execution_count": 6,
   "metadata": {
    "execution": {
     "iopub.execute_input": "2024-02-01T11:37:21.664602Z",
     "iopub.status.busy": "2024-02-01T11:37:21.664480Z",
     "iopub.status.idle": "2024-02-01T11:37:21.666504Z",
     "shell.execute_reply": "2024-02-01T11:37:21.666243Z"
    }
   },
   "outputs": [
    {
     "data": {
      "text/plain": [
       "array([[1, 2, 3, 8]])"
      ]
     },
     "execution_count": 6,
     "metadata": {},
     "output_type": "execute_result"
    }
   ],
   "source": [
    "arr\n",
    "\n"
   ]
  },
  {
   "cell_type": "code",
   "execution_count": 7,
   "metadata": {
    "execution": {
     "iopub.execute_input": "2024-02-01T11:37:21.668301Z",
     "iopub.status.busy": "2024-02-01T11:37:21.668078Z",
     "iopub.status.idle": "2024-02-01T11:37:21.671440Z",
     "shell.execute_reply": "2024-02-01T11:37:21.670998Z"
    }
   },
   "outputs": [
    {
     "data": {
      "text/plain": [
       "(3, 4)"
      ]
     },
     "execution_count": 7,
     "metadata": {},
     "output_type": "execute_result"
    }
   ],
   "source": [
    "arr = np.array([[1, 2, 3, 8], [3, 2, 3, 2], [4, 5, 0, 8]])\n",
    "arr.shape\n",
    "\n"
   ]
  },
  {
   "cell_type": "code",
   "execution_count": 8,
   "metadata": {
    "execution": {
     "iopub.execute_input": "2024-02-01T11:37:21.673151Z",
     "iopub.status.busy": "2024-02-01T11:37:21.672948Z",
     "iopub.status.idle": "2024-02-01T11:37:21.675736Z",
     "shell.execute_reply": "2024-02-01T11:37:21.675354Z"
    }
   },
   "outputs": [
    {
     "data": {
      "text/plain": [
       "array([[1, 2, 3, 8],\n",
       "       [3, 2, 3, 2],\n",
       "       [4, 5, 0, 8]])"
      ]
     },
     "execution_count": 8,
     "metadata": {},
     "output_type": "execute_result"
    }
   ],
   "source": [
    "arr\n",
    "\n"
   ]
  },
  {
   "cell_type": "markdown",
   "metadata": {},
   "source": [
    "### Special arrays\n",
    "There are many special array initialization methods to call:\n",
    "\n"
   ]
  },
  {
   "cell_type": "code",
   "execution_count": 9,
   "metadata": {
    "execution": {
     "iopub.execute_input": "2024-02-01T11:37:21.677303Z",
     "iopub.status.busy": "2024-02-01T11:37:21.677179Z",
     "iopub.status.idle": "2024-02-01T11:37:21.680274Z",
     "shell.execute_reply": "2024-02-01T11:37:21.679896Z"
    }
   },
   "outputs": [
    {
     "data": {
      "text/plain": [
       "array([[0, 0, 0, 0, 0],\n",
       "       [0, 0, 0, 0, 0],\n",
       "       [0, 0, 0, 0, 0]])"
      ]
     },
     "execution_count": 9,
     "metadata": {},
     "output_type": "execute_result"
    }
   ],
   "source": [
    "np.zeros([3, 5], dtype=int)  # dtype can define the type of the array\n",
    "\n",
    "\n"
   ]
  },
  {
   "cell_type": "code",
   "execution_count": 10,
   "metadata": {
    "execution": {
     "iopub.execute_input": "2024-02-01T11:37:21.681843Z",
     "iopub.status.busy": "2024-02-01T11:37:21.681636Z",
     "iopub.status.idle": "2024-02-01T11:37:21.684698Z",
     "shell.execute_reply": "2024-02-01T11:37:21.684304Z"
    }
   },
   "outputs": [
    {
     "data": {
      "text/plain": [
       "array([[1., 1., 1., 1., 1.],\n",
       "       [1., 1., 1., 1., 1.],\n",
       "       [1., 1., 1., 1., 1.]])"
      ]
     },
     "execution_count": 10,
     "metadata": {},
     "output_type": "execute_result"
    }
   ],
   "source": [
    "np.ones([3, 5])\n",
    "\n",
    "\n"
   ]
  },
  {
   "cell_type": "code",
   "execution_count": 11,
   "metadata": {
    "execution": {
     "iopub.execute_input": "2024-02-01T11:37:21.686382Z",
     "iopub.status.busy": "2024-02-01T11:37:21.686167Z",
     "iopub.status.idle": "2024-02-01T11:37:21.689124Z",
     "shell.execute_reply": "2024-02-01T11:37:21.688738Z"
    }
   },
   "outputs": [
    {
     "data": {
      "text/plain": [
       "array([[1., 0., 0.],\n",
       "       [0., 1., 0.],\n",
       "       [0., 0., 1.]])"
      ]
     },
     "execution_count": 11,
     "metadata": {},
     "output_type": "execute_result"
    }
   ],
   "source": [
    "np.eye(3)\n",
    "\n"
   ]
  },
  {
   "cell_type": "markdown",
   "metadata": {},
   "source": [
    "## Operations\n",
    "The rules are very similar to R/Matlab: they are generally element wise\n",
    "\n"
   ]
  },
  {
   "cell_type": "code",
   "execution_count": 12,
   "metadata": {
    "execution": {
     "iopub.execute_input": "2024-02-01T11:37:21.690962Z",
     "iopub.status.busy": "2024-02-01T11:37:21.690837Z",
     "iopub.status.idle": "2024-02-01T11:37:21.693652Z",
     "shell.execute_reply": "2024-02-01T11:37:21.693309Z"
    }
   },
   "outputs": [
    {
     "data": {
      "text/plain": [
       "array([[1, 2, 3, 8],\n",
       "       [3, 2, 3, 2],\n",
       "       [4, 5, 0, 8]])"
      ]
     },
     "execution_count": 12,
     "metadata": {},
     "output_type": "execute_result"
    }
   ],
   "source": [
    "arr\n",
    "\n"
   ]
  },
  {
   "cell_type": "code",
   "execution_count": 13,
   "metadata": {
    "execution": {
     "iopub.execute_input": "2024-02-01T11:37:21.695442Z",
     "iopub.status.busy": "2024-02-01T11:37:21.695282Z",
     "iopub.status.idle": "2024-02-01T11:37:21.698013Z",
     "shell.execute_reply": "2024-02-01T11:37:21.697628Z"
    }
   },
   "outputs": [
    {
     "data": {
      "text/plain": [
       "array([[-4, -3, -2,  3],\n",
       "       [-2, -3, -2, -3],\n",
       "       [-1,  0, -5,  3]])"
      ]
     },
     "execution_count": 13,
     "metadata": {},
     "output_type": "execute_result"
    }
   ],
   "source": [
    "arr - 5\n",
    "\n"
   ]
  },
  {
   "cell_type": "code",
   "execution_count": 14,
   "metadata": {
    "execution": {
     "iopub.execute_input": "2024-02-01T11:37:21.699829Z",
     "iopub.status.busy": "2024-02-01T11:37:21.699634Z",
     "iopub.status.idle": "2024-02-01T11:37:21.702561Z",
     "shell.execute_reply": "2024-02-01T11:37:21.702100Z"
    }
   },
   "outputs": [
    {
     "data": {
      "text/plain": [
       "array([[ 6, 12, 18, 48],\n",
       "       [18, 12, 18, 12],\n",
       "       [24, 30,  0, 48]])"
      ]
     },
     "execution_count": 14,
     "metadata": {},
     "output_type": "execute_result"
    }
   ],
   "source": [
    "arr * 6  # element-vise multiplication\n",
    "\n"
   ]
  },
  {
   "cell_type": "code",
   "execution_count": 15,
   "metadata": {
    "execution": {
     "iopub.execute_input": "2024-02-01T11:37:21.704460Z",
     "iopub.status.busy": "2024-02-01T11:37:21.704269Z",
     "iopub.status.idle": "2024-02-01T11:37:21.706734Z",
     "shell.execute_reply": "2024-02-01T11:37:21.706401Z"
    }
   },
   "outputs": [
    {
     "data": {
      "text/plain": [
       "array([[ 1,  4,  9, 64],\n",
       "       [ 9,  4,  9,  4],\n",
       "       [16, 25,  0, 64]])"
      ]
     },
     "execution_count": 15,
     "metadata": {},
     "output_type": "execute_result"
    }
   ],
   "source": [
    "arr * arr  # element-vise multiplication of two matrices\n",
    "\n"
   ]
  },
  {
   "cell_type": "code",
   "execution_count": 16,
   "metadata": {
    "execution": {
     "iopub.execute_input": "2024-02-01T11:37:21.708645Z",
     "iopub.status.busy": "2024-02-01T11:37:21.708384Z",
     "iopub.status.idle": "2024-02-01T11:37:21.711075Z",
     "shell.execute_reply": "2024-02-01T11:37:21.710744Z"
    }
   },
   "outputs": [
    {
     "data": {
      "text/plain": [
       "array([[2.71828183e+00, 7.38905610e+00, 2.00855369e+01, 2.98095799e+03],\n",
       "       [2.00855369e+01, 7.38905610e+00, 2.00855369e+01, 7.38905610e+00],\n",
       "       [5.45981500e+01, 1.48413159e+02, 1.00000000e+00, 2.98095799e+03]])"
      ]
     },
     "execution_count": 16,
     "metadata": {},
     "output_type": "execute_result"
    }
   ],
   "source": [
    "np.exp(arr)\n",
    "\n"
   ]
  },
  {
   "cell_type": "markdown",
   "metadata": {},
   "source": [
    "More examples:\n",
    "\n"
   ]
  },
  {
   "cell_type": "code",
   "execution_count": 17,
   "metadata": {
    "execution": {
     "iopub.execute_input": "2024-02-01T11:37:21.712875Z",
     "iopub.status.busy": "2024-02-01T11:37:21.712766Z",
     "iopub.status.idle": "2024-02-01T11:37:21.715280Z",
     "shell.execute_reply": "2024-02-01T11:37:21.714984Z"
    }
   },
   "outputs": [
    {
     "data": {
      "text/plain": [
       "array([[1],\n",
       "       [3],\n",
       "       [2],\n",
       "       [0]])"
      ]
     },
     "execution_count": 17,
     "metadata": {},
     "output_type": "execute_result"
    }
   ],
   "source": [
    "arr_2 = np.array([[1], [3], [2], [0]])\n",
    "arr_2\n",
    "\n"
   ]
  },
  {
   "cell_type": "code",
   "execution_count": 18,
   "metadata": {
    "execution": {
     "iopub.execute_input": "2024-02-01T11:37:21.717104Z",
     "iopub.status.busy": "2024-02-01T11:37:21.716921Z",
     "iopub.status.idle": "2024-02-01T11:37:21.719387Z",
     "shell.execute_reply": "2024-02-01T11:37:21.719059Z"
    }
   },
   "outputs": [
    {
     "data": {
      "text/plain": [
       "array([[1, 3, 2, 0]])"
      ]
     },
     "execution_count": 18,
     "metadata": {},
     "output_type": "execute_result"
    }
   ],
   "source": [
    "arr_2_T = arr_2.T  # transpose\n",
    "arr_2_T\n",
    "\n",
    "\n"
   ]
  },
  {
   "cell_type": "code",
   "execution_count": 19,
   "metadata": {
    "execution": {
     "iopub.execute_input": "2024-02-01T11:37:21.721359Z",
     "iopub.status.busy": "2024-02-01T11:37:21.721116Z",
     "iopub.status.idle": "2024-02-01T11:37:21.724229Z",
     "shell.execute_reply": "2024-02-01T11:37:21.723716Z"
    }
   },
   "outputs": [
    {
     "data": {
      "text/plain": [
       "array([[13],\n",
       "       [15],\n",
       "       [19]])"
      ]
     },
     "execution_count": 19,
     "metadata": {},
     "output_type": "execute_result"
    }
   ],
   "source": [
    "arr @ arr_2  # matrix multiplication\n",
    "\n"
   ]
  },
  {
   "cell_type": "code",
   "execution_count": 20,
   "metadata": {
    "execution": {
     "iopub.execute_input": "2024-02-01T11:37:21.726141Z",
     "iopub.status.busy": "2024-02-01T11:37:21.726005Z",
     "iopub.status.idle": "2024-02-01T11:37:21.728857Z",
     "shell.execute_reply": "2024-02-01T11:37:21.728579Z"
    }
   },
   "outputs": [
    {
     "data": {
      "text/plain": [
       "array([[1, 2, 3, 8],\n",
       "       [3, 2, 3, 2],\n",
       "       [4, 5, 0, 8]])"
      ]
     },
     "execution_count": 20,
     "metadata": {},
     "output_type": "execute_result"
    }
   ],
   "source": [
    "arr\n",
    "\n"
   ]
  },
  {
   "cell_type": "code",
   "execution_count": 21,
   "metadata": {
    "execution": {
     "iopub.execute_input": "2024-02-01T11:37:21.730818Z",
     "iopub.status.busy": "2024-02-01T11:37:21.730599Z",
     "iopub.status.idle": "2024-02-01T11:37:21.733101Z",
     "shell.execute_reply": "2024-02-01T11:37:21.732791Z"
    }
   },
   "outputs": [
    {
     "data": {
      "text/plain": [
       "8"
      ]
     },
     "execution_count": 21,
     "metadata": {},
     "output_type": "execute_result"
    }
   ],
   "source": [
    "arr.max()\n",
    "\n"
   ]
  },
  {
   "cell_type": "code",
   "execution_count": 22,
   "metadata": {
    "execution": {
     "iopub.execute_input": "2024-02-01T11:37:21.735057Z",
     "iopub.status.busy": "2024-02-01T11:37:21.734847Z",
     "iopub.status.idle": "2024-02-01T11:37:21.737341Z",
     "shell.execute_reply": "2024-02-01T11:37:21.737012Z"
    }
   },
   "outputs": [
    {
     "data": {
      "text/plain": [
       "array([ 1,  3,  6, 14, 17, 19, 22, 24, 28, 33, 33, 41])"
      ]
     },
     "execution_count": 22,
     "metadata": {},
     "output_type": "execute_result"
    }
   ],
   "source": [
    "arr.cumsum()\n",
    "\n"
   ]
  },
  {
   "cell_type": "markdown",
   "metadata": {},
   "source": [
    "**Note:** element-by-element operations is done row-by-row, unlike in Matlab (column-by-column)\n",
    "There are many class methods to calculate some statistics of the array itself along some axis:\n",
    "- `axis=1` means row-wise\n",
    "- `axis=0` means column-wise\n",
    "\n"
   ]
  },
  {
   "cell_type": "code",
   "execution_count": 23,
   "metadata": {
    "execution": {
     "iopub.execute_input": "2024-02-01T11:37:21.739239Z",
     "iopub.status.busy": "2024-02-01T11:37:21.739016Z",
     "iopub.status.idle": "2024-02-01T11:37:21.741573Z",
     "shell.execute_reply": "2024-02-01T11:37:21.741279Z"
    }
   },
   "outputs": [
    {
     "data": {
      "text/plain": [
       "array([[ 1,  3,  6, 14],\n",
       "       [ 3,  5,  8, 10],\n",
       "       [ 4,  9,  9, 17]])"
      ]
     },
     "execution_count": 23,
     "metadata": {},
     "output_type": "execute_result"
    }
   ],
   "source": [
    "arr.cumsum(axis=1)\n",
    "\n"
   ]
  },
  {
   "cell_type": "markdown",
   "metadata": {},
   "source": [
    "### Note about 1d arrays\n",
    "1d array is **not a column vector** & **not entirely a row vector** and hence should be treated carefully when used with vector/matrix manipulation\n",
    "\n"
   ]
  },
  {
   "cell_type": "code",
   "execution_count": 24,
   "metadata": {
    "execution": {
     "iopub.execute_input": "2024-02-01T11:37:21.743464Z",
     "iopub.status.busy": "2024-02-01T11:37:21.743337Z",
     "iopub.status.idle": "2024-02-01T11:37:21.746323Z",
     "shell.execute_reply": "2024-02-01T11:37:21.745989Z"
    }
   },
   "outputs": [
    {
     "data": {
      "text/plain": [
       "(array([1, 2, 3]), (3,))"
      ]
     },
     "execution_count": 24,
     "metadata": {},
     "output_type": "execute_result"
    }
   ],
   "source": [
    "a = np.array([1, 2, 3])\n",
    "a, a.shape\n",
    "\n"
   ]
  },
  {
   "cell_type": "code",
   "execution_count": 25,
   "metadata": {
    "execution": {
     "iopub.execute_input": "2024-02-01T11:37:21.748351Z",
     "iopub.status.busy": "2024-02-01T11:37:21.748037Z",
     "iopub.status.idle": "2024-02-01T11:37:21.750907Z",
     "shell.execute_reply": "2024-02-01T11:37:21.750525Z"
    }
   },
   "outputs": [
    {
     "data": {
      "text/plain": [
       "(array([[1, 2, 3]]), (1, 3))"
      ]
     },
     "execution_count": 25,
     "metadata": {},
     "output_type": "execute_result"
    }
   ],
   "source": [
    "c = np.array([[1, 2, 3]])\n",
    "c, c.shape  # notice the shape diff\n",
    "\n"
   ]
  },
  {
   "cell_type": "code",
   "execution_count": 26,
   "metadata": {
    "execution": {
     "iopub.execute_input": "2024-02-01T11:37:21.752916Z",
     "iopub.status.busy": "2024-02-01T11:37:21.752513Z",
     "iopub.status.idle": "2024-02-01T11:37:21.756227Z",
     "shell.execute_reply": "2024-02-01T11:37:21.755775Z"
    }
   },
   "outputs": [
    {
     "data": {
      "text/plain": [
       "array([[1, 2],\n",
       "       [3, 4],\n",
       "       [5, 6]])"
      ]
     },
     "execution_count": 26,
     "metadata": {},
     "output_type": "execute_result"
    }
   ],
   "source": [
    "# can be multiply like a row vector\n",
    "b = np.array([[1, 2], [3, 4], [5, 6]])\n",
    "b\n",
    "\n"
   ]
  },
  {
   "cell_type": "code",
   "execution_count": 27,
   "metadata": {
    "execution": {
     "iopub.execute_input": "2024-02-01T11:37:21.757750Z",
     "iopub.status.busy": "2024-02-01T11:37:21.757525Z",
     "iopub.status.idle": "2024-02-01T11:37:21.760538Z",
     "shell.execute_reply": "2024-02-01T11:37:21.760222Z"
    }
   },
   "outputs": [
    {
     "data": {
      "text/plain": [
       "array([22, 28])"
      ]
     },
     "execution_count": 27,
     "metadata": {},
     "output_type": "execute_result"
    }
   ],
   "source": [
    "a @ b\n",
    "\n"
   ]
  },
  {
   "cell_type": "code",
   "execution_count": 28,
   "metadata": {
    "execution": {
     "iopub.execute_input": "2024-02-01T11:37:21.762115Z",
     "iopub.status.busy": "2024-02-01T11:37:21.761798Z",
     "iopub.status.idle": "2024-02-01T11:37:21.764139Z",
     "shell.execute_reply": "2024-02-01T11:37:21.763892Z"
    }
   },
   "outputs": [
    {
     "data": {
      "text/plain": [
       "(array([1, 2, 3]), (3,))"
      ]
     },
     "execution_count": 28,
     "metadata": {},
     "output_type": "execute_result"
    }
   ],
   "source": [
    "# can't be transformed!\n",
    "a.T, a.T.shape\n",
    "\n"
   ]
  },
  {
   "cell_type": "markdown",
   "metadata": {},
   "source": [
    "A trick to transform 1d array into 2d row vector:\n",
    "\n"
   ]
  },
  {
   "cell_type": "code",
   "execution_count": 29,
   "metadata": {
    "execution": {
     "iopub.execute_input": "2024-02-01T11:37:21.765473Z",
     "iopub.status.busy": "2024-02-01T11:37:21.765344Z",
     "iopub.status.idle": "2024-02-01T11:37:21.767248Z",
     "shell.execute_reply": "2024-02-01T11:37:21.767019Z"
    }
   },
   "outputs": [
    {
     "name": "stdout",
     "output_type": "stream",
     "text": [
      "[[1 2 3]]\n",
      "[[1]\n",
      " [2]\n",
      " [3]]\n"
     ]
    }
   ],
   "source": [
    "a_2d = a.reshape((1, -1))  # '-1' means to put all the rest of the elements in such a way that the reshape could fit\n",
    "print(a_2d)\n",
    "print(a_2d.T)\n",
    "\n"
   ]
  },
  {
   "cell_type": "markdown",
   "metadata": {},
   "source": [
    "## Indexing and slicing\n",
    "The most important part is how to index and slice a `np.array`. It is actually very similar to `list`, except that we now may have more index elements because there are more than one dimension for most of the datasets in real life\n",
    "### 1 dimensional case\n",
    "\n"
   ]
  },
  {
   "cell_type": "code",
   "execution_count": 30,
   "metadata": {
    "execution": {
     "iopub.execute_input": "2024-02-01T11:37:21.768985Z",
     "iopub.status.busy": "2024-02-01T11:37:21.768850Z",
     "iopub.status.idle": "2024-02-01T11:37:21.772289Z",
     "shell.execute_reply": "2024-02-01T11:37:21.771801Z"
    }
   },
   "outputs": [
    {
     "data": {
      "text/plain": [
       "array([  1,   2,   8, 100])"
      ]
     },
     "execution_count": 30,
     "metadata": {},
     "output_type": "execute_result"
    }
   ],
   "source": [
    "a1 = np.array([1, 2, 8, 100])\n",
    "a1\n",
    "\n"
   ]
  },
  {
   "cell_type": "code",
   "execution_count": 31,
   "metadata": {
    "execution": {
     "iopub.execute_input": "2024-02-01T11:37:21.773447Z",
     "iopub.status.busy": "2024-02-01T11:37:21.773353Z",
     "iopub.status.idle": "2024-02-01T11:37:21.775591Z",
     "shell.execute_reply": "2024-02-01T11:37:21.775351Z"
    }
   },
   "outputs": [
    {
     "data": {
      "text/plain": [
       "1"
      ]
     },
     "execution_count": 31,
     "metadata": {},
     "output_type": "execute_result"
    }
   ],
   "source": [
    "a1[0]\n",
    "\n"
   ]
  },
  {
   "cell_type": "code",
   "execution_count": 32,
   "metadata": {
    "execution": {
     "iopub.execute_input": "2024-02-01T11:37:21.776595Z",
     "iopub.status.busy": "2024-02-01T11:37:21.776506Z",
     "iopub.status.idle": "2024-02-01T11:37:21.778530Z",
     "shell.execute_reply": "2024-02-01T11:37:21.778275Z"
    }
   },
   "outputs": [
    {
     "data": {
      "text/plain": [
       "8"
      ]
     },
     "execution_count": 32,
     "metadata": {},
     "output_type": "execute_result"
    }
   ],
   "source": [
    "a1[-2]\n",
    "\n"
   ]
  },
  {
   "cell_type": "code",
   "execution_count": 33,
   "metadata": {
    "execution": {
     "iopub.execute_input": "2024-02-01T11:37:21.779864Z",
     "iopub.status.busy": "2024-02-01T11:37:21.779648Z",
     "iopub.status.idle": "2024-02-01T11:37:21.781880Z",
     "shell.execute_reply": "2024-02-01T11:37:21.781636Z"
    }
   },
   "outputs": [
    {
     "data": {
      "text/plain": [
       "array([  1,   2, 100])"
      ]
     },
     "execution_count": 33,
     "metadata": {},
     "output_type": "execute_result"
    }
   ],
   "source": [
    "a1[[0, 1, 3]]\n",
    "\n"
   ]
  },
  {
   "cell_type": "code",
   "execution_count": 34,
   "metadata": {
    "execution": {
     "iopub.execute_input": "2024-02-01T11:37:21.783261Z",
     "iopub.status.busy": "2024-02-01T11:37:21.783056Z",
     "iopub.status.idle": "2024-02-01T11:37:21.785111Z",
     "shell.execute_reply": "2024-02-01T11:37:21.784880Z"
    }
   },
   "outputs": [
    {
     "data": {
      "text/plain": [
       "array([  2,   8, 100])"
      ]
     },
     "execution_count": 34,
     "metadata": {},
     "output_type": "execute_result"
    }
   ],
   "source": [
    "a1[1:4]\n",
    "\n"
   ]
  },
  {
   "cell_type": "markdown",
   "metadata": {},
   "source": [
    "We can also use boolean values to index\n",
    "- `True` means we want this element\n",
    "\n"
   ]
  },
  {
   "cell_type": "code",
   "execution_count": 35,
   "metadata": {
    "execution": {
     "iopub.execute_input": "2024-02-01T11:37:21.786532Z",
     "iopub.status.busy": "2024-02-01T11:37:21.786226Z",
     "iopub.status.idle": "2024-02-01T11:37:21.788546Z",
     "shell.execute_reply": "2024-02-01T11:37:21.788240Z"
    }
   },
   "outputs": [
    {
     "data": {
      "text/plain": [
       "array([False, False,  True,  True])"
      ]
     },
     "execution_count": 35,
     "metadata": {},
     "output_type": "execute_result"
    }
   ],
   "source": [
    "a1 > 3\n",
    "\n"
   ]
  },
  {
   "cell_type": "markdown",
   "metadata": {},
   "source": [
    "### Masking\n",
    "replacing values of array with another values according to a boolean mask\n"
   ]
  },
  {
   "cell_type": "code",
   "execution_count": 36,
   "metadata": {
    "execution": {
     "iopub.execute_input": "2024-02-01T11:37:21.789634Z",
     "iopub.status.busy": "2024-02-01T11:37:21.789567Z",
     "iopub.status.idle": "2024-02-01T11:37:21.791240Z",
     "shell.execute_reply": "2024-02-01T11:37:21.791036Z"
    }
   },
   "outputs": [
    {
     "data": {
      "text/plain": [
       "array([  8, 100])"
      ]
     },
     "execution_count": 36,
     "metadata": {},
     "output_type": "execute_result"
    }
   ],
   "source": [
    "# this is the mask\n",
    "a1[a1 > 3]\n",
    "\n"
   ]
  },
  {
   "cell_type": "code",
   "execution_count": 37,
   "metadata": {
    "execution": {
     "iopub.execute_input": "2024-02-01T11:37:21.792479Z",
     "iopub.status.busy": "2024-02-01T11:37:21.792401Z",
     "iopub.status.idle": "2024-02-01T11:37:21.794118Z",
     "shell.execute_reply": "2024-02-01T11:37:21.793909Z"
    }
   },
   "outputs": [
    {
     "data": {
      "text/plain": [
       "array([  1,   2, 100, 100])"
      ]
     },
     "execution_count": 37,
     "metadata": {},
     "output_type": "execute_result"
    }
   ],
   "source": [
    "# this is a use of the above mask\n",
    "a1[a1 > 3] = 100\n",
    "a1\n"
   ]
  },
  {
   "cell_type": "markdown",
   "metadata": {},
   "source": [
    "### 2 dimensional case\n",
    "\n"
   ]
  },
  {
   "cell_type": "code",
   "execution_count": 38,
   "metadata": {
    "execution": {
     "iopub.execute_input": "2024-02-01T11:37:21.795396Z",
     "iopub.status.busy": "2024-02-01T11:37:21.795319Z",
     "iopub.status.idle": "2024-02-01T11:37:21.796933Z",
     "shell.execute_reply": "2024-02-01T11:37:21.796742Z"
    }
   },
   "outputs": [
    {
     "data": {
      "text/plain": [
       "array([[1, 2, 3, 8],\n",
       "       [3, 2, 3, 2],\n",
       "       [4, 5, 0, 8]])"
      ]
     },
     "execution_count": 38,
     "metadata": {},
     "output_type": "execute_result"
    }
   ],
   "source": [
    "arr\n",
    "\n"
   ]
  },
  {
   "cell_type": "markdown",
   "metadata": {},
   "source": [
    "Using only one number to index will lead to a subset of the original multidimensional array: also an array\n",
    "\n"
   ]
  },
  {
   "cell_type": "code",
   "execution_count": 39,
   "metadata": {
    "execution": {
     "iopub.execute_input": "2024-02-01T11:37:21.798024Z",
     "iopub.status.busy": "2024-02-01T11:37:21.797963Z",
     "iopub.status.idle": "2024-02-01T11:37:21.799561Z",
     "shell.execute_reply": "2024-02-01T11:37:21.799358Z"
    }
   },
   "outputs": [
    {
     "data": {
      "text/plain": [
       "array([1, 2, 3, 8])"
      ]
     },
     "execution_count": 39,
     "metadata": {},
     "output_type": "execute_result"
    }
   ],
   "source": [
    "arr[0]\n",
    "\n",
    "\n"
   ]
  },
  {
   "cell_type": "code",
   "execution_count": 40,
   "metadata": {
    "execution": {
     "iopub.execute_input": "2024-02-01T11:37:21.800585Z",
     "iopub.status.busy": "2024-02-01T11:37:21.800505Z",
     "iopub.status.idle": "2024-02-01T11:37:21.802337Z",
     "shell.execute_reply": "2024-02-01T11:37:21.801953Z"
    }
   },
   "outputs": [
    {
     "data": {
      "text/plain": [
       "numpy.ndarray"
      ]
     },
     "execution_count": 40,
     "metadata": {},
     "output_type": "execute_result"
    }
   ],
   "source": [
    "type(arr[0])\n",
    "\n"
   ]
  },
  {
   "cell_type": "markdown",
   "metadata": {},
   "source": [
    "Since we have 2 dimensions now, there are 2 indices we can use for indexing the 2 dimensions respectively\n",
    "\n"
   ]
  },
  {
   "cell_type": "code",
   "execution_count": 41,
   "metadata": {
    "execution": {
     "iopub.execute_input": "2024-02-01T11:37:21.803623Z",
     "iopub.status.busy": "2024-02-01T11:37:21.803406Z",
     "iopub.status.idle": "2024-02-01T11:37:21.805655Z",
     "shell.execute_reply": "2024-02-01T11:37:21.805332Z"
    }
   },
   "outputs": [
    {
     "data": {
      "text/plain": [
       "1"
      ]
     },
     "execution_count": 41,
     "metadata": {},
     "output_type": "execute_result"
    }
   ],
   "source": [
    "arr[0, 0]\n",
    "\n"
   ]
  },
  {
   "cell_type": "markdown",
   "metadata": {},
   "source": [
    "We can use `:` to indicate everything along that axis\n",
    "\n"
   ]
  },
  {
   "cell_type": "code",
   "execution_count": 42,
   "metadata": {
    "execution": {
     "iopub.execute_input": "2024-02-01T11:37:21.806677Z",
     "iopub.status.busy": "2024-02-01T11:37:21.806565Z",
     "iopub.status.idle": "2024-02-01T11:37:21.808196Z",
     "shell.execute_reply": "2024-02-01T11:37:21.807997Z"
    }
   },
   "outputs": [
    {
     "data": {
      "text/plain": [
       "array([3, 2, 3, 2])"
      ]
     },
     "execution_count": 42,
     "metadata": {},
     "output_type": "execute_result"
    }
   ],
   "source": [
    "arr[1]\n",
    "\n",
    "\n"
   ]
  },
  {
   "cell_type": "code",
   "execution_count": 43,
   "metadata": {
    "execution": {
     "iopub.execute_input": "2024-02-01T11:37:21.809151Z",
     "iopub.status.busy": "2024-02-01T11:37:21.809073Z",
     "iopub.status.idle": "2024-02-01T11:37:21.810686Z",
     "shell.execute_reply": "2024-02-01T11:37:21.810488Z"
    }
   },
   "outputs": [
    {
     "data": {
      "text/plain": [
       "array([3, 2, 3, 2])"
      ]
     },
     "execution_count": 43,
     "metadata": {},
     "output_type": "execute_result"
    }
   ],
   "source": [
    "arr[1, :]\n",
    "\n",
    "\n"
   ]
  },
  {
   "cell_type": "code",
   "execution_count": 44,
   "metadata": {
    "execution": {
     "iopub.execute_input": "2024-02-01T11:37:21.811670Z",
     "iopub.status.busy": "2024-02-01T11:37:21.811581Z",
     "iopub.status.idle": "2024-02-01T11:37:21.813183Z",
     "shell.execute_reply": "2024-02-01T11:37:21.812994Z"
    }
   },
   "outputs": [
    {
     "data": {
      "text/plain": [
       "array([2, 2, 5])"
      ]
     },
     "execution_count": 44,
     "metadata": {},
     "output_type": "execute_result"
    }
   ],
   "source": [
    "arr[:, 1]  # watch out! we've got a 1d array again instead of column vector as maybe expected\n",
    "\n"
   ]
  },
  {
   "cell_type": "code",
   "execution_count": 45,
   "metadata": {
    "execution": {
     "iopub.execute_input": "2024-02-01T11:37:21.814103Z",
     "iopub.status.busy": "2024-02-01T11:37:21.814021Z",
     "iopub.status.idle": "2024-02-01T11:37:21.815366Z",
     "shell.execute_reply": "2024-02-01T11:37:21.815182Z"
    }
   },
   "outputs": [],
   "source": [
    "# 2D masking\n",
    "arr[arr > 3] = 55\n",
    "\n"
   ]
  },
  {
   "cell_type": "markdown",
   "metadata": {},
   "source": [
    "### 3 dimensional case\n",
    "As a final example, we look at a 3d array:\n",
    "\n"
   ]
  },
  {
   "cell_type": "code",
   "execution_count": 46,
   "metadata": {
    "execution": {
     "iopub.execute_input": "2024-02-01T11:37:21.816249Z",
     "iopub.status.busy": "2024-02-01T11:37:21.816171Z",
     "iopub.status.idle": "2024-02-01T11:37:21.817916Z",
     "shell.execute_reply": "2024-02-01T11:37:21.817739Z"
    }
   },
   "outputs": [
    {
     "data": {
      "text/plain": [
       "array([47, 83, 38, 53, 76, 24, 15, 49, 23, 26, 30, 43, 30, 26, 58, 92, 69,\n",
       "       80, 73, 47, 50, 76, 37, 34])"
      ]
     },
     "execution_count": 46,
     "metadata": {},
     "output_type": "execute_result"
    }
   ],
   "source": [
    "np.random.seed(1234)\n",
    "arr_3 = np.random.randint(low=0, high=100, size=24)\n",
    "arr_3\n",
    "\n"
   ]
  },
  {
   "cell_type": "markdown",
   "metadata": {},
   "source": [
    "We can use `reshape` to manipulate the shape of an array\n",
    "\n"
   ]
  },
  {
   "cell_type": "code",
   "execution_count": 47,
   "metadata": {
    "execution": {
     "iopub.execute_input": "2024-02-01T11:37:21.819139Z",
     "iopub.status.busy": "2024-02-01T11:37:21.819054Z",
     "iopub.status.idle": "2024-02-01T11:37:21.820746Z",
     "shell.execute_reply": "2024-02-01T11:37:21.820570Z"
    }
   },
   "outputs": [
    {
     "data": {
      "text/plain": [
       "array([[[47, 83],\n",
       "        [38, 53],\n",
       "        [76, 24],\n",
       "        [15, 49]],\n",
       "\n",
       "       [[23, 26],\n",
       "        [30, 43],\n",
       "        [30, 26],\n",
       "        [58, 92]],\n",
       "\n",
       "       [[69, 80],\n",
       "        [73, 47],\n",
       "        [50, 76],\n",
       "        [37, 34]]])"
      ]
     },
     "execution_count": 47,
     "metadata": {},
     "output_type": "execute_result"
    }
   ],
   "source": [
    "arr_3 = arr_3.reshape(3, 4, 2)\n",
    "arr_3\n",
    "\n"
   ]
  },
  {
   "cell_type": "markdown",
   "metadata": {},
   "source": [
    "**Note**: Are the printed array not what you though it would be? Did they mixed the shape? No!\n",
    "see [this for answers](https://stackoverflow.com/a/22982371/4879610)\n",
    "\n"
   ]
  },
  {
   "cell_type": "code",
   "execution_count": 48,
   "metadata": {
    "execution": {
     "iopub.execute_input": "2024-02-01T11:37:21.821746Z",
     "iopub.status.busy": "2024-02-01T11:37:21.821666Z",
     "iopub.status.idle": "2024-02-01T11:37:21.823273Z",
     "shell.execute_reply": "2024-02-01T11:37:21.823078Z"
    }
   },
   "outputs": [
    {
     "data": {
      "text/plain": [
       "array([[47, 83],\n",
       "       [38, 53],\n",
       "       [76, 24],\n",
       "       [15, 49]])"
      ]
     },
     "execution_count": 48,
     "metadata": {},
     "output_type": "execute_result"
    }
   ],
   "source": [
    "arr_3[0]\n",
    "\n"
   ]
  },
  {
   "cell_type": "code",
   "execution_count": 49,
   "metadata": {
    "execution": {
     "iopub.execute_input": "2024-02-01T11:37:21.824421Z",
     "iopub.status.busy": "2024-02-01T11:37:21.824343Z",
     "iopub.status.idle": "2024-02-01T11:37:21.825935Z",
     "shell.execute_reply": "2024-02-01T11:37:21.825755Z"
    }
   },
   "outputs": [
    {
     "data": {
      "text/plain": [
       "array([49, 92, 34])"
      ]
     },
     "execution_count": 49,
     "metadata": {},
     "output_type": "execute_result"
    }
   ],
   "source": [
    "arr_3[:, 3, 1]\n",
    "\n"
   ]
  },
  {
   "cell_type": "code",
   "execution_count": 50,
   "metadata": {
    "execution": {
     "iopub.execute_input": "2024-02-01T11:37:21.827100Z",
     "iopub.status.busy": "2024-02-01T11:37:21.827035Z",
     "iopub.status.idle": "2024-02-01T11:37:21.828692Z",
     "shell.execute_reply": "2024-02-01T11:37:21.828501Z"
    }
   },
   "outputs": [
    {
     "data": {
      "text/plain": [
       "34"
      ]
     },
     "execution_count": 50,
     "metadata": {},
     "output_type": "execute_result"
    }
   ],
   "source": [
    "arr_3[2, 3, 1]\n"
   ]
  }
 ],
 "metadata": {
  "language_info": {
   "codemirror_mode": {
    "name": "ipython",
    "version": 3
   },
   "file_extension": ".py",
   "mimetype": "text/x-python",
   "name": "python",
   "nbconvert_exporter": "python",
   "pygments_lexer": "ipython3",
   "version": "3.11.7"
  }
 },
 "nbformat": 4,
 "nbformat_minor": 2
}
