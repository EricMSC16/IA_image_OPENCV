{
 "cells": [
  {
   "cell_type": "markdown",
   "metadata": {},
   "source": [
    "#Python Workshop: NumPy\n",
    "[![Open In Colab](https://colab.research.google.com/assets/colab-badge.svg)](https://colab.research.google.com/github/YoniChechik/AI_is_Math/blob/master/c_01_intro_to_CV_and_Python/NumPy_tutorial.ipynb)\n",
    "\n",
    "<hr>\n",
    "\n",
    "Based on:\n",
    "\n",
    "This [git](https://github.com/zhiyzuo/python-tutorial) of Zhiya Zuo\n",
    "\n",
    "<hr>\n",
    "\n",
    "NumPy is the fundamental package for scientific computing with Python. It contains among other things:\n",
    "\n",
    "- Powerful N-dimensional array object.\n",
    "- Useful linear algebra, Fourier transform, and random number capabilities.\n",
    "- And much more\n",
    "\n",
    "<img src=\"https://upload.wikimedia.org/wikipedia/commons/1/1a/NumPy_logo.svg\" alt=\"numpy logo\" width=\"200\"/>\n",
    "\n",
    "## NumPy installation\n",
    "\n",
    "in the cmd run:\n",
    "\n",
    "```bash\n",
    "pip install numpy\n",
    "```\n",
    "## Arrays\n",
    "\n"
   ]
  },
  {
   "cell_type": "code",
   "execution_count": 1,
   "metadata": {
    "execution": {
     "iopub.execute_input": "2022-10-13T18:56:53.564570Z",
     "iopub.status.busy": "2022-10-13T18:56:53.563552Z",
     "iopub.status.idle": "2022-10-13T18:56:53.698973Z",
     "shell.execute_reply": "2022-10-13T18:56:53.697994Z"
    }
   },
   "outputs": [],
   "source": [
    "# After you install numpy, load it\n",
    "import numpy as np  # you can use np instead of numpy to call the functions in numpy package\n",
    "\n",
    "\n"
   ]
  },
  {
   "cell_type": "code",
   "execution_count": 2,
   "metadata": {
    "execution": {
     "iopub.execute_input": "2022-10-13T18:56:53.703005Z",
     "iopub.status.busy": "2022-10-13T18:56:53.702010Z",
     "iopub.status.idle": "2022-10-13T18:56:53.714570Z",
     "shell.execute_reply": "2022-10-13T18:56:53.713568Z"
    }
   },
   "outputs": [
    {
     "name": "stdout",
     "output_type": "stream",
     "text": [
      "<class 'numpy.ndarray'>\n"
     ]
    }
   ],
   "source": [
    "x = np.array([1, 2, 3])  # create a numpy array object\n",
    "print(type(x))\n",
    "\n"
   ]
  },
  {
   "cell_type": "markdown",
   "metadata": {},
   "source": [
    "We can call `shape` function designed for `numpy.ndarray` class to check the dimension\n",
    "\n"
   ]
  },
  {
   "cell_type": "code",
   "execution_count": 3,
   "metadata": {
    "execution": {
     "iopub.execute_input": "2022-10-13T18:56:53.749567Z",
     "iopub.status.busy": "2022-10-13T18:56:53.749567Z",
     "iopub.status.idle": "2022-10-13T18:56:53.763635Z",
     "shell.execute_reply": "2022-10-13T18:56:53.761651Z"
    }
   },
   "outputs": [
    {
     "data": {
      "text/plain": [
       "(3,)"
      ]
     },
     "execution_count": 3,
     "metadata": {},
     "output_type": "execute_result"
    }
   ],
   "source": [
    "x.shape  # can be compared to 'len()' function that is used with list size\n",
    "\n"
   ]
  },
  {
   "cell_type": "markdown",
   "metadata": {},
   "source": [
    "Unlike `list`, we have to use one single data type for all elements in an array\n",
    "\n"
   ]
  },
  {
   "cell_type": "code",
   "execution_count": 4,
   "metadata": {
    "execution": {
     "iopub.execute_input": "2022-10-13T18:56:53.772620Z",
     "iopub.status.busy": "2022-10-13T18:56:53.772620Z",
     "iopub.status.idle": "2022-10-13T18:56:53.795477Z",
     "shell.execute_reply": "2022-10-13T18:56:53.792362Z"
    }
   },
   "outputs": [
    {
     "data": {
      "text/plain": [
       "array(['1', 'yes'], dtype='<U11')"
      ]
     },
     "execution_count": 4,
     "metadata": {},
     "output_type": "execute_result"
    }
   ],
   "source": [
    "y = np.array([1, \"yes\"])  # automatic type conversion from int to str\n",
    "y\n",
    "\n"
   ]
  },
  {
   "cell_type": "markdown",
   "metadata": {},
   "source": [
    "### Multidimensional arrays\n",
    "\n"
   ]
  },
  {
   "cell_type": "code",
   "execution_count": 5,
   "metadata": {
    "execution": {
     "iopub.execute_input": "2022-10-13T18:56:53.809547Z",
     "iopub.status.busy": "2022-10-13T18:56:53.808557Z",
     "iopub.status.idle": "2022-10-13T18:56:53.825129Z",
     "shell.execute_reply": "2022-10-13T18:56:53.823047Z"
    }
   },
   "outputs": [
    {
     "data": {
      "text/plain": [
       "(1, 4)"
      ]
     },
     "execution_count": 5,
     "metadata": {},
     "output_type": "execute_result"
    }
   ],
   "source": [
    "arr = np.array([[1, 2, 3, 8]])\n",
    "arr.shape\n",
    "\n"
   ]
  },
  {
   "cell_type": "code",
   "execution_count": 6,
   "metadata": {
    "execution": {
     "iopub.execute_input": "2022-10-13T18:56:53.833126Z",
     "iopub.status.busy": "2022-10-13T18:56:53.832127Z",
     "iopub.status.idle": "2022-10-13T18:56:53.856325Z",
     "shell.execute_reply": "2022-10-13T18:56:53.855294Z"
    }
   },
   "outputs": [
    {
     "data": {
      "text/plain": [
       "array([[1, 2, 3, 8]])"
      ]
     },
     "execution_count": 6,
     "metadata": {},
     "output_type": "execute_result"
    }
   ],
   "source": [
    "arr\n",
    "\n"
   ]
  },
  {
   "cell_type": "code",
   "execution_count": 7,
   "metadata": {
    "execution": {
     "iopub.execute_input": "2022-10-13T18:56:53.862371Z",
     "iopub.status.busy": "2022-10-13T18:56:53.861324Z",
     "iopub.status.idle": "2022-10-13T18:56:53.871341Z",
     "shell.execute_reply": "2022-10-13T18:56:53.870356Z"
    }
   },
   "outputs": [
    {
     "data": {
      "text/plain": [
       "(3, 4)"
      ]
     },
     "execution_count": 7,
     "metadata": {},
     "output_type": "execute_result"
    }
   ],
   "source": [
    "arr = np.array([[1, 2, 3, 8], [3, 2, 3, 2], [4, 5, 0, 8]])\n",
    "arr.shape\n",
    "\n"
   ]
  },
  {
   "cell_type": "code",
   "execution_count": 8,
   "metadata": {
    "execution": {
     "iopub.execute_input": "2022-10-13T18:56:53.876356Z",
     "iopub.status.busy": "2022-10-13T18:56:53.876356Z",
     "iopub.status.idle": "2022-10-13T18:56:53.886626Z",
     "shell.execute_reply": "2022-10-13T18:56:53.885566Z"
    }
   },
   "outputs": [
    {
     "data": {
      "text/plain": [
       "array([[1, 2, 3, 8],\n",
       "       [3, 2, 3, 2],\n",
       "       [4, 5, 0, 8]])"
      ]
     },
     "execution_count": 8,
     "metadata": {},
     "output_type": "execute_result"
    }
   ],
   "source": [
    "arr\n",
    "\n"
   ]
  },
  {
   "cell_type": "markdown",
   "metadata": {},
   "source": [
    "### Special arrays\n",
    "There are many special array initialization methods to call:\n",
    "\n"
   ]
  },
  {
   "cell_type": "code",
   "execution_count": 9,
   "metadata": {
    "execution": {
     "iopub.execute_input": "2022-10-13T18:56:53.892593Z",
     "iopub.status.busy": "2022-10-13T18:56:53.891593Z",
     "iopub.status.idle": "2022-10-13T18:56:53.901882Z",
     "shell.execute_reply": "2022-10-13T18:56:53.900806Z"
    }
   },
   "outputs": [
    {
     "data": {
      "text/plain": [
       "array([[0, 0, 0, 0, 0],\n",
       "       [0, 0, 0, 0, 0],\n",
       "       [0, 0, 0, 0, 0]])"
      ]
     },
     "execution_count": 9,
     "metadata": {},
     "output_type": "execute_result"
    }
   ],
   "source": [
    "np.zeros([3, 5], dtype=int)  # dtype can define the type of the array\n",
    "\n",
    "\n"
   ]
  },
  {
   "cell_type": "code",
   "execution_count": 10,
   "metadata": {
    "execution": {
     "iopub.execute_input": "2022-10-13T18:56:53.904848Z",
     "iopub.status.busy": "2022-10-13T18:56:53.904848Z",
     "iopub.status.idle": "2022-10-13T18:56:53.918199Z",
     "shell.execute_reply": "2022-10-13T18:56:53.917168Z"
    }
   },
   "outputs": [
    {
     "data": {
      "text/plain": [
       "array([[1., 1., 1., 1., 1.],\n",
       "       [1., 1., 1., 1., 1.],\n",
       "       [1., 1., 1., 1., 1.]])"
      ]
     },
     "execution_count": 10,
     "metadata": {},
     "output_type": "execute_result"
    }
   ],
   "source": [
    "np.ones([3, 5])\n",
    "\n",
    "\n"
   ]
  },
  {
   "cell_type": "code",
   "execution_count": 11,
   "metadata": {
    "execution": {
     "iopub.execute_input": "2022-10-13T18:56:53.922236Z",
     "iopub.status.busy": "2022-10-13T18:56:53.921192Z",
     "iopub.status.idle": "2022-10-13T18:56:53.933858Z",
     "shell.execute_reply": "2022-10-13T18:56:53.932833Z"
    }
   },
   "outputs": [
    {
     "data": {
      "text/plain": [
       "array([[1., 0., 0.],\n",
       "       [0., 1., 0.],\n",
       "       [0., 0., 1.]])"
      ]
     },
     "execution_count": 11,
     "metadata": {},
     "output_type": "execute_result"
    }
   ],
   "source": [
    "np.eye(3)\n",
    "\n"
   ]
  },
  {
   "cell_type": "markdown",
   "metadata": {},
   "source": [
    "## Operations\n",
    "The rules are very similar to R/Matlab: they are generally element wise\n",
    "\n"
   ]
  },
  {
   "cell_type": "code",
   "execution_count": 12,
   "metadata": {
    "execution": {
     "iopub.execute_input": "2022-10-13T18:56:53.937898Z",
     "iopub.status.busy": "2022-10-13T18:56:53.937898Z",
     "iopub.status.idle": "2022-10-13T18:56:53.949947Z",
     "shell.execute_reply": "2022-10-13T18:56:53.948921Z"
    }
   },
   "outputs": [
    {
     "data": {
      "text/plain": [
       "array([[1, 2, 3, 8],\n",
       "       [3, 2, 3, 2],\n",
       "       [4, 5, 0, 8]])"
      ]
     },
     "execution_count": 12,
     "metadata": {},
     "output_type": "execute_result"
    }
   ],
   "source": [
    "arr\n",
    "\n"
   ]
  },
  {
   "cell_type": "code",
   "execution_count": 13,
   "metadata": {
    "execution": {
     "iopub.execute_input": "2022-10-13T18:56:53.954968Z",
     "iopub.status.busy": "2022-10-13T18:56:53.954968Z",
     "iopub.status.idle": "2022-10-13T18:56:53.966047Z",
     "shell.execute_reply": "2022-10-13T18:56:53.965032Z"
    }
   },
   "outputs": [
    {
     "data": {
      "text/plain": [
       "array([[-4, -3, -2,  3],\n",
       "       [-2, -3, -2, -3],\n",
       "       [-1,  0, -5,  3]])"
      ]
     },
     "execution_count": 13,
     "metadata": {},
     "output_type": "execute_result"
    }
   ],
   "source": [
    "arr - 5\n",
    "\n"
   ]
  },
  {
   "cell_type": "code",
   "execution_count": 14,
   "metadata": {
    "execution": {
     "iopub.execute_input": "2022-10-13T18:56:53.969038Z",
     "iopub.status.busy": "2022-10-13T18:56:53.969038Z",
     "iopub.status.idle": "2022-10-13T18:56:53.980969Z",
     "shell.execute_reply": "2022-10-13T18:56:53.979943Z"
    }
   },
   "outputs": [
    {
     "data": {
      "text/plain": [
       "array([[ 6, 12, 18, 48],\n",
       "       [18, 12, 18, 12],\n",
       "       [24, 30,  0, 48]])"
      ]
     },
     "execution_count": 14,
     "metadata": {},
     "output_type": "execute_result"
    }
   ],
   "source": [
    "arr * 6  # element-vise multiplication\n",
    "\n"
   ]
  },
  {
   "cell_type": "code",
   "execution_count": 15,
   "metadata": {
    "execution": {
     "iopub.execute_input": "2022-10-13T18:56:53.984966Z",
     "iopub.status.busy": "2022-10-13T18:56:53.983971Z",
     "iopub.status.idle": "2022-10-13T18:56:53.995941Z",
     "shell.execute_reply": "2022-10-13T18:56:53.994967Z"
    }
   },
   "outputs": [
    {
     "data": {
      "text/plain": [
       "array([[ 1,  4,  9, 64],\n",
       "       [ 9,  4,  9,  4],\n",
       "       [16, 25,  0, 64]])"
      ]
     },
     "execution_count": 15,
     "metadata": {},
     "output_type": "execute_result"
    }
   ],
   "source": [
    "arr * arr  # element-vise multiplication of two matrices\n",
    "\n"
   ]
  },
  {
   "cell_type": "code",
   "execution_count": 16,
   "metadata": {
    "execution": {
     "iopub.execute_input": "2022-10-13T18:56:54.000027Z",
     "iopub.status.busy": "2022-10-13T18:56:53.999031Z",
     "iopub.status.idle": "2022-10-13T18:56:54.010268Z",
     "shell.execute_reply": "2022-10-13T18:56:54.010268Z"
    }
   },
   "outputs": [
    {
     "data": {
      "text/plain": [
       "array([[2.71828183e+00, 7.38905610e+00, 2.00855369e+01, 2.98095799e+03],\n",
       "       [2.00855369e+01, 7.38905610e+00, 2.00855369e+01, 7.38905610e+00],\n",
       "       [5.45981500e+01, 1.48413159e+02, 1.00000000e+00, 2.98095799e+03]])"
      ]
     },
     "execution_count": 16,
     "metadata": {},
     "output_type": "execute_result"
    }
   ],
   "source": [
    "np.exp(arr)\n",
    "\n"
   ]
  },
  {
   "cell_type": "markdown",
   "metadata": {},
   "source": [
    "More examples:\n",
    "\n"
   ]
  },
  {
   "cell_type": "code",
   "execution_count": 17,
   "metadata": {
    "execution": {
     "iopub.execute_input": "2022-10-13T18:56:54.014835Z",
     "iopub.status.busy": "2022-10-13T18:56:54.014835Z",
     "iopub.status.idle": "2022-10-13T18:56:54.026815Z",
     "shell.execute_reply": "2022-10-13T18:56:54.025789Z"
    }
   },
   "outputs": [
    {
     "data": {
      "text/plain": [
       "array([[1],\n",
       "       [3],\n",
       "       [2],\n",
       "       [0]])"
      ]
     },
     "execution_count": 17,
     "metadata": {},
     "output_type": "execute_result"
    }
   ],
   "source": [
    "arr_2 = np.array([[1], [3], [2], [0]])\n",
    "arr_2\n",
    "\n"
   ]
  },
  {
   "cell_type": "code",
   "execution_count": 18,
   "metadata": {
    "execution": {
     "iopub.execute_input": "2022-10-13T18:56:54.029849Z",
     "iopub.status.busy": "2022-10-13T18:56:54.029849Z",
     "iopub.status.idle": "2022-10-13T18:56:54.042993Z",
     "shell.execute_reply": "2022-10-13T18:56:54.041970Z"
    }
   },
   "outputs": [
    {
     "data": {
      "text/plain": [
       "array([[1, 3, 2, 0]])"
      ]
     },
     "execution_count": 18,
     "metadata": {},
     "output_type": "execute_result"
    }
   ],
   "source": [
    "arr_2_T = arr_2.T  # transpose\n",
    "arr_2_T\n",
    "\n",
    "\n"
   ]
  },
  {
   "cell_type": "code",
   "execution_count": 19,
   "metadata": {
    "execution": {
     "iopub.execute_input": "2022-10-13T18:56:54.046993Z",
     "iopub.status.busy": "2022-10-13T18:56:54.046993Z",
     "iopub.status.idle": "2022-10-13T18:56:54.059024Z",
     "shell.execute_reply": "2022-10-13T18:56:54.058003Z"
    }
   },
   "outputs": [
    {
     "data": {
      "text/plain": [
       "array([[13],\n",
       "       [15],\n",
       "       [19]])"
      ]
     },
     "execution_count": 19,
     "metadata": {},
     "output_type": "execute_result"
    }
   ],
   "source": [
    "arr @ arr_2  # matrix multiplication\n",
    "\n"
   ]
  },
  {
   "cell_type": "code",
   "execution_count": 20,
   "metadata": {
    "execution": {
     "iopub.execute_input": "2022-10-13T18:56:54.062064Z",
     "iopub.status.busy": "2022-10-13T18:56:54.062064Z",
     "iopub.status.idle": "2022-10-13T18:56:54.075279Z",
     "shell.execute_reply": "2022-10-13T18:56:54.074258Z"
    }
   },
   "outputs": [
    {
     "data": {
      "text/plain": [
       "array([[1, 2, 3, 8],\n",
       "       [3, 2, 3, 2],\n",
       "       [4, 5, 0, 8]])"
      ]
     },
     "execution_count": 20,
     "metadata": {},
     "output_type": "execute_result"
    }
   ],
   "source": [
    "arr\n",
    "\n"
   ]
  },
  {
   "cell_type": "code",
   "execution_count": 21,
   "metadata": {
    "execution": {
     "iopub.execute_input": "2022-10-13T18:56:54.078321Z",
     "iopub.status.busy": "2022-10-13T18:56:54.078321Z",
     "iopub.status.idle": "2022-10-13T18:56:54.090585Z",
     "shell.execute_reply": "2022-10-13T18:56:54.089565Z"
    }
   },
   "outputs": [
    {
     "data": {
      "text/plain": [
       "8"
      ]
     },
     "execution_count": 21,
     "metadata": {},
     "output_type": "execute_result"
    }
   ],
   "source": [
    "arr.max()\n",
    "\n"
   ]
  },
  {
   "cell_type": "code",
   "execution_count": 22,
   "metadata": {
    "execution": {
     "iopub.execute_input": "2022-10-13T18:56:54.093635Z",
     "iopub.status.busy": "2022-10-13T18:56:54.093635Z",
     "iopub.status.idle": "2022-10-13T18:56:54.105648Z",
     "shell.execute_reply": "2022-10-13T18:56:54.104916Z"
    }
   },
   "outputs": [
    {
     "data": {
      "text/plain": [
       "array([ 1,  3,  6, 14, 17, 19, 22, 24, 28, 33, 33, 41])"
      ]
     },
     "execution_count": 22,
     "metadata": {},
     "output_type": "execute_result"
    }
   ],
   "source": [
    "arr.cumsum()\n",
    "\n"
   ]
  },
  {
   "cell_type": "markdown",
   "metadata": {},
   "source": [
    "**Note:** element-by-element operations is done row-by-row, unlike in Matlab (column-by-column)\n",
    "There are many class methods to calculate some statistics of the array itself along some axis:\n",
    "- `axis=1` means row-wise\n",
    "- `axis=0` means column-wise\n",
    "\n"
   ]
  },
  {
   "cell_type": "code",
   "execution_count": 23,
   "metadata": {
    "execution": {
     "iopub.execute_input": "2022-10-13T18:56:54.109602Z",
     "iopub.status.busy": "2022-10-13T18:56:54.109602Z",
     "iopub.status.idle": "2022-10-13T18:56:54.121445Z",
     "shell.execute_reply": "2022-10-13T18:56:54.120424Z"
    }
   },
   "outputs": [
    {
     "data": {
      "text/plain": [
       "array([[ 1,  3,  6, 14],\n",
       "       [ 3,  5,  8, 10],\n",
       "       [ 4,  9,  9, 17]])"
      ]
     },
     "execution_count": 23,
     "metadata": {},
     "output_type": "execute_result"
    }
   ],
   "source": [
    "arr.cumsum(axis=1)\n",
    "\n"
   ]
  },
  {
   "cell_type": "markdown",
   "metadata": {},
   "source": [
    "### Note about 1d arrays\n",
    "1d array is **not a column vector** & **not entirely a row vector** and hence should be treated carefully when used with vector/matrix manipulation\n",
    "\n"
   ]
  },
  {
   "cell_type": "code",
   "execution_count": 24,
   "metadata": {
    "execution": {
     "iopub.execute_input": "2022-10-13T18:56:54.125484Z",
     "iopub.status.busy": "2022-10-13T18:56:54.125484Z",
     "iopub.status.idle": "2022-10-13T18:56:54.137201Z",
     "shell.execute_reply": "2022-10-13T18:56:54.136178Z"
    }
   },
   "outputs": [
    {
     "data": {
      "text/plain": [
       "(array([1, 2, 3]), (3,))"
      ]
     },
     "execution_count": 24,
     "metadata": {},
     "output_type": "execute_result"
    }
   ],
   "source": [
    "a = np.array([1, 2, 3])\n",
    "a, a.shape\n",
    "\n"
   ]
  },
  {
   "cell_type": "code",
   "execution_count": 25,
   "metadata": {
    "execution": {
     "iopub.execute_input": "2022-10-13T18:56:54.140203Z",
     "iopub.status.busy": "2022-10-13T18:56:54.140203Z",
     "iopub.status.idle": "2022-10-13T18:56:54.153006Z",
     "shell.execute_reply": "2022-10-13T18:56:54.151965Z"
    }
   },
   "outputs": [
    {
     "data": {
      "text/plain": [
       "(array([[1, 2, 3]]), (1, 3))"
      ]
     },
     "execution_count": 25,
     "metadata": {},
     "output_type": "execute_result"
    }
   ],
   "source": [
    "c = np.array([[1, 2, 3]])\n",
    "c, c.shape  # notice the shape diff\n",
    "\n"
   ]
  },
  {
   "cell_type": "code",
   "execution_count": 26,
   "metadata": {
    "execution": {
     "iopub.execute_input": "2022-10-13T18:56:54.156016Z",
     "iopub.status.busy": "2022-10-13T18:56:54.156016Z",
     "iopub.status.idle": "2022-10-13T18:56:54.167475Z",
     "shell.execute_reply": "2022-10-13T18:56:54.167475Z"
    }
   },
   "outputs": [
    {
     "data": {
      "text/plain": [
       "array([[1, 2],\n",
       "       [3, 4],\n",
       "       [5, 6]])"
      ]
     },
     "execution_count": 26,
     "metadata": {},
     "output_type": "execute_result"
    }
   ],
   "source": [
    "# can be multiply like a row vector\n",
    "b = np.array([[1, 2], [3, 4], [5, 6]])\n",
    "b\n",
    "\n"
   ]
  },
  {
   "cell_type": "code",
   "execution_count": 27,
   "metadata": {
    "execution": {
     "iopub.execute_input": "2022-10-13T18:56:54.171530Z",
     "iopub.status.busy": "2022-10-13T18:56:54.171530Z",
     "iopub.status.idle": "2022-10-13T18:56:54.183864Z",
     "shell.execute_reply": "2022-10-13T18:56:54.182801Z"
    }
   },
   "outputs": [
    {
     "data": {
      "text/plain": [
       "array([22, 28])"
      ]
     },
     "execution_count": 27,
     "metadata": {},
     "output_type": "execute_result"
    }
   ],
   "source": [
    "a @ b\n",
    "\n"
   ]
  },
  {
   "cell_type": "code",
   "execution_count": 28,
   "metadata": {
    "execution": {
     "iopub.execute_input": "2022-10-13T18:56:54.186823Z",
     "iopub.status.busy": "2022-10-13T18:56:54.186823Z",
     "iopub.status.idle": "2022-10-13T18:56:54.198918Z",
     "shell.execute_reply": "2022-10-13T18:56:54.197899Z"
    }
   },
   "outputs": [
    {
     "data": {
      "text/plain": [
       "(array([1, 2, 3]), (3,))"
      ]
     },
     "execution_count": 28,
     "metadata": {},
     "output_type": "execute_result"
    }
   ],
   "source": [
    "# can't be transformed!\n",
    "a.T, a.T.shape\n",
    "\n"
   ]
  },
  {
   "cell_type": "markdown",
   "metadata": {},
   "source": [
    "A trick to transform 1d array into 2d row vector:\n",
    "\n"
   ]
  },
  {
   "cell_type": "code",
   "execution_count": 29,
   "metadata": {
    "execution": {
     "iopub.execute_input": "2022-10-13T18:56:54.202914Z",
     "iopub.status.busy": "2022-10-13T18:56:54.202914Z",
     "iopub.status.idle": "2022-10-13T18:56:54.214311Z",
     "shell.execute_reply": "2022-10-13T18:56:54.213613Z"
    }
   },
   "outputs": [
    {
     "name": "stdout",
     "output_type": "stream",
     "text": [
      "[[1 2 3]]\n",
      "[[1]\n",
      " [2]\n",
      " [3]]\n"
     ]
    }
   ],
   "source": [
    "a_2d = a.reshape((1, -1))  # '-1' means to put all the rest of the elements in such a way that the reshape could fit\n",
    "print(a_2d)\n",
    "print(a_2d.T)\n",
    "\n"
   ]
  },
  {
   "cell_type": "markdown",
   "metadata": {},
   "source": [
    "## Indexing and slicing\n",
    "The most important part is how to index and slice a `np.array`. It is actually very similar to `list`, except that we now may have more index elements because there are more than one dimension for most of the datasets in real life\n",
    "### 1 dimensional case\n",
    "\n"
   ]
  },
  {
   "cell_type": "code",
   "execution_count": 30,
   "metadata": {
    "execution": {
     "iopub.execute_input": "2022-10-13T18:56:54.218304Z",
     "iopub.status.busy": "2022-10-13T18:56:54.218304Z",
     "iopub.status.idle": "2022-10-13T18:56:54.230551Z",
     "shell.execute_reply": "2022-10-13T18:56:54.229515Z"
    }
   },
   "outputs": [
    {
     "data": {
      "text/plain": [
       "array([  1,   2,   8, 100])"
      ]
     },
     "execution_count": 30,
     "metadata": {},
     "output_type": "execute_result"
    }
   ],
   "source": [
    "a1 = np.array([1, 2, 8, 100])\n",
    "a1\n",
    "\n"
   ]
  },
  {
   "cell_type": "code",
   "execution_count": 31,
   "metadata": {
    "execution": {
     "iopub.execute_input": "2022-10-13T18:56:54.233540Z",
     "iopub.status.busy": "2022-10-13T18:56:54.233540Z",
     "iopub.status.idle": "2022-10-13T18:56:54.245644Z",
     "shell.execute_reply": "2022-10-13T18:56:54.244618Z"
    }
   },
   "outputs": [
    {
     "data": {
      "text/plain": [
       "1"
      ]
     },
     "execution_count": 31,
     "metadata": {},
     "output_type": "execute_result"
    }
   ],
   "source": [
    "a1[0]\n",
    "\n"
   ]
  },
  {
   "cell_type": "code",
   "execution_count": 32,
   "metadata": {
    "execution": {
     "iopub.execute_input": "2022-10-13T18:56:54.248638Z",
     "iopub.status.busy": "2022-10-13T18:56:54.248638Z",
     "iopub.status.idle": "2022-10-13T18:56:54.262008Z",
     "shell.execute_reply": "2022-10-13T18:56:54.260987Z"
    }
   },
   "outputs": [
    {
     "data": {
      "text/plain": [
       "8"
      ]
     },
     "execution_count": 32,
     "metadata": {},
     "output_type": "execute_result"
    }
   ],
   "source": [
    "a1[-2]\n",
    "\n"
   ]
  },
  {
   "cell_type": "code",
   "execution_count": 33,
   "metadata": {
    "execution": {
     "iopub.execute_input": "2022-10-13T18:56:54.265047Z",
     "iopub.status.busy": "2022-10-13T18:56:54.265047Z",
     "iopub.status.idle": "2022-10-13T18:56:54.278133Z",
     "shell.execute_reply": "2022-10-13T18:56:54.277087Z"
    }
   },
   "outputs": [
    {
     "data": {
      "text/plain": [
       "array([  1,   2, 100])"
      ]
     },
     "execution_count": 33,
     "metadata": {},
     "output_type": "execute_result"
    }
   ],
   "source": [
    "a1[[0, 1, 3]]\n",
    "\n"
   ]
  },
  {
   "cell_type": "code",
   "execution_count": 34,
   "metadata": {
    "execution": {
     "iopub.execute_input": "2022-10-13T18:56:54.281147Z",
     "iopub.status.busy": "2022-10-13T18:56:54.281147Z",
     "iopub.status.idle": "2022-10-13T18:56:54.293866Z",
     "shell.execute_reply": "2022-10-13T18:56:54.293041Z"
    }
   },
   "outputs": [
    {
     "data": {
      "text/plain": [
       "array([  2,   8, 100])"
      ]
     },
     "execution_count": 34,
     "metadata": {},
     "output_type": "execute_result"
    }
   ],
   "source": [
    "a1[1:4]\n",
    "\n"
   ]
  },
  {
   "cell_type": "markdown",
   "metadata": {},
   "source": [
    "We can also use boolean values to index\n",
    "- `True` means we want this element\n",
    "\n"
   ]
  },
  {
   "cell_type": "code",
   "execution_count": 35,
   "metadata": {
    "execution": {
     "iopub.execute_input": "2022-10-13T18:56:54.297927Z",
     "iopub.status.busy": "2022-10-13T18:56:54.297927Z",
     "iopub.status.idle": "2022-10-13T18:56:54.309547Z",
     "shell.execute_reply": "2022-10-13T18:56:54.308519Z"
    }
   },
   "outputs": [
    {
     "data": {
      "text/plain": [
       "array([False, False,  True,  True])"
      ]
     },
     "execution_count": 35,
     "metadata": {},
     "output_type": "execute_result"
    }
   ],
   "source": [
    "a1 > 3\n",
    "\n"
   ]
  },
  {
   "cell_type": "markdown",
   "metadata": {},
   "source": [
    "### Masking\n",
    "replacing values of array with another values according to a boolean mask\n"
   ]
  },
  {
   "cell_type": "code",
   "execution_count": 36,
   "metadata": {
    "execution": {
     "iopub.execute_input": "2022-10-13T18:56:54.313088Z",
     "iopub.status.busy": "2022-10-13T18:56:54.313088Z",
     "iopub.status.idle": "2022-10-13T18:56:54.325465Z",
     "shell.execute_reply": "2022-10-13T18:56:54.324453Z"
    }
   },
   "outputs": [
    {
     "data": {
      "text/plain": [
       "array([  8, 100])"
      ]
     },
     "execution_count": 36,
     "metadata": {},
     "output_type": "execute_result"
    }
   ],
   "source": [
    "# this is the mask\n",
    "a1[a1 > 3]\n",
    "\n"
   ]
  },
  {
   "cell_type": "code",
   "execution_count": 37,
   "metadata": {
    "execution": {
     "iopub.execute_input": "2022-10-13T18:56:54.328468Z",
     "iopub.status.busy": "2022-10-13T18:56:54.328468Z",
     "iopub.status.idle": "2022-10-13T18:56:54.340981Z",
     "shell.execute_reply": "2022-10-13T18:56:54.339813Z"
    }
   },
   "outputs": [
    {
     "data": {
      "text/plain": [
       "array([  1,   2, 100, 100])"
      ]
     },
     "execution_count": 37,
     "metadata": {},
     "output_type": "execute_result"
    }
   ],
   "source": [
    "# this is a use of the above mask\n",
    "a1[a1 > 3] = 100\n",
    "a1\n"
   ]
  },
  {
   "cell_type": "markdown",
   "metadata": {},
   "source": [
    "### 2 dimensional case\n",
    "\n"
   ]
  },
  {
   "cell_type": "code",
   "execution_count": 38,
   "metadata": {
    "execution": {
     "iopub.execute_input": "2022-10-13T18:56:54.344997Z",
     "iopub.status.busy": "2022-10-13T18:56:54.344997Z",
     "iopub.status.idle": "2022-10-13T18:56:54.356368Z",
     "shell.execute_reply": "2022-10-13T18:56:54.355344Z"
    }
   },
   "outputs": [
    {
     "data": {
      "text/plain": [
       "array([[1, 2, 3, 8],\n",
       "       [3, 2, 3, 2],\n",
       "       [4, 5, 0, 8]])"
      ]
     },
     "execution_count": 38,
     "metadata": {},
     "output_type": "execute_result"
    }
   ],
   "source": [
    "arr\n",
    "\n"
   ]
  },
  {
   "cell_type": "markdown",
   "metadata": {},
   "source": [
    "Using only one number to index will lead to a subset of the original multidimensional array: also an array\n",
    "\n"
   ]
  },
  {
   "cell_type": "code",
   "execution_count": 39,
   "metadata": {
    "execution": {
     "iopub.execute_input": "2022-10-13T18:56:54.360406Z",
     "iopub.status.busy": "2022-10-13T18:56:54.360406Z",
     "iopub.status.idle": "2022-10-13T18:56:54.371739Z",
     "shell.execute_reply": "2022-10-13T18:56:54.370715Z"
    }
   },
   "outputs": [
    {
     "data": {
      "text/plain": [
       "array([1, 2, 3, 8])"
      ]
     },
     "execution_count": 39,
     "metadata": {},
     "output_type": "execute_result"
    }
   ],
   "source": [
    "arr[0]\n",
    "\n",
    "\n"
   ]
  },
  {
   "cell_type": "code",
   "execution_count": 40,
   "metadata": {
    "execution": {
     "iopub.execute_input": "2022-10-13T18:56:54.375738Z",
     "iopub.status.busy": "2022-10-13T18:56:54.374737Z",
     "iopub.status.idle": "2022-10-13T18:56:54.387378Z",
     "shell.execute_reply": "2022-10-13T18:56:54.386358Z"
    }
   },
   "outputs": [
    {
     "data": {
      "text/plain": [
       "numpy.ndarray"
      ]
     },
     "execution_count": 40,
     "metadata": {},
     "output_type": "execute_result"
    }
   ],
   "source": [
    "type(arr[0])\n",
    "\n"
   ]
  },
  {
   "cell_type": "markdown",
   "metadata": {},
   "source": [
    "Since we have 2 dimensions now, there are 2 indices we can use for indexing the 2 dimensions respectively\n",
    "\n"
   ]
  },
  {
   "cell_type": "code",
   "execution_count": 41,
   "metadata": {
    "execution": {
     "iopub.execute_input": "2022-10-13T18:56:54.391417Z",
     "iopub.status.busy": "2022-10-13T18:56:54.391417Z",
     "iopub.status.idle": "2022-10-13T18:56:54.402728Z",
     "shell.execute_reply": "2022-10-13T18:56:54.401981Z"
    }
   },
   "outputs": [
    {
     "data": {
      "text/plain": [
       "1"
      ]
     },
     "execution_count": 41,
     "metadata": {},
     "output_type": "execute_result"
    }
   ],
   "source": [
    "arr[0, 0]\n",
    "\n"
   ]
  },
  {
   "cell_type": "markdown",
   "metadata": {},
   "source": [
    "We can use `:` to indicate everything along that axis\n",
    "\n"
   ]
  },
  {
   "cell_type": "code",
   "execution_count": 42,
   "metadata": {
    "execution": {
     "iopub.execute_input": "2022-10-13T18:56:54.406720Z",
     "iopub.status.busy": "2022-10-13T18:56:54.405682Z",
     "iopub.status.idle": "2022-10-13T18:56:54.418985Z",
     "shell.execute_reply": "2022-10-13T18:56:54.418119Z"
    }
   },
   "outputs": [
    {
     "data": {
      "text/plain": [
       "array([3, 2, 3, 2])"
      ]
     },
     "execution_count": 42,
     "metadata": {},
     "output_type": "execute_result"
    }
   ],
   "source": [
    "arr[1]\n",
    "\n",
    "\n"
   ]
  },
  {
   "cell_type": "code",
   "execution_count": 43,
   "metadata": {
    "execution": {
     "iopub.execute_input": "2022-10-13T18:56:54.422075Z",
     "iopub.status.busy": "2022-10-13T18:56:54.422075Z",
     "iopub.status.idle": "2022-10-13T18:56:54.434691Z",
     "shell.execute_reply": "2022-10-13T18:56:54.433671Z"
    }
   },
   "outputs": [
    {
     "data": {
      "text/plain": [
       "array([3, 2, 3, 2])"
      ]
     },
     "execution_count": 43,
     "metadata": {},
     "output_type": "execute_result"
    }
   ],
   "source": [
    "arr[1, :]\n",
    "\n",
    "\n"
   ]
  },
  {
   "cell_type": "code",
   "execution_count": 44,
   "metadata": {
    "execution": {
     "iopub.execute_input": "2022-10-13T18:56:54.438691Z",
     "iopub.status.busy": "2022-10-13T18:56:54.437689Z",
     "iopub.status.idle": "2022-10-13T18:56:54.450132Z",
     "shell.execute_reply": "2022-10-13T18:56:54.449351Z"
    }
   },
   "outputs": [
    {
     "data": {
      "text/plain": [
       "array([2, 2, 5])"
      ]
     },
     "execution_count": 44,
     "metadata": {},
     "output_type": "execute_result"
    }
   ],
   "source": [
    "arr[:, 1]  # watch out! we've got a 1d array again instead of column vector as maybe expected\n",
    "\n"
   ]
  },
  {
   "cell_type": "code",
   "execution_count": 45,
   "metadata": {
    "execution": {
     "iopub.execute_input": "2022-10-13T18:56:54.454132Z",
     "iopub.status.busy": "2022-10-13T18:56:54.453091Z",
     "iopub.status.idle": "2022-10-13T18:56:54.466216Z",
     "shell.execute_reply": "2022-10-13T18:56:54.465189Z"
    }
   },
   "outputs": [],
   "source": [
    "# 2D masking\n",
    "arr[arr > 3] = 55\n",
    "\n"
   ]
  },
  {
   "cell_type": "markdown",
   "metadata": {},
   "source": [
    "### 3 dimensional case\n",
    "As a final example, we look at a 3d array:\n",
    "\n"
   ]
  },
  {
   "cell_type": "code",
   "execution_count": 46,
   "metadata": {
    "execution": {
     "iopub.execute_input": "2022-10-13T18:56:54.470219Z",
     "iopub.status.busy": "2022-10-13T18:56:54.469220Z",
     "iopub.status.idle": "2022-10-13T18:56:54.481673Z",
     "shell.execute_reply": "2022-10-13T18:56:54.480623Z"
    }
   },
   "outputs": [
    {
     "data": {
      "text/plain": [
       "array([47, 83, 38, 53, 76, 24, 15, 49, 23, 26, 30, 43, 30, 26, 58, 92, 69,\n",
       "       80, 73, 47, 50, 76, 37, 34])"
      ]
     },
     "execution_count": 46,
     "metadata": {},
     "output_type": "execute_result"
    }
   ],
   "source": [
    "np.random.seed(1234)\n",
    "arr_3 = np.random.randint(low=0, high=100, size=24)\n",
    "arr_3\n",
    "\n"
   ]
  },
  {
   "cell_type": "markdown",
   "metadata": {},
   "source": [
    "We can use `reshape` to manipulate the shape of an array\n",
    "\n"
   ]
  },
  {
   "cell_type": "code",
   "execution_count": 47,
   "metadata": {
    "execution": {
     "iopub.execute_input": "2022-10-13T18:56:54.484673Z",
     "iopub.status.busy": "2022-10-13T18:56:54.484673Z",
     "iopub.status.idle": "2022-10-13T18:56:54.496325Z",
     "shell.execute_reply": "2022-10-13T18:56:54.495633Z"
    }
   },
   "outputs": [
    {
     "data": {
      "text/plain": [
       "array([[[47, 83],\n",
       "        [38, 53],\n",
       "        [76, 24],\n",
       "        [15, 49]],\n",
       "\n",
       "       [[23, 26],\n",
       "        [30, 43],\n",
       "        [30, 26],\n",
       "        [58, 92]],\n",
       "\n",
       "       [[69, 80],\n",
       "        [73, 47],\n",
       "        [50, 76],\n",
       "        [37, 34]]])"
      ]
     },
     "execution_count": 47,
     "metadata": {},
     "output_type": "execute_result"
    }
   ],
   "source": [
    "arr_3 = arr_3.reshape(3, 4, 2)\n",
    "arr_3\n",
    "\n"
   ]
  },
  {
   "cell_type": "markdown",
   "metadata": {},
   "source": [
    "**Note**: Are the printed array not what you though it would be? Did they mixed the shape? No!\n",
    "see [this for answers](https://stackoverflow.com/a/22982371/4879610)\n",
    "\n"
   ]
  },
  {
   "cell_type": "code",
   "execution_count": 48,
   "metadata": {
    "execution": {
     "iopub.execute_input": "2022-10-13T18:56:54.500372Z",
     "iopub.status.busy": "2022-10-13T18:56:54.500372Z",
     "iopub.status.idle": "2022-10-13T18:56:54.512413Z",
     "shell.execute_reply": "2022-10-13T18:56:54.511681Z"
    }
   },
   "outputs": [
    {
     "data": {
      "text/plain": [
       "array([[47, 83],\n",
       "       [38, 53],\n",
       "       [76, 24],\n",
       "       [15, 49]])"
      ]
     },
     "execution_count": 48,
     "metadata": {},
     "output_type": "execute_result"
    }
   ],
   "source": [
    "arr_3[0]\n",
    "\n"
   ]
  },
  {
   "cell_type": "code",
   "execution_count": 49,
   "metadata": {
    "execution": {
     "iopub.execute_input": "2022-10-13T18:56:54.516003Z",
     "iopub.status.busy": "2022-10-13T18:56:54.514967Z",
     "iopub.status.idle": "2022-10-13T18:56:54.528744Z",
     "shell.execute_reply": "2022-10-13T18:56:54.528054Z"
    }
   },
   "outputs": [
    {
     "data": {
      "text/plain": [
       "array([49, 92, 34])"
      ]
     },
     "execution_count": 49,
     "metadata": {},
     "output_type": "execute_result"
    }
   ],
   "source": [
    "arr_3[:, 3, 1]\n",
    "\n"
   ]
  },
  {
   "cell_type": "code",
   "execution_count": 50,
   "metadata": {
    "execution": {
     "iopub.execute_input": "2022-10-13T18:56:54.532738Z",
     "iopub.status.busy": "2022-10-13T18:56:54.531740Z",
     "iopub.status.idle": "2022-10-13T18:56:54.544343Z",
     "shell.execute_reply": "2022-10-13T18:56:54.543321Z"
    }
   },
   "outputs": [
    {
     "data": {
      "text/plain": [
       "34"
      ]
     },
     "execution_count": 50,
     "metadata": {},
     "output_type": "execute_result"
    }
   ],
   "source": [
    "arr_3[2, 3, 1]\n"
   ]
  }
 ],
 "metadata": {
  "language_info": {
   "codemirror_mode": {
    "name": "ipython",
    "version": 3
   },
   "file_extension": ".py",
   "mimetype": "text/x-python",
   "name": "python",
   "nbconvert_exporter": "python",
   "pygments_lexer": "ipython3",
   "version": "3.10.4"
  }
 },
 "nbformat": 4,
 "nbformat_minor": 2
}
