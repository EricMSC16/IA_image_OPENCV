{
 "cells": [
  {
   "cell_type": "markdown",
   "metadata": {},
   "source": [
    "#Python Workshop: Matplotlib\n",
    "\n",
    "[![Open In Colab](https://colab.research.google.com/assets/colab-badge.svg)](https://colab.research.google.com/github/YoniChechik/AI_is_Math/blob/master/c_01_intro_to_CV_and_Python/Matplotlib_tutorial.ipynb)\n",
    "\n",
    "<hr>\n",
    "\n",
    "Based on:\n",
    "\n",
    "This [git](https://github.com/zhiyzuo/python-tutorial) of Zhiya Zuo\n",
    "\n",
    "<hr>\n"
   ]
  },
  {
   "cell_type": "code",
   "execution_count": 1,
   "metadata": {
    "execution": {
     "iopub.execute_input": "2021-10-15T10:44:13.668420Z",
     "iopub.status.busy": "2021-10-15T10:44:13.661711Z",
     "iopub.status.idle": "2021-10-15T10:44:14.431624Z",
     "shell.execute_reply": "2021-10-15T10:44:14.431624Z"
    }
   },
   "outputs": [],
   "source": [
    "import numpy as np\n",
    "import matplotlib.pyplot as plt\n",
    "\n",
    "figsize = (10, 10)\n",
    "\n"
   ]
  },
  {
   "cell_type": "markdown",
   "metadata": {},
   "source": [
    "## Introduction\n",
    "Visualization is one of the most important things of data analysis. Besides just producing ___readable___ plots, we should make an effort to improve the overall attractiveness of the plots. `matplotlib` is a powerful package for ___Python___ users. Let's start with an example.\n",
    "### Anatomy of a Figure\n",
    "Before we go deeper, let's take a look at the structure of a figure in `matplotlib`:\n",
    "\n",
    "<img width=700 src=\"https://matplotlib.org/_images/anatomy1.png\">\n",
    "\n",
    "## Line plot\n",
    "First we generate sample data\n",
    "\n"
   ]
  },
  {
   "cell_type": "code",
   "execution_count": 2,
   "metadata": {
    "execution": {
     "iopub.execute_input": "2021-10-15T10:44:14.451452Z",
     "iopub.status.busy": "2021-10-15T10:44:14.451452Z",
     "iopub.status.idle": "2021-10-15T10:44:14.471825Z",
     "shell.execute_reply": "2021-10-15T10:44:14.471825Z"
    }
   },
   "outputs": [
    {
     "name": "stdout",
     "output_type": "stream",
     "text": [
      "[0 1 2 3 4 5 6 7 8 9]\n",
      "[ 2.19151945  5.62210877  8.43772774 11.78535858 14.77997581 17.27259261\n",
      " 20.27646426 23.80187218 26.95813935 29.87593263]\n"
     ]
    }
   ],
   "source": [
    "np.random.seed(1234)\n",
    "\n",
    "X_arr = np.arange(10)\n",
    "Y_arr = 3*X_arr + 2 + np.random.random(size=X_arr.size) # linear with some noise\n",
    "print(X_arr)\n",
    "print(Y_arr)\n",
    "\n"
   ]
  },
  {
   "cell_type": "markdown",
   "metadata": {},
   "source": [
    "To plot a simple scatter plot, we can use `plt.scatter()` function\n",
    "\n"
   ]
  },
  {
   "cell_type": "code",
   "execution_count": 3,
   "metadata": {
    "execution": {
     "iopub.execute_input": "2021-10-15T10:44:14.486655Z",
     "iopub.status.busy": "2021-10-15T10:44:14.481650Z",
     "iopub.status.idle": "2021-10-15T10:44:14.591645Z",
     "shell.execute_reply": "2021-10-15T10:44:14.591645Z"
    }
   },
   "outputs": [
    {
     "data": {
      "text/plain": [
       "Text(0.5, 1.0, 'My First Plot')"
      ]
     },
     "execution_count": 3,
     "metadata": {},
     "output_type": "execute_result"
    }
   ],
   "source": [
    "plt.figure(figsize=figsize)\n",
    "plt.plot(X_arr, Y_arr)\n",
    "plt.title('My First Plot')\n",
    "\n"
   ]
  },
  {
   "cell_type": "markdown",
   "metadata": {},
   "source": [
    "## Scatter plot\n",
    "\n"
   ]
  },
  {
   "cell_type": "code",
   "execution_count": 4,
   "metadata": {
    "execution": {
     "iopub.execute_input": "2021-10-15T10:44:14.606656Z",
     "iopub.status.busy": "2021-10-15T10:44:14.606656Z",
     "iopub.status.idle": "2021-10-15T10:44:14.656829Z",
     "shell.execute_reply": "2021-10-15T10:44:14.656829Z"
    }
   },
   "outputs": [
    {
     "data": {
      "text/plain": [
       "Text(0.5, 1.0, 'My Second Plot')"
      ]
     },
     "execution_count": 4,
     "metadata": {},
     "output_type": "execute_result"
    }
   ],
   "source": [
    "plt.figure(figsize=figsize)\n",
    "# Use `+` as marker; color set as `g` (green); size proportion to Y values\n",
    "plt.scatter(X_arr, Y_arr, marker='+', c='g') \n",
    "# How about adding a line to it? Let's use `plt.plot()`\n",
    "# set line style to dashed; color as `r` (red) \n",
    "plt.plot(X_arr, Y_arr,'--r')\n",
    "# set x/y axis limits: first two are xlow and xhigh; last two are ylow and yhigh\n",
    "plt.axis([0, 10, 0, 35])\n",
    "# set x/y labels\n",
    "plt.xlabel('My X Axis')\n",
    "plt.ylabel('My Y Axis')\n",
    "# set title\n",
    "plt.legend(['line','datapoints'])\n",
    "plt.title('My Second Plot')\n",
    "\n"
   ]
  },
  {
   "cell_type": "markdown",
   "metadata": {},
   "source": [
    "## Coding style\n",
    "Another possible way to work with figures in `matplotlib`:\n",
    "\n"
   ]
  },
  {
   "cell_type": "code",
   "execution_count": 5,
   "metadata": {
    "execution": {
     "iopub.execute_input": "2021-10-15T10:44:14.671597Z",
     "iopub.status.busy": "2021-10-15T10:44:14.671597Z",
     "iopub.status.idle": "2021-10-15T10:44:14.721654Z",
     "shell.execute_reply": "2021-10-15T10:44:14.721654Z"
    }
   },
   "outputs": [
    {
     "data": {
      "text/plain": [
       "Text(0.5, 1.0, 'plotting with plt.subplots() is pretty much the same')"
      ]
     },
     "execution_count": 5,
     "metadata": {},
     "output_type": "execute_result"
    }
   ],
   "source": [
    "# `plt.subplots()` returns a figure object (which is the whole thing as shown above)\n",
    "# and `axes` that control specific plots in the figure.\n",
    "# Here our \"subplots\" layout is by default 1 row and 1 col and therefore 1 plot\n",
    "fig, ax = plt.subplots(figsize=figsize)\n",
    "\n",
    "\n",
    "# plot should be done on the `axis`: ax\n",
    "ax.plot(X_arr, Y_arr)\n",
    "ax.set_title('plotting with plt.subplots() is pretty much the same')\n",
    "\n"
   ]
  },
  {
   "cell_type": "markdown",
   "metadata": {},
   "source": [
    "Applying what we did earlier:\n",
    "\n"
   ]
  },
  {
   "cell_type": "code",
   "execution_count": 6,
   "metadata": {
    "execution": {
     "iopub.execute_input": "2021-10-15T10:44:14.744245Z",
     "iopub.status.busy": "2021-10-15T10:44:14.737208Z",
     "iopub.status.idle": "2021-10-15T10:44:14.801358Z",
     "shell.execute_reply": "2021-10-15T10:44:14.801358Z"
    }
   },
   "outputs": [
    {
     "data": {
      "text/plain": [
       "Text(0.5, 1.0, 'My First Plot')"
      ]
     },
     "execution_count": 6,
     "metadata": {},
     "output_type": "execute_result"
    }
   ],
   "source": [
    "fig, ax = plt.subplots(figsize=figsize)\n",
    "# What we just did, applying to `ax`\n",
    "ax.scatter(X_arr, Y_arr, marker='+', c='g', s=Y_arr*10) \n",
    "ax.plot(X_arr, Y_arr, linestyle='dashed', color='k')\n",
    "ax.axis([0, 10, 0, 35])\n",
    "ax.set_xlabel('My X Axis')\n",
    "ax.set_ylabel('My Y Axis')\n",
    "ax.set_title('My First Plot')\n",
    "\n"
   ]
  },
  {
   "cell_type": "markdown",
   "metadata": {},
   "source": [
    "This is especially useful when handling multiple plots in one figure.\n",
    "\n"
   ]
  },
  {
   "cell_type": "code",
   "execution_count": 7,
   "metadata": {
    "execution": {
     "iopub.execute_input": "2021-10-15T10:44:14.811411Z",
     "iopub.status.busy": "2021-10-15T10:44:14.811411Z",
     "iopub.status.idle": "2021-10-15T10:44:15.053868Z",
     "shell.execute_reply": "2021-10-15T10:44:15.053868Z"
    }
   },
   "outputs": [
    {
     "data": {
      "text/plain": [
       "Text(0.5, 0.98, 'my subplots')"
      ]
     },
     "execution_count": 7,
     "metadata": {},
     "output_type": "execute_result"
    }
   ],
   "source": [
    "# Now the returned `ax_arr` would be np array with a shape a 2x3\n",
    "fig, ax_arr = plt.subplots(2,3,figsize=figsize)\n",
    "ax_arr[0,0].plot(X_arr, Y_arr)\n",
    "ax_arr[0,1].scatter(X_arr, Y_arr)\n",
    "fig.suptitle(\"my subplots\")\n",
    "\n"
   ]
  },
  {
   "cell_type": "markdown",
   "metadata": {},
   "source": [
    "## Histogram\n",
    "Let's use a Gaussian distribution for illustration\n",
    "\n"
   ]
  },
  {
   "cell_type": "code",
   "execution_count": 8,
   "metadata": {
    "execution": {
     "iopub.execute_input": "2021-10-15T10:44:15.058869Z",
     "iopub.status.busy": "2021-10-15T10:44:15.057874Z",
     "iopub.status.idle": "2021-10-15T10:44:15.069125Z",
     "shell.execute_reply": "2021-10-15T10:44:15.069125Z"
    }
   },
   "outputs": [
    {
     "data": {
      "text/plain": [
       "(15.016359581910606, 0.9950213767631108)"
      ]
     },
     "execution_count": 8,
     "metadata": {},
     "output_type": "execute_result"
    }
   ],
   "source": [
    "mu, sigma = 15, 1\n",
    "gaussian_arr = np.random.normal(mu, sigma, size=10000)\n",
    "np.mean(gaussian_arr), np.std(gaussian_arr, ddof=1)\n",
    "\n"
   ]
  },
  {
   "cell_type": "code",
   "execution_count": 9,
   "metadata": {
    "execution": {
     "iopub.execute_input": "2021-10-15T10:44:15.084124Z",
     "iopub.status.busy": "2021-10-15T10:44:15.082163Z",
     "iopub.status.idle": "2021-10-15T10:44:15.131573Z",
     "shell.execute_reply": "2021-10-15T10:44:15.131573Z"
    }
   },
   "outputs": [
    {
     "data": {
      "text/plain": [
       "Text(0.5, 1.0, 'Histogram')"
      ]
     },
     "execution_count": 9,
     "metadata": {},
     "output_type": "execute_result"
    }
   ],
   "source": [
    "fig, ax = plt.subplots(figsize=figsize)\n",
    "# `hist()` will return something but we usually do not need.\n",
    "freq_arr, bin_arr, _ = ax.hist(gaussian_arr)\n",
    "ax.set_title('Histogram')\n",
    "\n"
   ]
  },
  {
   "cell_type": "markdown",
   "metadata": {},
   "source": [
    "We can actually customize and make it prettier\n",
    "\n"
   ]
  },
  {
   "cell_type": "code",
   "execution_count": 10,
   "metadata": {
    "execution": {
     "iopub.execute_input": "2021-10-15T10:44:15.151639Z",
     "iopub.status.busy": "2021-10-15T10:44:15.141421Z",
     "iopub.status.idle": "2021-10-15T10:44:15.211293Z",
     "shell.execute_reply": "2021-10-15T10:44:15.211293Z"
    }
   },
   "outputs": [
    {
     "data": {
      "text/plain": [
       "Text(0.5, 1.0, 'Histogram- some more features')"
      ]
     },
     "execution_count": 10,
     "metadata": {},
     "output_type": "execute_result"
    }
   ],
   "source": [
    "fig, ax = plt.subplots(figsize=figsize)\n",
    "# Facecolor set to green; transparency (`alpha`) level: 30%\n",
    "freq_arr, bin_arr, _ = ax.hist(gaussian_arr, facecolor='g', alpha=0.3)\n",
    "# Add grid\n",
    "ax.grid()\n",
    "ax.set_title('Histogram- some more features')\n",
    "\n"
   ]
  },
  {
   "cell_type": "markdown",
   "metadata": {},
   "source": [
    "## 3D plots\n",
    "\n"
   ]
  },
  {
   "cell_type": "code",
   "execution_count": 11,
   "metadata": {
    "execution": {
     "iopub.execute_input": "2021-10-15T10:44:15.211293Z",
     "iopub.status.busy": "2021-10-15T10:44:15.211293Z",
     "iopub.status.idle": "2021-10-15T10:44:15.311873Z",
     "shell.execute_reply": "2021-10-15T10:44:15.311873Z"
    }
   },
   "outputs": [
    {
     "name": "stderr",
     "output_type": "stream",
     "text": [
      "<ipython-input-11-3066a6c29247>:5: MatplotlibDeprecationWarning: Calling gca() with keyword arguments was deprecated in Matplotlib 3.4. Starting two minor releases later, gca() will take no keyword arguments. The gca() function should only be used to get the current axes, or if no axes exist, create new axes with default keyword arguments. To create a new axes with non-default arguments, use plt.axes() or plt.subplot().\n",
      "  ax = fig.gca(projection='3d') # get current axis\n"
     ]
    },
    {
     "data": {
      "text/plain": [
       "Text(0.5, 0.92, '3d plot')"
      ]
     },
     "execution_count": 11,
     "metadata": {},
     "output_type": "execute_result"
    }
   ],
   "source": [
    "from mpl_toolkits.mplot3d import Axes3D\n",
    "\n",
    "\n",
    "fig = plt.figure(figsize=figsize)\n",
    "ax = fig.gca(projection='3d') # get current axis\n",
    "theta = np.linspace(-4 * np.pi, 4 * np.pi, 100)\n",
    "z = np.linspace(-2, 2, 100)\n",
    "r = z**2 + 1\n",
    "x = r * np.sin(theta)\n",
    "y = r * np.cos(theta)\n",
    "ax.plot(x, y, z, label='parametric curve')\n",
    "ax.legend()\n",
    "plt.title(\"3d plot\")\n",
    "\n"
   ]
  },
  {
   "cell_type": "markdown",
   "metadata": {},
   "source": [
    "## Note on IDE plotting\n",
    "In regular IDE plotting, after each plot one should put\n",
    "\n",
    "```\n",
    "plt.show()\n",
    "```\n",
    "to show the pop-up plot window in which one can interact with the plots (zoom, rotate, etc.), and this will stop the run of your program until closed.\n",
    "\n",
    "A way to overcome this is running:\n",
    "\n",
    "```\n",
    "plt.show(block=False)\n",
    "```\n",
    "but then when the script completes, all figures are closed...\n",
    "\n",
    "My preferred solution is running with `block=False` to all figures except the last one.\n"
   ]
  }
 ],
 "metadata": {
  "language_info": {
   "codemirror_mode": {
    "name": "ipython",
    "version": 3
   },
   "file_extension": ".py",
   "mimetype": "text/x-python",
   "name": "python",
   "nbconvert_exporter": "python",
   "pygments_lexer": "ipython3",
   "version": "3.8.11"
  }
 },
 "nbformat": 4,
 "nbformat_minor": 2
}
