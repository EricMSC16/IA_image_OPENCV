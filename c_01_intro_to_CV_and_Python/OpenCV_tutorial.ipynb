{
 "cells": [
  {
   "cell_type": "markdown",
   "metadata": {},
   "source": [
    "# Python Workshop: OpenCV\n",
    "[![Open In Colab](https://colab.research.google.com/assets/colab-badge.svg)](https://colab.research.google.com/github/YoniChechik/AI_is_Math/blob/master/c_01_intro_to_CV_and_Python/OpenCV_tutorial.ipynb)\n",
    "## Introduction\n",
    "OpenCV (Open Source Computer Vision Library) is an open source computer vision and machine learning software library. OpenCV was built to provide a common infrastructure for computer vision applications and to accelerate the use of machine perception in the commercial products.\n",
    "[https://opencv.org/about/]\n",
    "\n",
    "<img src=\"https://upload.wikimedia.org/wikipedia/commons/3/32/OpenCV_Logo_with_text_svg_version.svg\" alt=\"opencv logo\" width=\"300\"/>\n",
    "\n",
    "## Basic usage\n"
   ]
  },
  {
   "cell_type": "code",
   "execution_count": 1,
   "metadata": {
    "execution": {
     "iopub.execute_input": "2021-10-15T10:44:24.288319Z",
     "iopub.status.busy": "2021-10-15T10:44:24.287311Z",
     "iopub.status.idle": "2021-10-15T10:44:24.771689Z",
     "shell.execute_reply": "2021-10-15T10:44:24.771689Z"
    }
   },
   "outputs": [],
   "source": [
    "import sys\n",
    "import matplotlib.pyplot as plt\n",
    "import cv2  # opencv for python package\n",
    "\n",
    "figsize = (10, 10)\n"
   ]
  },
  {
   "cell_type": "code",
   "execution_count": 2,
   "metadata": {
    "execution": {
     "iopub.execute_input": "2021-10-15T10:44:24.771689Z",
     "iopub.status.busy": "2021-10-15T10:44:24.771689Z",
     "iopub.status.idle": "2021-10-15T10:44:24.791471Z",
     "shell.execute_reply": "2021-10-15T10:44:24.791471Z"
    }
   },
   "outputs": [],
   "source": [
    "# to run in google colab\n",
    "if 'google.colab' in sys.modules:\n",
    "    import subprocess\n",
    "    subprocess.call('apt-get install subversion'.split())\n",
    "    subprocess.call('svn export https://github.com/YoniChechik/AI_is_Math/trunk/c_01_intro_to_CV_and_Python/Lenna.png'.split())\n",
    "    subprocess.call(\n",
    "        'svn export https://github.com/YoniChechik/AI_is_Math/trunk/c_01_intro_to_CV_and_Python/opencv_logo.png'.split())\n",
    "\n"
   ]
  },
  {
   "cell_type": "markdown",
   "metadata": {},
   "source": [
    "This is how to read and plot an image with opencv\n",
    "\n"
   ]
  },
  {
   "cell_type": "code",
   "execution_count": 3,
   "metadata": {
    "execution": {
     "iopub.execute_input": "2021-10-15T10:44:24.791471Z",
     "iopub.status.busy": "2021-10-15T10:44:24.791471Z",
     "iopub.status.idle": "2021-10-15T10:44:24.827588Z",
     "shell.execute_reply": "2021-10-15T10:44:24.827588Z"
    }
   },
   "outputs": [],
   "source": [
    "img = cv2.imread(\"Lenna.png\")\n",
    "\n"
   ]
  },
  {
   "cell_type": "code",
   "execution_count": 4,
   "metadata": {
    "execution": {
     "iopub.execute_input": "2021-10-15T10:44:24.841853Z",
     "iopub.status.busy": "2021-10-15T10:44:24.840571Z",
     "iopub.status.idle": "2021-10-15T10:44:24.961747Z",
     "shell.execute_reply": "2021-10-15T10:44:24.961747Z"
    }
   },
   "outputs": [
    {
     "data": {
      "text/plain": [
       "Text(0.5, 1.0, 'Lenna orig')"
      ]
     },
     "execution_count": 4,
     "metadata": {},
     "output_type": "execute_result"
    }
   ],
   "source": [
    "plt.figure(figsize=figsize)\n",
    "plt.imshow(img)\n",
    "plt.title(\"Lenna orig\")\n"
   ]
  },
  {
   "cell_type": "markdown",
   "metadata": {},
   "source": [
    "We got a weird image colors... This is because OpenCV uses image reading convention of BGR and matplotlib uses RGB.\n",
    "\n",
    "The fix is easy:\n",
    "\n",
    "\n"
   ]
  },
  {
   "cell_type": "code",
   "execution_count": 5,
   "metadata": {
    "execution": {
     "iopub.execute_input": "2021-10-15T10:44:24.961747Z",
     "iopub.status.busy": "2021-10-15T10:44:24.961747Z",
     "iopub.status.idle": "2021-10-15T10:44:25.076595Z",
     "shell.execute_reply": "2021-10-15T10:44:25.076595Z"
    }
   },
   "outputs": [
    {
     "data": {
      "text/plain": [
       "Text(0.5, 1.0, 'Lenna RGB')"
      ]
     },
     "execution_count": 5,
     "metadata": {},
     "output_type": "execute_result"
    }
   ],
   "source": [
    "img = cv2.cvtColor(img, cv2.COLOR_BGR2RGB)\n",
    "plt.figure(figsize=figsize)\n",
    "plt.imshow(img)\n",
    "plt.title(\"Lenna RGB\")\n",
    "\n",
    "\n"
   ]
  },
  {
   "cell_type": "code",
   "execution_count": 6,
   "metadata": {
    "execution": {
     "iopub.execute_input": "2021-10-15T10:44:25.081753Z",
     "iopub.status.busy": "2021-10-15T10:44:25.081753Z",
     "iopub.status.idle": "2021-10-15T10:44:25.101410Z",
     "shell.execute_reply": "2021-10-15T10:44:25.101410Z"
    }
   },
   "outputs": [
    {
     "name": "stdout",
     "output_type": "stream",
     "text": [
      "<class 'numpy.ndarray'>\n",
      "(512, 512, 3)\n"
     ]
    },
    {
     "data": {
      "text/plain": [
       "array([[[226, 137, 125],\n",
       "        [226, 137, 125],\n",
       "        [223, 137, 133],\n",
       "        ...,\n",
       "        [230, 148, 122],\n",
       "        [221, 130, 110],\n",
       "        [200,  99,  90]],\n",
       "\n",
       "       [[226, 137, 125],\n",
       "        [226, 137, 125],\n",
       "        [223, 137, 133],\n",
       "        ...,\n",
       "        [230, 148, 122],\n",
       "        [221, 130, 110],\n",
       "        [200,  99,  90]],\n",
       "\n",
       "       [[226, 137, 125],\n",
       "        [226, 137, 125],\n",
       "        [223, 137, 133],\n",
       "        ...,\n",
       "        [230, 148, 122],\n",
       "        [221, 130, 110],\n",
       "        [200,  99,  90]],\n",
       "\n",
       "       ...,\n",
       "\n",
       "       [[ 84,  18,  60],\n",
       "        [ 84,  18,  60],\n",
       "        [ 92,  27,  58],\n",
       "        ...,\n",
       "        [173,  73,  84],\n",
       "        [172,  68,  76],\n",
       "        [177,  62,  79]],\n",
       "\n",
       "       [[ 82,  22,  57],\n",
       "        [ 82,  22,  57],\n",
       "        [ 96,  32,  62],\n",
       "        ...,\n",
       "        [179,  70,  79],\n",
       "        [181,  71,  81],\n",
       "        [185,  74,  81]],\n",
       "\n",
       "       [[ 82,  22,  57],\n",
       "        [ 82,  22,  57],\n",
       "        [ 96,  32,  62],\n",
       "        ...,\n",
       "        [179,  70,  79],\n",
       "        [181,  71,  81],\n",
       "        [185,  74,  81]]], dtype=uint8)"
      ]
     },
     "execution_count": 6,
     "metadata": {},
     "output_type": "execute_result"
    }
   ],
   "source": [
    "# some image info:\n",
    "print(type(img))\n",
    "print(img.shape)\n",
    "img\n",
    "\n",
    "\n"
   ]
  },
  {
   "cell_type": "code",
   "execution_count": 7,
   "metadata": {
    "execution": {
     "iopub.execute_input": "2021-10-15T10:44:25.111759Z",
     "iopub.status.busy": "2021-10-15T10:44:25.111759Z",
     "iopub.status.idle": "2021-10-15T10:44:25.221535Z",
     "shell.execute_reply": "2021-10-15T10:44:25.221535Z"
    }
   },
   "outputs": [
    {
     "data": {
      "text/plain": [
       "Text(0.5, 1.0, 'Lenna red channel')"
      ]
     },
     "execution_count": 7,
     "metadata": {},
     "output_type": "execute_result"
    }
   ],
   "source": [
    "# show only red channel\n",
    "plt.figure(figsize=figsize)\n",
    "plt.imshow(img[:, :, 0])\n",
    "plt.title(\"Lenna red channel\")\n",
    "\n",
    "\n"
   ]
  },
  {
   "cell_type": "code",
   "execution_count": 8,
   "metadata": {
    "execution": {
     "iopub.execute_input": "2021-10-15T10:44:25.241849Z",
     "iopub.status.busy": "2021-10-15T10:44:25.241849Z",
     "iopub.status.idle": "2021-10-15T10:44:25.374901Z",
     "shell.execute_reply": "2021-10-15T10:44:25.374901Z"
    }
   },
   "outputs": [
    {
     "data": {
      "text/plain": [
       "Text(0.5, 1.0, 'Absolute pixel\\n scale intensity')"
      ]
     },
     "execution_count": 8,
     "metadata": {},
     "output_type": "execute_result"
    }
   ],
   "source": [
    "# gray color-mapping\n",
    "fig, ax_arr = plt.subplots(1, 2, figsize=figsize)\n",
    "\n",
    "ax_arr[0].imshow(img[:, :, 0], cmap='gray')\n",
    "ax_arr[0].set_title('Auto-adjusted pixel\\n scale intensity')\n",
    "\n",
    "ax_arr[1].imshow(img[:, :, 0], cmap='gray', vmin=0, vmax=255)  # 255 is the max of uint8 type number (== 2**8 -1)\n",
    "ax_arr[1].set_title('Absolute pixel\\n scale intensity')\n",
    "\n"
   ]
  },
  {
   "cell_type": "markdown",
   "metadata": {},
   "source": [
    "## More advanced functions\n",
    "\n"
   ]
  },
  {
   "cell_type": "code",
   "execution_count": 9,
   "metadata": {
    "execution": {
     "iopub.execute_input": "2021-10-15T10:44:25.374901Z",
     "iopub.status.busy": "2021-10-15T10:44:25.374901Z",
     "iopub.status.idle": "2021-10-15T10:44:25.491617Z",
     "shell.execute_reply": "2021-10-15T10:44:25.491617Z"
    }
   },
   "outputs": [
    {
     "data": {
      "text/plain": [
       "Text(0.5, 1.0, 'Lenna blurred')"
      ]
     },
     "execution_count": 9,
     "metadata": {},
     "output_type": "execute_result"
    }
   ],
   "source": [
    "# image blurring\n",
    "img_blurred = cv2.GaussianBlur(img, (15, 15), 7)  # use a 15x15 Gaussian kernel with standard deviation 7\n",
    "plt.figure(figsize=figsize)\n",
    "plt.imshow(img_blurred)\n",
    "plt.title(\"Lenna blurred\")\n",
    "\n",
    "\n"
   ]
  },
  {
   "cell_type": "code",
   "execution_count": 10,
   "metadata": {
    "execution": {
     "iopub.execute_input": "2021-10-15T10:44:25.491617Z",
     "iopub.status.busy": "2021-10-15T10:44:25.491617Z",
     "iopub.status.idle": "2021-10-15T10:44:25.631537Z",
     "shell.execute_reply": "2021-10-15T10:44:25.631537Z"
    }
   },
   "outputs": [
    {
     "data": {
      "text/plain": [
       "Text(0.5, 1.0, 'Lenna edges')"
      ]
     },
     "execution_count": 10,
     "metadata": {},
     "output_type": "execute_result"
    }
   ],
   "source": [
    "# edge detection\n",
    "img_canny = cv2.Canny(img, 180, 200)  # end args are the lower & upper TH of hysteresis\n",
    "plt.figure(figsize=figsize)\n",
    "plt.imshow(img_canny, cmap='gray')\n",
    "plt.title(\"Lenna edges\")\n",
    "\n",
    "\n"
   ]
  },
  {
   "cell_type": "code",
   "execution_count": 11,
   "metadata": {
    "execution": {
     "iopub.execute_input": "2021-10-15T10:44:25.631537Z",
     "iopub.status.busy": "2021-10-15T10:44:25.631537Z",
     "iopub.status.idle": "2021-10-15T10:44:25.775394Z",
     "shell.execute_reply": "2021-10-15T10:44:25.775394Z"
    }
   },
   "outputs": [
    {
     "data": {
      "text/plain": [
       "Text(0.5, 1.0, 'finding circles')"
      ]
     },
     "execution_count": 11,
     "metadata": {},
     "output_type": "execute_result"
    }
   ],
   "source": [
    "# detect circles\n",
    "\n",
    "img = cv2.imread(\"opencv_logo.png\")\n",
    "img = cv2.cvtColor(img, cv2.COLOR_BGR2RGB)\n",
    "\n",
    "\n",
    "img_gray = cv2.cvtColor(img, cv2.COLOR_RGB2GRAY)\n",
    "\n",
    "circles = cv2.HoughCircles(img_gray, cv2.HOUGH_GRADIENT, 0.1, 50,\n",
    "                           param1=50, param2=38)\n",
    "\n",
    "for x, y, r in circles[0, :]:\n",
    "    # draw the outer circle\n",
    "    cv2.circle(img, (int(x), int(y)), int(r), (0, 0, 0), 2)\n",
    "    # draw the center of the circle\n",
    "    cv2.circle(img, (int(x), int(y)), 2, (0, 0, 255), 3)\n",
    "\n",
    "plt.figure(figsize=figsize)\n",
    "plt.imshow(img)\n",
    "plt.title(\"finding circles\")\n"
   ]
  },
  {
   "cell_type": "code",
   "execution_count": null,
   "metadata": {},
   "outputs": [],
   "source": []
  }
 ],
 "metadata": {
  "language_info": {
   "codemirror_mode": {
    "name": "ipython",
    "version": 3
   },
   "file_extension": ".py",
   "mimetype": "text/x-python",
   "name": "python",
   "nbconvert_exporter": "python",
   "pygments_lexer": "ipython3",
   "version": "3.8.11"
  }
 },
 "nbformat": 4,
 "nbformat_minor": 2
}
