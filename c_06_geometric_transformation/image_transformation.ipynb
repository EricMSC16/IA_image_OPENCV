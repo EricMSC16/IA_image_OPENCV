{
 "cells": [
  {
   "cell_type": "markdown",
   "metadata": {},
   "source": [
    "# Image transformation\n",
    "[![Open In Colab](https://colab.research.google.com/assets/colab-badge.svg)](https://colab.research.google.com/github/YoniChechik/AI_is_Math/blob/master/c_06_geometric_transformation/image_transformation.ipynb)\n",
    "\n"
   ]
  },
  {
   "cell_type": "code",
   "execution_count": 1,
   "metadata": {
    "execution": {
     "iopub.execute_input": "2021-08-21T21:21:10.371469Z",
     "iopub.status.busy": "2021-08-21T21:21:10.371469Z",
     "iopub.status.idle": "2021-08-21T21:21:10.763731Z",
     "shell.execute_reply": "2021-08-21T21:21:10.763731Z"
    }
   },
   "outputs": [],
   "source": [
    "import numpy as np\n",
    "import matplotlib.pyplot as plt\n",
    "\n",
    "figsize = (10,10)\n",
    "\n"
   ]
  },
  {
   "cell_type": "markdown",
   "metadata": {},
   "source": [
    "## Start by building our basic default points to test on\n"
   ]
  },
  {
   "cell_type": "code",
   "execution_count": 2,
   "metadata": {
    "execution": {
     "iopub.execute_input": "2021-08-21T21:21:10.794730Z",
     "iopub.status.busy": "2021-08-21T21:21:10.794730Z",
     "iopub.status.idle": "2021-08-21T21:21:10.811758Z",
     "shell.execute_reply": "2021-08-21T21:21:10.810796Z"
    }
   },
   "outputs": [
    {
     "name": "stdout",
     "output_type": "stream",
     "text": [
      "(2, 200)\n"
     ]
    },
    {
     "data": {
      "text/plain": [
       "array([[ 0,  1,  2,  3,  4,  5,  6,  7,  8,  9, 10, 11, 12, 13, 14, 15,\n",
       "        16, 17, 18, 19,  0,  1,  2,  3,  4,  5,  6,  7,  8,  9, 10, 11,\n",
       "        12, 13, 14, 15, 16, 17, 18, 19,  0,  1,  2,  3,  4,  5,  6,  7,\n",
       "         8,  9, 10, 11, 12, 13, 14, 15, 16, 17, 18, 19,  0,  1,  2,  3,\n",
       "         4,  5,  6,  7,  8,  9, 10, 11, 12, 13, 14, 15, 16, 17, 18, 19,\n",
       "         0,  1,  2,  3,  4,  5,  6,  7,  8,  9, 10, 11, 12, 13, 14, 15,\n",
       "        16, 17, 18, 19,  0,  1,  2,  3,  4,  5,  6,  7,  8,  9, 10, 11,\n",
       "        12, 13, 14, 15, 16, 17, 18, 19,  0,  1,  2,  3,  4,  5,  6,  7,\n",
       "         8,  9, 10, 11, 12, 13, 14, 15, 16, 17, 18, 19,  0,  1,  2,  3,\n",
       "         4,  5,  6,  7,  8,  9, 10, 11, 12, 13, 14, 15, 16, 17, 18, 19,\n",
       "         0,  1,  2,  3,  4,  5,  6,  7,  8,  9, 10, 11, 12, 13, 14, 15,\n",
       "        16, 17, 18, 19,  0,  1,  2,  3,  4,  5,  6,  7,  8,  9, 10, 11,\n",
       "        12, 13, 14, 15, 16, 17, 18, 19],\n",
       "       [ 0,  0,  0,  0,  0,  0,  0,  0,  0,  0,  0,  0,  0,  0,  0,  0,\n",
       "         0,  0,  0,  0,  1,  1,  1,  1,  1,  1,  1,  1,  1,  1,  1,  1,\n",
       "         1,  1,  1,  1,  1,  1,  1,  1,  2,  2,  2,  2,  2,  2,  2,  2,\n",
       "         2,  2,  2,  2,  2,  2,  2,  2,  2,  2,  2,  2,  3,  3,  3,  3,\n",
       "         3,  3,  3,  3,  3,  3,  3,  3,  3,  3,  3,  3,  3,  3,  3,  3,\n",
       "         4,  4,  4,  4,  4,  4,  4,  4,  4,  4,  4,  4,  4,  4,  4,  4,\n",
       "         4,  4,  4,  4,  5,  5,  5,  5,  5,  5,  5,  5,  5,  5,  5,  5,\n",
       "         5,  5,  5,  5,  5,  5,  5,  5,  6,  6,  6,  6,  6,  6,  6,  6,\n",
       "         6,  6,  6,  6,  6,  6,  6,  6,  6,  6,  6,  6,  7,  7,  7,  7,\n",
       "         7,  7,  7,  7,  7,  7,  7,  7,  7,  7,  7,  7,  7,  7,  7,  7,\n",
       "         8,  8,  8,  8,  8,  8,  8,  8,  8,  8,  8,  8,  8,  8,  8,  8,\n",
       "         8,  8,  8,  8,  9,  9,  9,  9,  9,  9,  9,  9,  9,  9,  9,  9,\n",
       "         9,  9,  9,  9,  9,  9,  9,  9]])"
      ]
     },
     "execution_count": 2,
     "metadata": {},
     "output_type": "execute_result"
    }
   ],
   "source": [
    "x_max = 20\n",
    "y_max = 10\n",
    "x_arr, y_arr = np.meshgrid(np.arange(x_max), np.arange(y_max))\n",
    "x_arr = x_arr.flatten().reshape(1, -1)\n",
    "y_arr = y_arr.flatten().reshape(1, -1)\n",
    "xy = np.concatenate((x_arr, y_arr), axis=0)\n",
    "\n",
    "print(xy.shape)\n",
    "xy\n"
   ]
  },
  {
   "cell_type": "code",
   "execution_count": 3,
   "metadata": {
    "execution": {
     "iopub.execute_input": "2021-08-21T21:21:10.824731Z",
     "iopub.status.busy": "2021-08-21T21:21:10.823767Z",
     "iopub.status.idle": "2021-08-21T21:21:10.907731Z",
     "shell.execute_reply": "2021-08-21T21:21:10.907731Z"
    }
   },
   "outputs": [
    {
     "data": {
      "text/plain": [
       "Text(0.5, 1.0, 'Original points')"
      ]
     },
     "execution_count": 3,
     "metadata": {},
     "output_type": "execute_result"
    }
   ],
   "source": [
    "plt.figure(figsize=figsize)\n",
    "plt.scatter(xy[0, :], xy[1, :])\n",
    "plt.title(\"Original points\")\n"
   ]
  },
  {
   "cell_type": "markdown",
   "metadata": {},
   "source": [
    "## Scale\n"
   ]
  },
  {
   "cell_type": "code",
   "execution_count": 4,
   "metadata": {
    "execution": {
     "iopub.execute_input": "2021-08-21T21:21:10.912747Z",
     "iopub.status.busy": "2021-08-21T21:21:10.911768Z",
     "iopub.status.idle": "2021-08-21T21:21:10.922768Z",
     "shell.execute_reply": "2021-08-21T21:21:10.922768Z"
    }
   },
   "outputs": [
    {
     "data": {
      "text/plain": [
       "array([[2, 0],\n",
       "       [0, 3]])"
      ]
     },
     "execution_count": 4,
     "metadata": {},
     "output_type": "execute_result"
    }
   ],
   "source": [
    "sx = 2\n",
    "sy = 3\n",
    "M_scale = np.array([[sx, 0],\n",
    "                    [0, sy]])\n",
    "M_scale\n"
   ]
  },
  {
   "cell_type": "code",
   "execution_count": 5,
   "metadata": {
    "execution": {
     "iopub.execute_input": "2021-08-21T21:21:10.937768Z",
     "iopub.status.busy": "2021-08-21T21:21:10.937768Z",
     "iopub.status.idle": "2021-08-21T21:21:10.986732Z",
     "shell.execute_reply": "2021-08-21T21:21:10.986732Z"
    }
   },
   "outputs": [
    {
     "data": {
      "text/plain": [
       "Text(0.5, 1.0, 'Scaled points')"
      ]
     },
     "execution_count": 5,
     "metadata": {},
     "output_type": "execute_result"
    }
   ],
   "source": [
    "xy_scaled = M_scale@xy\n",
    "\n",
    "plt.figure(figsize=figsize)\n",
    "plt.scatter(xy[0, :], xy[1, :])\n",
    "plt.scatter(xy_scaled[0, :], xy_scaled[1, :], marker='*')\n",
    "plt.title(\"Scaled points\")\n",
    "\n",
    "\n"
   ]
  },
  {
   "cell_type": "markdown",
   "metadata": {},
   "source": [
    "## Rotate\n"
   ]
  },
  {
   "cell_type": "code",
   "execution_count": 6,
   "metadata": {
    "execution": {
     "iopub.execute_input": "2021-08-21T21:21:10.991762Z",
     "iopub.status.busy": "2021-08-21T21:21:10.991762Z",
     "iopub.status.idle": "2021-08-21T21:21:11.001774Z",
     "shell.execute_reply": "2021-08-21T21:21:11.001774Z"
    }
   },
   "outputs": [
    {
     "data": {
      "text/plain": [
       "array([[-1.0000000e+00, -1.2246468e-16],\n",
       "       [ 1.2246468e-16, -1.0000000e+00]])"
      ]
     },
     "execution_count": 6,
     "metadata": {},
     "output_type": "execute_result"
    }
   ],
   "source": [
    "\n",
    "\n",
    "def rot_mat(theta):\n",
    "    c = np.cos(theta)\n",
    "    s = np.sin(theta)\n",
    "    return np.array([[c, -s],\n",
    "                     [s,  c]])\n",
    "\n",
    "\n",
    "rot_mat(np.pi)\n",
    "\n"
   ]
  },
  {
   "cell_type": "code",
   "execution_count": 7,
   "metadata": {
    "execution": {
     "iopub.execute_input": "2021-08-21T21:21:11.023732Z",
     "iopub.status.busy": "2021-08-21T21:21:11.023732Z",
     "iopub.status.idle": "2021-08-21T21:21:11.080770Z",
     "shell.execute_reply": "2021-08-21T21:21:11.080770Z"
    }
   },
   "outputs": [
    {
     "data": {
      "text/plain": [
       "Text(0.5, 1.0, 'Rotated points 90 degrees')"
      ]
     },
     "execution_count": 7,
     "metadata": {},
     "output_type": "execute_result"
    }
   ],
   "source": [
    "theta = np.pi/2\n",
    "xy_rotate = rot_mat(theta) @xy\n",
    "\n",
    "plt.figure(figsize=figsize)\n",
    "plt.scatter(xy[0, :], xy[1, :])\n",
    "plt.scatter(xy_rotate[0, :], xy_rotate[1, :], marker='*')\n",
    "plt.title(\"Rotated points 90 degrees\")\n",
    "\n"
   ]
  },
  {
   "cell_type": "code",
   "execution_count": 8,
   "metadata": {
    "execution": {
     "iopub.execute_input": "2021-08-21T21:21:11.101768Z",
     "iopub.status.busy": "2021-08-21T21:21:11.094731Z",
     "iopub.status.idle": "2021-08-21T21:21:11.159767Z",
     "shell.execute_reply": "2021-08-21T21:21:11.158732Z"
    }
   },
   "outputs": [
    {
     "data": {
      "text/plain": [
       "Text(0.5, 1.0, 'Scaled points 45 degrees')"
      ]
     },
     "execution_count": 8,
     "metadata": {},
     "output_type": "execute_result"
    }
   ],
   "source": [
    "theta = np.pi/4\n",
    "xy_rotate = rot_mat(theta) @xy\n",
    "\n",
    "plt.figure(figsize=figsize)\n",
    "plt.scatter(xy[0, :], xy[1, :])\n",
    "plt.scatter(xy_rotate[0, :], xy_rotate[1, :], marker='*')\n",
    "plt.title(\"Scaled points 45 degrees\")\n",
    "\n",
    "\n"
   ]
  },
  {
   "cell_type": "markdown",
   "metadata": {},
   "source": [
    "## Shear\n",
    "\n"
   ]
  },
  {
   "cell_type": "code",
   "execution_count": 9,
   "metadata": {
    "execution": {
     "iopub.execute_input": "2021-08-21T21:21:11.163767Z",
     "iopub.status.busy": "2021-08-21T21:21:11.162767Z",
     "iopub.status.idle": "2021-08-21T21:21:11.174761Z",
     "shell.execute_reply": "2021-08-21T21:21:11.175767Z"
    }
   },
   "outputs": [
    {
     "data": {
      "text/plain": [
       "array([[1, 2],\n",
       "       [0, 1]])"
      ]
     },
     "execution_count": 9,
     "metadata": {},
     "output_type": "execute_result"
    }
   ],
   "source": [
    "shear_x = 2\n",
    "shear_y = 0\n",
    "M_shear = np.array([[1, shear_x],\n",
    "                    [shear_y, 1]])\n",
    "M_shear\n"
   ]
  },
  {
   "cell_type": "code",
   "execution_count": 10,
   "metadata": {
    "execution": {
     "iopub.execute_input": "2021-08-21T21:21:11.194767Z",
     "iopub.status.busy": "2021-08-21T21:21:11.188767Z",
     "iopub.status.idle": "2021-08-21T21:21:11.239767Z",
     "shell.execute_reply": "2021-08-21T21:21:11.239767Z"
    }
   },
   "outputs": [
    {
     "data": {
      "text/plain": [
       "Text(0.5, 1.0, 'Sheared points')"
      ]
     },
     "execution_count": 10,
     "metadata": {},
     "output_type": "execute_result"
    }
   ],
   "source": [
    "xy_sheared = M_shear@xy\n",
    "\n",
    "plt.figure(figsize=figsize)\n",
    "plt.scatter(xy[0, :], xy[1, :])\n",
    "plt.scatter(xy_sheared[0, :], xy_sheared[1, :], marker='*')\n",
    "plt.title(\"Sheared points\")\n",
    "\n"
   ]
  },
  {
   "cell_type": "markdown",
   "metadata": {},
   "source": [
    "## Translate\n",
    "\n"
   ]
  },
  {
   "cell_type": "code",
   "execution_count": 11,
   "metadata": {
    "execution": {
     "iopub.execute_input": "2021-08-21T21:21:11.248731Z",
     "iopub.status.busy": "2021-08-21T21:21:11.247774Z",
     "iopub.status.idle": "2021-08-21T21:21:11.255731Z",
     "shell.execute_reply": "2021-08-21T21:21:11.255731Z"
    }
   },
   "outputs": [
    {
     "data": {
      "text/plain": [
       "array([[ 0.,  1.,  2.,  3.,  4.,  5.,  6.,  7.,  8.,  9., 10., 11., 12.,\n",
       "        13., 14., 15., 16., 17., 18., 19.,  0.,  1.,  2.,  3.,  4.,  5.,\n",
       "         6.,  7.,  8.,  9., 10., 11., 12., 13., 14., 15., 16., 17., 18.,\n",
       "        19.,  0.,  1.,  2.,  3.,  4.,  5.,  6.,  7.,  8.,  9., 10., 11.,\n",
       "        12., 13., 14., 15., 16., 17., 18., 19.,  0.,  1.,  2.,  3.,  4.,\n",
       "         5.,  6.,  7.,  8.,  9., 10., 11., 12., 13., 14., 15., 16., 17.,\n",
       "        18., 19.,  0.,  1.,  2.,  3.,  4.,  5.,  6.,  7.,  8.,  9., 10.,\n",
       "        11., 12., 13., 14., 15., 16., 17., 18., 19.,  0.,  1.,  2.,  3.,\n",
       "         4.,  5.,  6.,  7.,  8.,  9., 10., 11., 12., 13., 14., 15., 16.,\n",
       "        17., 18., 19.,  0.,  1.,  2.,  3.,  4.,  5.,  6.,  7.,  8.,  9.,\n",
       "        10., 11., 12., 13., 14., 15., 16., 17., 18., 19.,  0.,  1.,  2.,\n",
       "         3.,  4.,  5.,  6.,  7.,  8.,  9., 10., 11., 12., 13., 14., 15.,\n",
       "        16., 17., 18., 19.,  0.,  1.,  2.,  3.,  4.,  5.,  6.,  7.,  8.,\n",
       "         9., 10., 11., 12., 13., 14., 15., 16., 17., 18., 19.,  0.,  1.,\n",
       "         2.,  3.,  4.,  5.,  6.,  7.,  8.,  9., 10., 11., 12., 13., 14.,\n",
       "        15., 16., 17., 18., 19.],\n",
       "       [ 0.,  0.,  0.,  0.,  0.,  0.,  0.,  0.,  0.,  0.,  0.,  0.,  0.,\n",
       "         0.,  0.,  0.,  0.,  0.,  0.,  0.,  1.,  1.,  1.,  1.,  1.,  1.,\n",
       "         1.,  1.,  1.,  1.,  1.,  1.,  1.,  1.,  1.,  1.,  1.,  1.,  1.,\n",
       "         1.,  2.,  2.,  2.,  2.,  2.,  2.,  2.,  2.,  2.,  2.,  2.,  2.,\n",
       "         2.,  2.,  2.,  2.,  2.,  2.,  2.,  2.,  3.,  3.,  3.,  3.,  3.,\n",
       "         3.,  3.,  3.,  3.,  3.,  3.,  3.,  3.,  3.,  3.,  3.,  3.,  3.,\n",
       "         3.,  3.,  4.,  4.,  4.,  4.,  4.,  4.,  4.,  4.,  4.,  4.,  4.,\n",
       "         4.,  4.,  4.,  4.,  4.,  4.,  4.,  4.,  4.,  5.,  5.,  5.,  5.,\n",
       "         5.,  5.,  5.,  5.,  5.,  5.,  5.,  5.,  5.,  5.,  5.,  5.,  5.,\n",
       "         5.,  5.,  5.,  6.,  6.,  6.,  6.,  6.,  6.,  6.,  6.,  6.,  6.,\n",
       "         6.,  6.,  6.,  6.,  6.,  6.,  6.,  6.,  6.,  6.,  7.,  7.,  7.,\n",
       "         7.,  7.,  7.,  7.,  7.,  7.,  7.,  7.,  7.,  7.,  7.,  7.,  7.,\n",
       "         7.,  7.,  7.,  7.,  8.,  8.,  8.,  8.,  8.,  8.,  8.,  8.,  8.,\n",
       "         8.,  8.,  8.,  8.,  8.,  8.,  8.,  8.,  8.,  8.,  8.,  9.,  9.,\n",
       "         9.,  9.,  9.,  9.,  9.,  9.,  9.,  9.,  9.,  9.,  9.,  9.,  9.,\n",
       "         9.,  9.,  9.,  9.,  9.],\n",
       "       [ 1.,  1.,  1.,  1.,  1.,  1.,  1.,  1.,  1.,  1.,  1.,  1.,  1.,\n",
       "         1.,  1.,  1.,  1.,  1.,  1.,  1.,  1.,  1.,  1.,  1.,  1.,  1.,\n",
       "         1.,  1.,  1.,  1.,  1.,  1.,  1.,  1.,  1.,  1.,  1.,  1.,  1.,\n",
       "         1.,  1.,  1.,  1.,  1.,  1.,  1.,  1.,  1.,  1.,  1.,  1.,  1.,\n",
       "         1.,  1.,  1.,  1.,  1.,  1.,  1.,  1.,  1.,  1.,  1.,  1.,  1.,\n",
       "         1.,  1.,  1.,  1.,  1.,  1.,  1.,  1.,  1.,  1.,  1.,  1.,  1.,\n",
       "         1.,  1.,  1.,  1.,  1.,  1.,  1.,  1.,  1.,  1.,  1.,  1.,  1.,\n",
       "         1.,  1.,  1.,  1.,  1.,  1.,  1.,  1.,  1.,  1.,  1.,  1.,  1.,\n",
       "         1.,  1.,  1.,  1.,  1.,  1.,  1.,  1.,  1.,  1.,  1.,  1.,  1.,\n",
       "         1.,  1.,  1.,  1.,  1.,  1.,  1.,  1.,  1.,  1.,  1.,  1.,  1.,\n",
       "         1.,  1.,  1.,  1.,  1.,  1.,  1.,  1.,  1.,  1.,  1.,  1.,  1.,\n",
       "         1.,  1.,  1.,  1.,  1.,  1.,  1.,  1.,  1.,  1.,  1.,  1.,  1.,\n",
       "         1.,  1.,  1.,  1.,  1.,  1.,  1.,  1.,  1.,  1.,  1.,  1.,  1.,\n",
       "         1.,  1.,  1.,  1.,  1.,  1.,  1.,  1.,  1.,  1.,  1.,  1.,  1.,\n",
       "         1.,  1.,  1.,  1.,  1.,  1.,  1.,  1.,  1.,  1.,  1.,  1.,  1.,\n",
       "         1.,  1.,  1.,  1.,  1.]])"
      ]
     },
     "execution_count": 11,
     "metadata": {},
     "output_type": "execute_result"
    }
   ],
   "source": [
    "xy1 = np.concatenate((xy, np.ones((1, xy.shape[1]))), axis=0)\n",
    "\n",
    "xy1\n",
    "\n"
   ]
  },
  {
   "cell_type": "code",
   "execution_count": 12,
   "metadata": {
    "execution": {
     "iopub.execute_input": "2021-08-21T21:21:11.259730Z",
     "iopub.status.busy": "2021-08-21T21:21:11.259730Z",
     "iopub.status.idle": "2021-08-21T21:21:11.270799Z",
     "shell.execute_reply": "2021-08-21T21:21:11.271768Z"
    }
   },
   "outputs": [
    {
     "data": {
      "text/plain": [
       "array([[ 1. ,  0. , 12.5],\n",
       "       [ 0. ,  1. , -4. ],\n",
       "       [ 0. ,  0. ,  1. ]])"
      ]
     },
     "execution_count": 12,
     "metadata": {},
     "output_type": "execute_result"
    }
   ],
   "source": [
    "t_x = 12.5\n",
    "t_y = -4\n",
    "M_t = np.array([[1, 0, t_x],\n",
    "                [0, 1, t_y],\n",
    "                [0, 0, 1]])\n",
    "\n",
    "M_t\n"
   ]
  },
  {
   "cell_type": "code",
   "execution_count": 13,
   "metadata": {
    "execution": {
     "iopub.execute_input": "2021-08-21T21:21:11.293767Z",
     "iopub.status.busy": "2021-08-21T21:21:11.292783Z",
     "iopub.status.idle": "2021-08-21T21:21:11.334732Z",
     "shell.execute_reply": "2021-08-21T21:21:11.334732Z"
    }
   },
   "outputs": [
    {
     "data": {
      "text/plain": [
       "Text(0.5, 1.0, 'Translated points')"
      ]
     },
     "execution_count": 13,
     "metadata": {},
     "output_type": "execute_result"
    }
   ],
   "source": [
    "xy1_translated = M_t@xy1\n",
    "\n",
    "plt.figure(figsize=figsize)\n",
    "plt.scatter(xy1[0, :], xy1[1, :])\n",
    "# no need to do hear homogenous normalization...\n",
    "plt.scatter(xy1_translated[0, :], xy1_translated[1, :], marker='*')\n",
    "plt.title(\"Translated points\")\n",
    "\n"
   ]
  },
  {
   "cell_type": "markdown",
   "metadata": {},
   "source": [
    "## Matrix concatenation\n",
    "\n"
   ]
  },
  {
   "cell_type": "code",
   "execution_count": 14,
   "metadata": {
    "execution": {
     "iopub.execute_input": "2021-08-21T21:21:11.357768Z",
     "iopub.status.busy": "2021-08-21T21:21:11.356744Z",
     "iopub.status.idle": "2021-08-21T21:21:11.412768Z",
     "shell.execute_reply": "2021-08-21T21:21:11.412768Z"
    }
   },
   "outputs": [
    {
     "data": {
      "text/plain": [
       "Text(0.5, 1.0, 'Scaled and then translated points')"
      ]
     },
     "execution_count": 14,
     "metadata": {},
     "output_type": "execute_result"
    }
   ],
   "source": [
    "s_x = 2\n",
    "s_y = 3.5\n",
    "M_scale = np.array([[s_x, 0, 0],\n",
    "                    [0, s_y, 0],\n",
    "                    [0, 0, 1]])\n",
    "\n",
    "xy1_s_then_t = M_t@M_scale@xy1\n",
    "\n",
    "plt.figure(figsize=figsize)\n",
    "plt.scatter(xy1[0, :], xy1[1, :])\n",
    "# no need to do hear homogenous normalization...\n",
    "plt.scatter(xy1_s_then_t[0, :], xy1_s_then_t[1, :], marker='*')\n",
    "plt.title(\"Scaled and then translated points\")\n",
    "\n",
    "\n"
   ]
  },
  {
   "cell_type": "code",
   "execution_count": 15,
   "metadata": {
    "execution": {
     "iopub.execute_input": "2021-08-21T21:21:11.427767Z",
     "iopub.status.busy": "2021-08-21T21:21:11.425767Z",
     "iopub.status.idle": "2021-08-21T21:21:11.490768Z",
     "shell.execute_reply": "2021-08-21T21:21:11.489767Z"
    }
   },
   "outputs": [
    {
     "data": {
      "text/plain": [
       "Text(0.5, 1.0, 'Translated and then scaled points')"
      ]
     },
     "execution_count": 15,
     "metadata": {},
     "output_type": "execute_result"
    }
   ],
   "source": [
    "xy1_t_then_s = M_scale@M_t@xy1\n",
    "\n",
    "plt.figure(figsize=figsize)\n",
    "plt.scatter(xy1[0, :], xy1[1, :])\n",
    "# no need to do hear homogenous normalization...\n",
    "plt.scatter(xy1_t_then_s[0, :], xy1_t_then_s[1, :], marker='*')\n",
    "plt.title(\"Translated and then scaled points\")\n",
    "\n"
   ]
  },
  {
   "cell_type": "markdown",
   "metadata": {},
   "source": [
    "## Projective transformation\n",
    "\n"
   ]
  },
  {
   "cell_type": "code",
   "execution_count": 16,
   "metadata": {
    "execution": {
     "iopub.execute_input": "2021-08-21T21:21:11.494788Z",
     "iopub.status.busy": "2021-08-21T21:21:11.493767Z",
     "iopub.status.idle": "2021-08-21T21:21:11.506767Z",
     "shell.execute_reply": "2021-08-21T21:21:11.505772Z"
    }
   },
   "outputs": [
    {
     "data": {
      "text/plain": [
       "array([[ 1,  0,  0],\n",
       "       [ 0, 20,  0],\n",
       "       [ 0,  2,  1]])"
      ]
     },
     "execution_count": 16,
     "metadata": {},
     "output_type": "execute_result"
    }
   ],
   "source": [
    "\n",
    "M_p = np.array([[1, 0, 0],\n",
    "                [0, 20, 0],\n",
    "                [0, 2, 1]])\n",
    "\n",
    "M_p\n"
   ]
  },
  {
   "cell_type": "code",
   "execution_count": 17,
   "metadata": {
    "execution": {
     "iopub.execute_input": "2021-08-21T21:21:11.527768Z",
     "iopub.status.busy": "2021-08-21T21:21:11.526767Z",
     "iopub.status.idle": "2021-08-21T21:21:11.569771Z",
     "shell.execute_reply": "2021-08-21T21:21:11.568782Z"
    }
   },
   "outputs": [
    {
     "data": {
      "text/plain": [
       "Text(0.5, 1.0, 'Projected points')"
      ]
     },
     "execution_count": 17,
     "metadata": {},
     "output_type": "execute_result"
    }
   ],
   "source": [
    "xy1_p = M_p@xy1\n",
    "\n",
    "plt.figure(figsize=figsize)\n",
    "plt.scatter(xy1[0, :], xy1[1, :])\n",
    "#here we MUST do homogenous normalization!!!\n",
    "plt.scatter(xy1_p[0, :]/xy1_p[2, :],\n",
    "            xy1_p[1, :]/xy1_p[2, :],\n",
    "            marker='*')\n",
    "plt.title(\"Projected points\")\n",
    "\n",
    "\n"
   ]
  },
  {
   "cell_type": "code",
   "execution_count": null,
   "metadata": {},
   "outputs": [],
   "source": []
  }
 ],
 "metadata": {
  "language_info": {
   "codemirror_mode": {
    "name": "ipython",
    "version": 3
   },
   "file_extension": ".py",
   "mimetype": "text/x-python",
   "name": "python",
   "nbconvert_exporter": "python",
   "pygments_lexer": "ipython3",
   "version": "3.8.11"
  }
 },
 "nbformat": 4,
 "nbformat_minor": 2
}
