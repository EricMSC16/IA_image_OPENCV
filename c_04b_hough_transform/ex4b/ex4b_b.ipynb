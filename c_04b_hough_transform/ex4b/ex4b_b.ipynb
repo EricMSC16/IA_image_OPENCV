{
  "cells": [
    {
      "cell_type": "markdown",
      "metadata": {},
      "source": [
        "Let's identify coins!\n",
        "in the image given below we want to detect each coin currency,\n",
        "and we'll do it with cv2.HoughCircles!\n",
        "\n"
      ]
    },
    {
      "cell_type": "code",
      "metadata": {},
      "source": [
        "# to run in google colab\n",
        "import sys\n",
        "\n",
        "if \"google.colab\" in sys.modules:\n",
        "\n",
        "    def download_from_web(url):\n",
        "        import requests\n",
        "\n",
        "        response = requests.get(url)\n",
        "        if response.status_code == 200:\n",
        "            with open(url.split(\"/\")[-1], \"wb\") as file:\n",
        "                file.write(response.content)\n",
        "        else:\n",
        "            raise Exception(\n",
        "                f\"Failed to download the image. Status code: {response.status_code}\"\n",
        "            )\n",
        "\n",
        "    download_from_web(\n",
        "        \"https://github.com/YoniChechik/AI_is_Math/raw/master/c_04b_hough_transform/ex4b/coins.png\"\n",
        "    )\n",
        "\n",
        "\n"
      ],
      "outputs": [],
      "execution_count": null
    },
    {
      "cell_type": "code",
      "metadata": {},
      "source": [
        "import cv2\n",
        "from matplotlib import pyplot as plt\n",
        "\n",
        "figsize = (10, 10)\n",
        "\n"
      ],
      "outputs": [],
      "execution_count": null
    },
    {
      "cell_type": "code",
      "metadata": {},
      "source": [
        "im3 = cv2.imread(\"coins.png\")\n",
        "im3 = cv2.cvtColor(im3, cv2.COLOR_BGR2RGB)\n",
        "im = cv2.cvtColor(im3, cv2.COLOR_RGB2GRAY)\n",
        "res = im3.copy()\n",
        "\n",
        "# TODO: fill in the best values possible\n",
        "# to detect the right circle dimeter and place\n",
        "acc_ratio = None\n",
        "min_dist = None\n",
        "canny_upper_th = None\n",
        "acc_th = None\n",
        "circles = cv2.HoughCircles(\n",
        "    im,\n",
        "    cv2.HOUGH_GRADIENT,\n",
        "    acc_ratio,\n",
        "    min_dist,\n",
        "    param1=canny_upper_th,\n",
        "    param2=acc_th,\n",
        "    minRadius=None,\n",
        "    maxRadius=None,\n",
        ")\n",
        "\n",
        "# === font vars\n",
        "font = cv2.FONT_HERSHEY_SIMPLEX\n",
        "bottomLeftCornerOfText = (10, 500)\n",
        "fontScale = 0.8\n",
        "fontColor = (0, 0, 0)\n",
        "lineType = 2\n",
        "\n",
        "# ==== for each detected circle\n",
        "for xyr in circles[0, :]:\n",
        "    # draw the outer circle\n",
        "    res = cv2.circle(res, (xyr[0], xyr[1]), xyr[2], (0, 255, 0), 3)\n",
        "\n",
        "    # TODO: write currency type on each coin.\n",
        "    # use cv2.putText() and the font vars above.\n",
        "    # If you need, different coin sizes can be found here:\n",
        "    # https://avocadoughtoast.com/weights-sizes-us-coins/\n",
        "    pass\n",
        "\n",
        "\n",
        "plt.figure(figsize=figsize)\n",
        "plt.imshow(res)\n",
        "plt.title(\"final result- coins detection\")\n",
        "plt.show()\n",
        "\n"
      ],
      "outputs": [],
      "execution_count": null
    },
    {
      "cell_type": "code",
      "metadata": {},
      "source": [],
      "outputs": [],
      "execution_count": null
    }
  ],
  "metadata": {
    "language_info": {
      "codemirror_mode": {
        "name": "ipython",
        "version": 3
      },
      "file_extension": ".py",
      "mimetype": "text/x-python",
      "name": "python",
      "nbconvert_exporter": "python",
      "pygments_lexer": "ipython3",
      "version": "3"
    }
  },
  "nbformat": 4,
  "nbformat_minor": 2
}